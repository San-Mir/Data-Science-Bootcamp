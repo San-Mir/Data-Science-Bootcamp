{
 "cells": [
  {
   "cell_type": "markdown",
   "id": "15ad74de-69af-4cff-977f-bbabe341edbf",
   "metadata": {},
   "source": [
    "# **Exploratory Data Analysis**"
   ]
  },
  {
   "cell_type": "code",
   "execution_count": 96,
   "id": "32d62ebb-902e-4f85-94d7-188862da15b8",
   "metadata": {
    "tags": []
   },
   "outputs": [],
   "source": [
    "import os\n",
    "import glob\n",
    "import numpy as np\n",
    "import pandas as pd\n",
    "import seaborn as sns\n",
    "import plotly.express as px\n",
    "import matplotlib\n",
    "from matplotlib import pyplot as plt\n",
    "from matplotlib.pylab import rcParams\n",
    "rcParams['figure.figsize'] = 12,8\n",
    "import warnings\n",
    "warnings.filterwarnings(\"ignore\")"
   ]
  },
  {
   "cell_type": "code",
   "execution_count": 98,
   "id": "e5d1e72f-5e1a-4b21-a3c6-22bfcaa4544c",
   "metadata": {
    "tags": []
   },
   "outputs": [
    {
     "data": {
      "text/html": [
       "<div>\n",
       "<style scoped>\n",
       "    .dataframe tbody tr th:only-of-type {\n",
       "        vertical-align: middle;\n",
       "    }\n",
       "\n",
       "    .dataframe tbody tr th {\n",
       "        vertical-align: top;\n",
       "    }\n",
       "\n",
       "    .dataframe thead th {\n",
       "        text-align: right;\n",
       "    }\n",
       "</style>\n",
       "<table border=\"1\" class=\"dataframe\">\n",
       "  <thead>\n",
       "    <tr style=\"text-align: right;\">\n",
       "      <th></th>\n",
       "      <th>customer_no</th>\n",
       "      <th>location</th>\n",
       "    </tr>\n",
       "    <tr>\n",
       "      <th>timestamp</th>\n",
       "      <th></th>\n",
       "      <th></th>\n",
       "    </tr>\n",
       "  </thead>\n",
       "  <tbody>\n",
       "    <tr>\n",
       "      <th>2019-02-09 07:03:00</th>\n",
       "      <td>1</td>\n",
       "      <td>dairy</td>\n",
       "    </tr>\n",
       "    <tr>\n",
       "      <th>2019-02-09 07:03:00</th>\n",
       "      <td>2</td>\n",
       "      <td>dairy</td>\n",
       "    </tr>\n",
       "    <tr>\n",
       "      <th>2019-02-09 07:04:00</th>\n",
       "      <td>3</td>\n",
       "      <td>dairy</td>\n",
       "    </tr>\n",
       "    <tr>\n",
       "      <th>2019-02-09 07:04:00</th>\n",
       "      <td>4</td>\n",
       "      <td>dairy</td>\n",
       "    </tr>\n",
       "    <tr>\n",
       "      <th>2019-02-09 07:04:00</th>\n",
       "      <td>5</td>\n",
       "      <td>spices</td>\n",
       "    </tr>\n",
       "  </tbody>\n",
       "</table>\n",
       "</div>"
      ],
      "text/plain": [
       "                     customer_no location\n",
       "timestamp                                \n",
       "2019-02-09 07:03:00            1    dairy\n",
       "2019-02-09 07:03:00            2    dairy\n",
       "2019-02-09 07:04:00            3    dairy\n",
       "2019-02-09 07:04:00            4    dairy\n",
       "2019-02-09 07:04:00            5   spices"
      ]
     },
     "execution_count": 98,
     "metadata": {},
     "output_type": "execute_result"
    }
   ],
   "source": [
    "monday.head()"
   ]
  },
  {
   "cell_type": "code",
   "execution_count": 6,
   "id": "931ce507-adc4-4a42-a403-31b9b0abbd43",
   "metadata": {
    "tags": []
   },
   "outputs": [
    {
     "data": {
      "text/html": [
       "<div>\n",
       "<style scoped>\n",
       "    .dataframe tbody tr th:only-of-type {\n",
       "        vertical-align: middle;\n",
       "    }\n",
       "\n",
       "    .dataframe tbody tr th {\n",
       "        vertical-align: top;\n",
       "    }\n",
       "\n",
       "    .dataframe thead th {\n",
       "        text-align: right;\n",
       "    }\n",
       "</style>\n",
       "<table border=\"1\" class=\"dataframe\">\n",
       "  <thead>\n",
       "    <tr style=\"text-align: right;\">\n",
       "      <th></th>\n",
       "      <th>customer_no</th>\n",
       "      <th>location</th>\n",
       "    </tr>\n",
       "    <tr>\n",
       "      <th>timestamp</th>\n",
       "      <th></th>\n",
       "      <th></th>\n",
       "    </tr>\n",
       "  </thead>\n",
       "  <tbody>\n",
       "    <tr>\n",
       "      <th>2019-09-03 07:02:00</th>\n",
       "      <td>1</td>\n",
       "      <td>fruit</td>\n",
       "    </tr>\n",
       "    <tr>\n",
       "      <th>2019-09-03 07:02:00</th>\n",
       "      <td>2</td>\n",
       "      <td>drinks</td>\n",
       "    </tr>\n",
       "    <tr>\n",
       "      <th>2019-09-03 07:03:00</th>\n",
       "      <td>3</td>\n",
       "      <td>dairy</td>\n",
       "    </tr>\n",
       "    <tr>\n",
       "      <th>2019-09-03 07:05:00</th>\n",
       "      <td>1</td>\n",
       "      <td>drinks</td>\n",
       "    </tr>\n",
       "    <tr>\n",
       "      <th>2019-09-03 07:06:00</th>\n",
       "      <td>4</td>\n",
       "      <td>dairy</td>\n",
       "    </tr>\n",
       "  </tbody>\n",
       "</table>\n",
       "</div>"
      ],
      "text/plain": [
       "                     customer_no location\n",
       "timestamp                                \n",
       "2019-09-03 07:02:00            1    fruit\n",
       "2019-09-03 07:02:00            2   drinks\n",
       "2019-09-03 07:03:00            3    dairy\n",
       "2019-09-03 07:05:00            1   drinks\n",
       "2019-09-03 07:06:00            4    dairy"
      ]
     },
     "execution_count": 6,
     "metadata": {},
     "output_type": "execute_result"
    }
   ],
   "source": [
    "tuesday.head()"
   ]
  },
  {
   "cell_type": "code",
   "execution_count": 21,
   "id": "35ff9494-a79a-4005-8199-22488935a2b7",
   "metadata": {
    "tags": []
   },
   "outputs": [
    {
     "data": {
      "text/html": [
       "<div>\n",
       "<style scoped>\n",
       "    .dataframe tbody tr th:only-of-type {\n",
       "        vertical-align: middle;\n",
       "    }\n",
       "\n",
       "    .dataframe tbody tr th {\n",
       "        vertical-align: top;\n",
       "    }\n",
       "\n",
       "    .dataframe thead th {\n",
       "        text-align: right;\n",
       "    }\n",
       "</style>\n",
       "<table border=\"1\" class=\"dataframe\">\n",
       "  <thead>\n",
       "    <tr style=\"text-align: right;\">\n",
       "      <th></th>\n",
       "      <th>customer_no</th>\n",
       "      <th>location</th>\n",
       "    </tr>\n",
       "    <tr>\n",
       "      <th>timestamp</th>\n",
       "      <th></th>\n",
       "      <th></th>\n",
       "    </tr>\n",
       "  </thead>\n",
       "  <tbody>\n",
       "    <tr>\n",
       "      <th>2019-04-09 07:00:00</th>\n",
       "      <td>1</td>\n",
       "      <td>fruit</td>\n",
       "    </tr>\n",
       "    <tr>\n",
       "      <th>2019-04-09 07:00:00</th>\n",
       "      <td>2</td>\n",
       "      <td>dairy</td>\n",
       "    </tr>\n",
       "    <tr>\n",
       "      <th>2019-04-09 07:00:00</th>\n",
       "      <td>3</td>\n",
       "      <td>fruit</td>\n",
       "    </tr>\n",
       "    <tr>\n",
       "      <th>2019-04-09 07:00:00</th>\n",
       "      <td>4</td>\n",
       "      <td>fruit</td>\n",
       "    </tr>\n",
       "    <tr>\n",
       "      <th>2019-04-09 07:00:00</th>\n",
       "      <td>5</td>\n",
       "      <td>dairy</td>\n",
       "    </tr>\n",
       "  </tbody>\n",
       "</table>\n",
       "</div>"
      ],
      "text/plain": [
       "                     customer_no location\n",
       "timestamp                                \n",
       "2019-04-09 07:00:00            1    fruit\n",
       "2019-04-09 07:00:00            2    dairy\n",
       "2019-04-09 07:00:00            3    fruit\n",
       "2019-04-09 07:00:00            4    fruit\n",
       "2019-04-09 07:00:00            5    dairy"
      ]
     },
     "execution_count": 21,
     "metadata": {},
     "output_type": "execute_result"
    }
   ],
   "source": [
    "wednesday.head()"
   ]
  },
  {
   "cell_type": "code",
   "execution_count": 22,
   "id": "d7fb8fed-ad12-4575-a977-ea03fb04e47b",
   "metadata": {
    "tags": []
   },
   "outputs": [
    {
     "data": {
      "text/html": [
       "<div>\n",
       "<style scoped>\n",
       "    .dataframe tbody tr th:only-of-type {\n",
       "        vertical-align: middle;\n",
       "    }\n",
       "\n",
       "    .dataframe tbody tr th {\n",
       "        vertical-align: top;\n",
       "    }\n",
       "\n",
       "    .dataframe thead th {\n",
       "        text-align: right;\n",
       "    }\n",
       "</style>\n",
       "<table border=\"1\" class=\"dataframe\">\n",
       "  <thead>\n",
       "    <tr style=\"text-align: right;\">\n",
       "      <th></th>\n",
       "      <th>customer_no</th>\n",
       "      <th>location</th>\n",
       "    </tr>\n",
       "    <tr>\n",
       "      <th>timestamp</th>\n",
       "      <th></th>\n",
       "      <th></th>\n",
       "    </tr>\n",
       "  </thead>\n",
       "  <tbody>\n",
       "    <tr>\n",
       "      <th>2019-05-09 07:00:00</th>\n",
       "      <td>1</td>\n",
       "      <td>drinks</td>\n",
       "    </tr>\n",
       "    <tr>\n",
       "      <th>2019-05-09 07:01:00</th>\n",
       "      <td>2</td>\n",
       "      <td>fruit</td>\n",
       "    </tr>\n",
       "    <tr>\n",
       "      <th>2019-05-09 07:01:00</th>\n",
       "      <td>3</td>\n",
       "      <td>dairy</td>\n",
       "    </tr>\n",
       "    <tr>\n",
       "      <th>2019-05-09 07:01:00</th>\n",
       "      <td>4</td>\n",
       "      <td>dairy</td>\n",
       "    </tr>\n",
       "    <tr>\n",
       "      <th>2019-05-09 07:02:00</th>\n",
       "      <td>1</td>\n",
       "      <td>checkout</td>\n",
       "    </tr>\n",
       "  </tbody>\n",
       "</table>\n",
       "</div>"
      ],
      "text/plain": [
       "                     customer_no  location\n",
       "timestamp                                 \n",
       "2019-05-09 07:00:00            1    drinks\n",
       "2019-05-09 07:01:00            2     fruit\n",
       "2019-05-09 07:01:00            3     dairy\n",
       "2019-05-09 07:01:00            4     dairy\n",
       "2019-05-09 07:02:00            1  checkout"
      ]
     },
     "execution_count": 22,
     "metadata": {},
     "output_type": "execute_result"
    }
   ],
   "source": [
    "thursday.head()"
   ]
  },
  {
   "cell_type": "code",
   "execution_count": 23,
   "id": "abe4470d-0c20-4b13-8727-85f6d0d21075",
   "metadata": {
    "tags": []
   },
   "outputs": [
    {
     "data": {
      "text/html": [
       "<div>\n",
       "<style scoped>\n",
       "    .dataframe tbody tr th:only-of-type {\n",
       "        vertical-align: middle;\n",
       "    }\n",
       "\n",
       "    .dataframe tbody tr th {\n",
       "        vertical-align: top;\n",
       "    }\n",
       "\n",
       "    .dataframe thead th {\n",
       "        text-align: right;\n",
       "    }\n",
       "</style>\n",
       "<table border=\"1\" class=\"dataframe\">\n",
       "  <thead>\n",
       "    <tr style=\"text-align: right;\">\n",
       "      <th></th>\n",
       "      <th>customer_no</th>\n",
       "      <th>location</th>\n",
       "    </tr>\n",
       "    <tr>\n",
       "      <th>timestamp</th>\n",
       "      <th></th>\n",
       "      <th></th>\n",
       "    </tr>\n",
       "  </thead>\n",
       "  <tbody>\n",
       "    <tr>\n",
       "      <th>2019-06-09 07:00:00</th>\n",
       "      <td>1</td>\n",
       "      <td>dairy</td>\n",
       "    </tr>\n",
       "    <tr>\n",
       "      <th>2019-06-09 07:00:00</th>\n",
       "      <td>2</td>\n",
       "      <td>drinks</td>\n",
       "    </tr>\n",
       "    <tr>\n",
       "      <th>2019-06-09 07:00:00</th>\n",
       "      <td>3</td>\n",
       "      <td>fruit</td>\n",
       "    </tr>\n",
       "    <tr>\n",
       "      <th>2019-06-09 07:01:00</th>\n",
       "      <td>2</td>\n",
       "      <td>checkout</td>\n",
       "    </tr>\n",
       "    <tr>\n",
       "      <th>2019-06-09 07:01:00</th>\n",
       "      <td>4</td>\n",
       "      <td>drinks</td>\n",
       "    </tr>\n",
       "  </tbody>\n",
       "</table>\n",
       "</div>"
      ],
      "text/plain": [
       "                     customer_no  location\n",
       "timestamp                                 \n",
       "2019-06-09 07:00:00            1     dairy\n",
       "2019-06-09 07:00:00            2    drinks\n",
       "2019-06-09 07:00:00            3     fruit\n",
       "2019-06-09 07:01:00            2  checkout\n",
       "2019-06-09 07:01:00            4    drinks"
      ]
     },
     "execution_count": 23,
     "metadata": {},
     "output_type": "execute_result"
    }
   ],
   "source": [
    "friday.head()"
   ]
  },
  {
   "cell_type": "code",
   "execution_count": 99,
   "id": "7531759f-ba1c-40a3-9ed3-3627dd1a7c16",
   "metadata": {},
   "outputs": [
    {
     "name": "stdout",
     "output_type": "stream",
     "text": [
      "(4884, 2)\n",
      "(4714, 2)\n",
      "(5050, 2)\n",
      "(5104, 2)\n",
      "(5125, 2)\n"
     ]
    }
   ],
   "source": [
    "print(monday.shape)\n",
    "print(tuesday.shape)\n",
    "print(wednesday.shape)\n",
    "print(thursday.shape)\n",
    "print(friday.shape)"
   ]
  },
  {
   "cell_type": "code",
   "execution_count": 100,
   "id": "094d3c00-9b0b-4cac-8a20-3bb819e9c64d",
   "metadata": {},
   "outputs": [
    {
     "data": {
      "text/html": [
       "<div>\n",
       "<style scoped>\n",
       "    .dataframe tbody tr th:only-of-type {\n",
       "        vertical-align: middle;\n",
       "    }\n",
       "\n",
       "    .dataframe tbody tr th {\n",
       "        vertical-align: top;\n",
       "    }\n",
       "\n",
       "    .dataframe thead th {\n",
       "        text-align: right;\n",
       "    }\n",
       "</style>\n",
       "<table border=\"1\" class=\"dataframe\">\n",
       "  <thead>\n",
       "    <tr style=\"text-align: right;\">\n",
       "      <th></th>\n",
       "      <th>timestamp</th>\n",
       "      <th>customer_no</th>\n",
       "      <th>location</th>\n",
       "    </tr>\n",
       "  </thead>\n",
       "  <tbody>\n",
       "    <tr>\n",
       "      <th>1970-01-01 00:00:00.000000000</th>\n",
       "      <td>2019-09-06 07:00:00</td>\n",
       "      <td>1</td>\n",
       "      <td>dairy</td>\n",
       "    </tr>\n",
       "    <tr>\n",
       "      <th>1970-01-01 00:00:00.000000001</th>\n",
       "      <td>2019-09-06 07:00:00</td>\n",
       "      <td>2</td>\n",
       "      <td>drinks</td>\n",
       "    </tr>\n",
       "    <tr>\n",
       "      <th>1970-01-01 00:00:00.000000002</th>\n",
       "      <td>2019-09-06 07:00:00</td>\n",
       "      <td>3</td>\n",
       "      <td>fruit</td>\n",
       "    </tr>\n",
       "    <tr>\n",
       "      <th>1970-01-01 00:00:00.000000003</th>\n",
       "      <td>2019-09-06 07:01:00</td>\n",
       "      <td>2</td>\n",
       "      <td>checkout</td>\n",
       "    </tr>\n",
       "    <tr>\n",
       "      <th>1970-01-01 00:00:00.000000004</th>\n",
       "      <td>2019-09-06 07:01:00</td>\n",
       "      <td>4</td>\n",
       "      <td>drinks</td>\n",
       "    </tr>\n",
       "    <tr>\n",
       "      <th>...</th>\n",
       "      <td>...</td>\n",
       "      <td>...</td>\n",
       "      <td>...</td>\n",
       "    </tr>\n",
       "    <tr>\n",
       "      <th>1970-01-01 00:00:00.000005045</th>\n",
       "      <td>2019-09-04 21:48:00</td>\n",
       "      <td>1528</td>\n",
       "      <td>spices</td>\n",
       "    </tr>\n",
       "    <tr>\n",
       "      <th>1970-01-01 00:00:00.000005046</th>\n",
       "      <td>2019-09-04 21:49:00</td>\n",
       "      <td>1520</td>\n",
       "      <td>dairy</td>\n",
       "    </tr>\n",
       "    <tr>\n",
       "      <th>1970-01-01 00:00:00.000005047</th>\n",
       "      <td>2019-09-04 21:49:00</td>\n",
       "      <td>1529</td>\n",
       "      <td>dairy</td>\n",
       "    </tr>\n",
       "    <tr>\n",
       "      <th>1970-01-01 00:00:00.000005048</th>\n",
       "      <td>2019-09-04 21:49:00</td>\n",
       "      <td>1530</td>\n",
       "      <td>fruit</td>\n",
       "    </tr>\n",
       "    <tr>\n",
       "      <th>1970-01-01 00:00:00.000005049</th>\n",
       "      <td>2019-09-04 21:49:00</td>\n",
       "      <td>1531</td>\n",
       "      <td>checkout</td>\n",
       "    </tr>\n",
       "  </tbody>\n",
       "</table>\n",
       "<p>24877 rows × 3 columns</p>\n",
       "</div>"
      ],
      "text/plain": [
       "                                         timestamp  customer_no  location\n",
       "1970-01-01 00:00:00.000000000  2019-09-06 07:00:00            1     dairy\n",
       "1970-01-01 00:00:00.000000001  2019-09-06 07:00:00            2    drinks\n",
       "1970-01-01 00:00:00.000000002  2019-09-06 07:00:00            3     fruit\n",
       "1970-01-01 00:00:00.000000003  2019-09-06 07:01:00            2  checkout\n",
       "1970-01-01 00:00:00.000000004  2019-09-06 07:01:00            4    drinks\n",
       "...                                            ...          ...       ...\n",
       "1970-01-01 00:00:00.000005045  2019-09-04 21:48:00         1528    spices\n",
       "1970-01-01 00:00:00.000005046  2019-09-04 21:49:00         1520     dairy\n",
       "1970-01-01 00:00:00.000005047  2019-09-04 21:49:00         1529     dairy\n",
       "1970-01-01 00:00:00.000005048  2019-09-04 21:49:00         1530     fruit\n",
       "1970-01-01 00:00:00.000005049  2019-09-04 21:49:00         1531  checkout\n",
       "\n",
       "[24877 rows x 3 columns]"
      ]
     },
     "execution_count": 100,
     "metadata": {},
     "output_type": "execute_result"
    }
   ],
   "source": [
    "all_files = glob.glob(\"*.csv\")\n",
    "df = pd.concat((pd.read_csv(f,sep=';') for f in all_files))\n",
    "df.index = pd.to_datetime(df.index)\n",
    "df"
   ]
  },
  {
   "cell_type": "code",
   "execution_count": 101,
   "id": "9bdb35e1-58f2-4605-895b-1c872c02a16a",
   "metadata": {},
   "outputs": [
    {
     "name": "stdout",
     "output_type": "stream",
     "text": [
      "<class 'pandas.core.frame.DataFrame'>\n",
      "DatetimeIndex: 24877 entries, 1970-01-01 00:00:00 to 1970-01-01 00:00:00.000005049\n",
      "Data columns (total 3 columns):\n",
      " #   Column       Non-Null Count  Dtype \n",
      "---  ------       --------------  ----- \n",
      " 0   timestamp    24877 non-null  object\n",
      " 1   customer_no  24877 non-null  int64 \n",
      " 2   location     24877 non-null  object\n",
      "dtypes: int64(1), object(2)\n",
      "memory usage: 777.4+ KB\n"
     ]
    }
   ],
   "source": [
    "df.info()"
   ]
  },
  {
   "cell_type": "code",
   "execution_count": 102,
   "id": "24b99ed7-1b3b-4511-8b3f-19c1d50ae077",
   "metadata": {
    "tags": []
   },
   "outputs": [],
   "source": [
    "df['timestamp']=pd.to_datetime(df['timestamp'])\n",
    "df['year']= df['timestamp'].dt.year\n",
    "df['month']= df['timestamp'].dt.month\n",
    "df['week']= df['timestamp'].dt.week\n",
    "df['weekday']= df['timestamp'].dt.weekday\n",
    "df['day']= df['timestamp'].dt.day\n",
    "df['hour']= df['timestamp'].dt.hour\n",
    "df['minutes']= df['timestamp'].dt.minute\n",
    "df['seconds']= df['timestamp'].dt.second\n",
    "\n",
    "\n",
    "df.loc[df[\"weekday\"] == 0, \"weekday\"] = 'monday'\n",
    "df.loc[df[\"weekday\"] == 1, \"weekday\"] = 'tuesday'\n",
    "df.loc[df[\"weekday\"] == 2, \"weekday\"] = 'wednesday'\n",
    "df.loc[df[\"weekday\"] == 3, \"weekday\"] = 'thursday'\n",
    "df.loc[df[\"weekday\"] == 4, \"weekday\"] = 'friday'\n",
    "\n",
    "df = df.sort_values(['timestamp'])"
   ]
  },
  {
   "cell_type": "markdown",
   "id": "ce24e7f1-286c-49af-a639-4ab95b79483f",
   "metadata": {
    "tags": []
   },
   "source": [
    "Calculate the total number of customers in each section"
   ]
  },
  {
   "cell_type": "code",
   "execution_count": 103,
   "id": "5e90b232-4e66-4684-b68c-93559c4557ba",
   "metadata": {},
   "outputs": [],
   "source": [
    "total_customers = pd.DataFrame(df.groupby(['timestamp','location','weekday'])['customer_no'].count()).reset_index()"
   ]
  },
  {
   "cell_type": "code",
   "execution_count": 104,
   "id": "05b03edc-64a6-42cb-9317-90a444ada0d2",
   "metadata": {},
   "outputs": [
    {
     "data": {
      "text/html": [
       "<div>\n",
       "<style scoped>\n",
       "    .dataframe tbody tr th:only-of-type {\n",
       "        vertical-align: middle;\n",
       "    }\n",
       "\n",
       "    .dataframe tbody tr th {\n",
       "        vertical-align: top;\n",
       "    }\n",
       "\n",
       "    .dataframe thead th {\n",
       "        text-align: right;\n",
       "    }\n",
       "</style>\n",
       "<table border=\"1\" class=\"dataframe\">\n",
       "  <thead>\n",
       "    <tr style=\"text-align: right;\">\n",
       "      <th></th>\n",
       "      <th>timestamp</th>\n",
       "      <th>location</th>\n",
       "      <th>weekday</th>\n",
       "      <th>customer_no</th>\n",
       "    </tr>\n",
       "  </thead>\n",
       "  <tbody>\n",
       "    <tr>\n",
       "      <th>0</th>\n",
       "      <td>2019-09-02 07:03:00</td>\n",
       "      <td>dairy</td>\n",
       "      <td>monday</td>\n",
       "      <td>2</td>\n",
       "    </tr>\n",
       "    <tr>\n",
       "      <th>1</th>\n",
       "      <td>2019-09-02 07:04:00</td>\n",
       "      <td>dairy</td>\n",
       "      <td>monday</td>\n",
       "      <td>2</td>\n",
       "    </tr>\n",
       "    <tr>\n",
       "      <th>2</th>\n",
       "      <td>2019-09-02 07:04:00</td>\n",
       "      <td>fruit</td>\n",
       "      <td>monday</td>\n",
       "      <td>1</td>\n",
       "    </tr>\n",
       "    <tr>\n",
       "      <th>3</th>\n",
       "      <td>2019-09-02 07:04:00</td>\n",
       "      <td>spices</td>\n",
       "      <td>monday</td>\n",
       "      <td>3</td>\n",
       "    </tr>\n",
       "    <tr>\n",
       "      <th>4</th>\n",
       "      <td>2019-09-02 07:05:00</td>\n",
       "      <td>checkout</td>\n",
       "      <td>monday</td>\n",
       "      <td>2</td>\n",
       "    </tr>\n",
       "    <tr>\n",
       "      <th>...</th>\n",
       "      <td>...</td>\n",
       "      <td>...</td>\n",
       "      <td>...</td>\n",
       "      <td>...</td>\n",
       "    </tr>\n",
       "    <tr>\n",
       "      <th>13834</th>\n",
       "      <td>2019-09-06 21:50:00</td>\n",
       "      <td>checkout</td>\n",
       "      <td>friday</td>\n",
       "      <td>2</td>\n",
       "    </tr>\n",
       "    <tr>\n",
       "      <th>13835</th>\n",
       "      <td>2019-09-06 21:50:00</td>\n",
       "      <td>dairy</td>\n",
       "      <td>friday</td>\n",
       "      <td>1</td>\n",
       "    </tr>\n",
       "    <tr>\n",
       "      <th>13836</th>\n",
       "      <td>2019-09-06 21:50:00</td>\n",
       "      <td>drinks</td>\n",
       "      <td>friday</td>\n",
       "      <td>1</td>\n",
       "    </tr>\n",
       "    <tr>\n",
       "      <th>13837</th>\n",
       "      <td>2019-09-06 21:50:00</td>\n",
       "      <td>fruit</td>\n",
       "      <td>friday</td>\n",
       "      <td>1</td>\n",
       "    </tr>\n",
       "    <tr>\n",
       "      <th>13838</th>\n",
       "      <td>2019-09-06 21:50:00</td>\n",
       "      <td>spices</td>\n",
       "      <td>friday</td>\n",
       "      <td>1</td>\n",
       "    </tr>\n",
       "  </tbody>\n",
       "</table>\n",
       "<p>13839 rows × 4 columns</p>\n",
       "</div>"
      ],
      "text/plain": [
       "                timestamp  location weekday  customer_no\n",
       "0     2019-09-02 07:03:00     dairy  monday            2\n",
       "1     2019-09-02 07:04:00     dairy  monday            2\n",
       "2     2019-09-02 07:04:00     fruit  monday            1\n",
       "3     2019-09-02 07:04:00    spices  monday            3\n",
       "4     2019-09-02 07:05:00  checkout  monday            2\n",
       "...                   ...       ...     ...          ...\n",
       "13834 2019-09-06 21:50:00  checkout  friday            2\n",
       "13835 2019-09-06 21:50:00     dairy  friday            1\n",
       "13836 2019-09-06 21:50:00    drinks  friday            1\n",
       "13837 2019-09-06 21:50:00     fruit  friday            1\n",
       "13838 2019-09-06 21:50:00    spices  friday            1\n",
       "\n",
       "[13839 rows x 4 columns]"
      ]
     },
     "execution_count": 104,
     "metadata": {},
     "output_type": "execute_result"
    }
   ],
   "source": [
    "total_customers"
   ]
  },
  {
   "cell_type": "code",
   "execution_count": 105,
   "id": "82aaa8c2-32c3-4aca-ab3b-c17742e697ec",
   "metadata": {},
   "outputs": [
    {
     "data": {
      "application/vnd.plotly.v1+json": {
       "config": {
        "plotlyServerURL": "https://plot.ly"
       },
       "data": [
        {
         "branchvalues": "total",
         "domain": {
          "x": [
           0,
           1
          ],
          "y": [
           0,
           1
          ]
         },
         "hovertemplate": "labels=%{label}<br>customer_no=%{value}<br>parent=%{parent}<br>id=%{id}<extra></extra>",
         "ids": [
          "checkout/friday",
          "dairy/friday",
          "drinks/friday",
          "fruit/friday",
          "spices/friday",
          "checkout/monday",
          "dairy/monday",
          "drinks/monday",
          "fruit/monday",
          "spices/monday",
          "checkout/thursday",
          "dairy/thursday",
          "drinks/thursday",
          "fruit/thursday",
          "spices/thursday",
          "checkout/tuesday",
          "dairy/tuesday",
          "drinks/tuesday",
          "fruit/tuesday",
          "spices/tuesday",
          "checkout/wednesday",
          "dairy/wednesday",
          "drinks/wednesday",
          "fruit/wednesday",
          "spices/wednesday",
          "checkout",
          "dairy",
          "drinks",
          "fruit",
          "spices"
         ],
         "labels": [
          "friday",
          "friday",
          "friday",
          "friday",
          "friday",
          "monday",
          "monday",
          "monday",
          "monday",
          "monday",
          "thursday",
          "thursday",
          "thursday",
          "thursday",
          "thursday",
          "tuesday",
          "tuesday",
          "tuesday",
          "tuesday",
          "tuesday",
          "wednesday",
          "wednesday",
          "wednesday",
          "wednesday",
          "wednesday",
          "checkout",
          "dairy",
          "drinks",
          "fruit",
          "spices"
         ],
         "name": "",
         "parents": [
          "checkout",
          "dairy",
          "drinks",
          "fruit",
          "spices",
          "checkout",
          "dairy",
          "drinks",
          "fruit",
          "spices",
          "checkout",
          "dairy",
          "drinks",
          "fruit",
          "spices",
          "checkout",
          "dairy",
          "drinks",
          "fruit",
          "spices",
          "checkout",
          "dairy",
          "drinks",
          "fruit",
          "spices",
          "",
          "",
          "",
          "",
          ""
         ],
         "type": "sunburst",
         "values": [
          1502,
          932,
          844,
          1057,
          790,
          1437,
          895,
          797,
          1005,
          750,
          1532,
          965,
          776,
          1041,
          790,
          1420,
          911,
          713,
          976,
          694,
          1526,
          976,
          775,
          1043,
          730,
          7417,
          4679,
          3905,
          5122,
          3754
         ]
        }
       ],
       "layout": {
        "autosize": true,
        "legend": {
         "tracegroupgap": 0
        },
        "margin": {
         "t": 60
        },
        "template": {
         "data": {
          "bar": [
           {
            "error_x": {
             "color": "#2a3f5f"
            },
            "error_y": {
             "color": "#2a3f5f"
            },
            "marker": {
             "line": {
              "color": "#E5ECF6",
              "width": 0.5
             },
             "pattern": {
              "fillmode": "overlay",
              "size": 10,
              "solidity": 0.2
             }
            },
            "type": "bar"
           }
          ],
          "barpolar": [
           {
            "marker": {
             "line": {
              "color": "#E5ECF6",
              "width": 0.5
             },
             "pattern": {
              "fillmode": "overlay",
              "size": 10,
              "solidity": 0.2
             }
            },
            "type": "barpolar"
           }
          ],
          "carpet": [
           {
            "aaxis": {
             "endlinecolor": "#2a3f5f",
             "gridcolor": "white",
             "linecolor": "white",
             "minorgridcolor": "white",
             "startlinecolor": "#2a3f5f"
            },
            "baxis": {
             "endlinecolor": "#2a3f5f",
             "gridcolor": "white",
             "linecolor": "white",
             "minorgridcolor": "white",
             "startlinecolor": "#2a3f5f"
            },
            "type": "carpet"
           }
          ],
          "choropleth": [
           {
            "colorbar": {
             "outlinewidth": 0,
             "ticks": ""
            },
            "type": "choropleth"
           }
          ],
          "contour": [
           {
            "colorbar": {
             "outlinewidth": 0,
             "ticks": ""
            },
            "colorscale": [
             [
              0,
              "#0d0887"
             ],
             [
              0.1111111111111111,
              "#46039f"
             ],
             [
              0.2222222222222222,
              "#7201a8"
             ],
             [
              0.3333333333333333,
              "#9c179e"
             ],
             [
              0.4444444444444444,
              "#bd3786"
             ],
             [
              0.5555555555555556,
              "#d8576b"
             ],
             [
              0.6666666666666666,
              "#ed7953"
             ],
             [
              0.7777777777777778,
              "#fb9f3a"
             ],
             [
              0.8888888888888888,
              "#fdca26"
             ],
             [
              1,
              "#f0f921"
             ]
            ],
            "type": "contour"
           }
          ],
          "contourcarpet": [
           {
            "colorbar": {
             "outlinewidth": 0,
             "ticks": ""
            },
            "type": "contourcarpet"
           }
          ],
          "heatmap": [
           {
            "colorbar": {
             "outlinewidth": 0,
             "ticks": ""
            },
            "colorscale": [
             [
              0,
              "#0d0887"
             ],
             [
              0.1111111111111111,
              "#46039f"
             ],
             [
              0.2222222222222222,
              "#7201a8"
             ],
             [
              0.3333333333333333,
              "#9c179e"
             ],
             [
              0.4444444444444444,
              "#bd3786"
             ],
             [
              0.5555555555555556,
              "#d8576b"
             ],
             [
              0.6666666666666666,
              "#ed7953"
             ],
             [
              0.7777777777777778,
              "#fb9f3a"
             ],
             [
              0.8888888888888888,
              "#fdca26"
             ],
             [
              1,
              "#f0f921"
             ]
            ],
            "type": "heatmap"
           }
          ],
          "heatmapgl": [
           {
            "colorbar": {
             "outlinewidth": 0,
             "ticks": ""
            },
            "colorscale": [
             [
              0,
              "#0d0887"
             ],
             [
              0.1111111111111111,
              "#46039f"
             ],
             [
              0.2222222222222222,
              "#7201a8"
             ],
             [
              0.3333333333333333,
              "#9c179e"
             ],
             [
              0.4444444444444444,
              "#bd3786"
             ],
             [
              0.5555555555555556,
              "#d8576b"
             ],
             [
              0.6666666666666666,
              "#ed7953"
             ],
             [
              0.7777777777777778,
              "#fb9f3a"
             ],
             [
              0.8888888888888888,
              "#fdca26"
             ],
             [
              1,
              "#f0f921"
             ]
            ],
            "type": "heatmapgl"
           }
          ],
          "histogram": [
           {
            "marker": {
             "pattern": {
              "fillmode": "overlay",
              "size": 10,
              "solidity": 0.2
             }
            },
            "type": "histogram"
           }
          ],
          "histogram2d": [
           {
            "colorbar": {
             "outlinewidth": 0,
             "ticks": ""
            },
            "colorscale": [
             [
              0,
              "#0d0887"
             ],
             [
              0.1111111111111111,
              "#46039f"
             ],
             [
              0.2222222222222222,
              "#7201a8"
             ],
             [
              0.3333333333333333,
              "#9c179e"
             ],
             [
              0.4444444444444444,
              "#bd3786"
             ],
             [
              0.5555555555555556,
              "#d8576b"
             ],
             [
              0.6666666666666666,
              "#ed7953"
             ],
             [
              0.7777777777777778,
              "#fb9f3a"
             ],
             [
              0.8888888888888888,
              "#fdca26"
             ],
             [
              1,
              "#f0f921"
             ]
            ],
            "type": "histogram2d"
           }
          ],
          "histogram2dcontour": [
           {
            "colorbar": {
             "outlinewidth": 0,
             "ticks": ""
            },
            "colorscale": [
             [
              0,
              "#0d0887"
             ],
             [
              0.1111111111111111,
              "#46039f"
             ],
             [
              0.2222222222222222,
              "#7201a8"
             ],
             [
              0.3333333333333333,
              "#9c179e"
             ],
             [
              0.4444444444444444,
              "#bd3786"
             ],
             [
              0.5555555555555556,
              "#d8576b"
             ],
             [
              0.6666666666666666,
              "#ed7953"
             ],
             [
              0.7777777777777778,
              "#fb9f3a"
             ],
             [
              0.8888888888888888,
              "#fdca26"
             ],
             [
              1,
              "#f0f921"
             ]
            ],
            "type": "histogram2dcontour"
           }
          ],
          "mesh3d": [
           {
            "colorbar": {
             "outlinewidth": 0,
             "ticks": ""
            },
            "type": "mesh3d"
           }
          ],
          "parcoords": [
           {
            "line": {
             "colorbar": {
              "outlinewidth": 0,
              "ticks": ""
             }
            },
            "type": "parcoords"
           }
          ],
          "pie": [
           {
            "automargin": true,
            "type": "pie"
           }
          ],
          "scatter": [
           {
            "fillpattern": {
             "fillmode": "overlay",
             "size": 10,
             "solidity": 0.2
            },
            "type": "scatter"
           }
          ],
          "scatter3d": [
           {
            "line": {
             "colorbar": {
              "outlinewidth": 0,
              "ticks": ""
             }
            },
            "marker": {
             "colorbar": {
              "outlinewidth": 0,
              "ticks": ""
             }
            },
            "type": "scatter3d"
           }
          ],
          "scattercarpet": [
           {
            "marker": {
             "colorbar": {
              "outlinewidth": 0,
              "ticks": ""
             }
            },
            "type": "scattercarpet"
           }
          ],
          "scattergeo": [
           {
            "marker": {
             "colorbar": {
              "outlinewidth": 0,
              "ticks": ""
             }
            },
            "type": "scattergeo"
           }
          ],
          "scattergl": [
           {
            "marker": {
             "colorbar": {
              "outlinewidth": 0,
              "ticks": ""
             }
            },
            "type": "scattergl"
           }
          ],
          "scattermapbox": [
           {
            "marker": {
             "colorbar": {
              "outlinewidth": 0,
              "ticks": ""
             }
            },
            "type": "scattermapbox"
           }
          ],
          "scatterpolar": [
           {
            "marker": {
             "colorbar": {
              "outlinewidth": 0,
              "ticks": ""
             }
            },
            "type": "scatterpolar"
           }
          ],
          "scatterpolargl": [
           {
            "marker": {
             "colorbar": {
              "outlinewidth": 0,
              "ticks": ""
             }
            },
            "type": "scatterpolargl"
           }
          ],
          "scatterternary": [
           {
            "marker": {
             "colorbar": {
              "outlinewidth": 0,
              "ticks": ""
             }
            },
            "type": "scatterternary"
           }
          ],
          "surface": [
           {
            "colorbar": {
             "outlinewidth": 0,
             "ticks": ""
            },
            "colorscale": [
             [
              0,
              "#0d0887"
             ],
             [
              0.1111111111111111,
              "#46039f"
             ],
             [
              0.2222222222222222,
              "#7201a8"
             ],
             [
              0.3333333333333333,
              "#9c179e"
             ],
             [
              0.4444444444444444,
              "#bd3786"
             ],
             [
              0.5555555555555556,
              "#d8576b"
             ],
             [
              0.6666666666666666,
              "#ed7953"
             ],
             [
              0.7777777777777778,
              "#fb9f3a"
             ],
             [
              0.8888888888888888,
              "#fdca26"
             ],
             [
              1,
              "#f0f921"
             ]
            ],
            "type": "surface"
           }
          ],
          "table": [
           {
            "cells": {
             "fill": {
              "color": "#EBF0F8"
             },
             "line": {
              "color": "white"
             }
            },
            "header": {
             "fill": {
              "color": "#C8D4E3"
             },
             "line": {
              "color": "white"
             }
            },
            "type": "table"
           }
          ]
         },
         "layout": {
          "annotationdefaults": {
           "arrowcolor": "#2a3f5f",
           "arrowhead": 0,
           "arrowwidth": 1
          },
          "autotypenumbers": "strict",
          "coloraxis": {
           "colorbar": {
            "outlinewidth": 0,
            "ticks": ""
           }
          },
          "colorscale": {
           "diverging": [
            [
             0,
             "#8e0152"
            ],
            [
             0.1,
             "#c51b7d"
            ],
            [
             0.2,
             "#de77ae"
            ],
            [
             0.3,
             "#f1b6da"
            ],
            [
             0.4,
             "#fde0ef"
            ],
            [
             0.5,
             "#f7f7f7"
            ],
            [
             0.6,
             "#e6f5d0"
            ],
            [
             0.7,
             "#b8e186"
            ],
            [
             0.8,
             "#7fbc41"
            ],
            [
             0.9,
             "#4d9221"
            ],
            [
             1,
             "#276419"
            ]
           ],
           "sequential": [
            [
             0,
             "#0d0887"
            ],
            [
             0.1111111111111111,
             "#46039f"
            ],
            [
             0.2222222222222222,
             "#7201a8"
            ],
            [
             0.3333333333333333,
             "#9c179e"
            ],
            [
             0.4444444444444444,
             "#bd3786"
            ],
            [
             0.5555555555555556,
             "#d8576b"
            ],
            [
             0.6666666666666666,
             "#ed7953"
            ],
            [
             0.7777777777777778,
             "#fb9f3a"
            ],
            [
             0.8888888888888888,
             "#fdca26"
            ],
            [
             1,
             "#f0f921"
            ]
           ],
           "sequentialminus": [
            [
             0,
             "#0d0887"
            ],
            [
             0.1111111111111111,
             "#46039f"
            ],
            [
             0.2222222222222222,
             "#7201a8"
            ],
            [
             0.3333333333333333,
             "#9c179e"
            ],
            [
             0.4444444444444444,
             "#bd3786"
            ],
            [
             0.5555555555555556,
             "#d8576b"
            ],
            [
             0.6666666666666666,
             "#ed7953"
            ],
            [
             0.7777777777777778,
             "#fb9f3a"
            ],
            [
             0.8888888888888888,
             "#fdca26"
            ],
            [
             1,
             "#f0f921"
            ]
           ]
          },
          "colorway": [
           "#636efa",
           "#EF553B",
           "#00cc96",
           "#ab63fa",
           "#FFA15A",
           "#19d3f3",
           "#FF6692",
           "#B6E880",
           "#FF97FF",
           "#FECB52"
          ],
          "font": {
           "color": "#2a3f5f"
          },
          "geo": {
           "bgcolor": "white",
           "lakecolor": "white",
           "landcolor": "#E5ECF6",
           "showlakes": true,
           "showland": true,
           "subunitcolor": "white"
          },
          "hoverlabel": {
           "align": "left"
          },
          "hovermode": "closest",
          "mapbox": {
           "style": "light"
          },
          "paper_bgcolor": "white",
          "plot_bgcolor": "#E5ECF6",
          "polar": {
           "angularaxis": {
            "gridcolor": "white",
            "linecolor": "white",
            "ticks": ""
           },
           "bgcolor": "#E5ECF6",
           "radialaxis": {
            "gridcolor": "white",
            "linecolor": "white",
            "ticks": ""
           }
          },
          "scene": {
           "xaxis": {
            "backgroundcolor": "#E5ECF6",
            "gridcolor": "white",
            "gridwidth": 2,
            "linecolor": "white",
            "showbackground": true,
            "ticks": "",
            "zerolinecolor": "white"
           },
           "yaxis": {
            "backgroundcolor": "#E5ECF6",
            "gridcolor": "white",
            "gridwidth": 2,
            "linecolor": "white",
            "showbackground": true,
            "ticks": "",
            "zerolinecolor": "white"
           },
           "zaxis": {
            "backgroundcolor": "#E5ECF6",
            "gridcolor": "white",
            "gridwidth": 2,
            "linecolor": "white",
            "showbackground": true,
            "ticks": "",
            "zerolinecolor": "white"
           }
          },
          "shapedefaults": {
           "line": {
            "color": "#2a3f5f"
           }
          },
          "ternary": {
           "aaxis": {
            "gridcolor": "white",
            "linecolor": "white",
            "ticks": ""
           },
           "baxis": {
            "gridcolor": "white",
            "linecolor": "white",
            "ticks": ""
           },
           "bgcolor": "#E5ECF6",
           "caxis": {
            "gridcolor": "white",
            "linecolor": "white",
            "ticks": ""
           }
          },
          "title": {
           "x": 0.05
          },
          "xaxis": {
           "automargin": true,
           "gridcolor": "white",
           "linecolor": "white",
           "ticks": "",
           "title": {
            "standoff": 15
           },
           "zerolinecolor": "white",
           "zerolinewidth": 2
          },
          "yaxis": {
           "automargin": true,
           "gridcolor": "white",
           "linecolor": "white",
           "ticks": "",
           "title": {
            "standoff": 15
           },
           "zerolinecolor": "white",
           "zerolinewidth": 2
          }
         }
        }
       }
      },
      "image/png": "[encoded data removed]",
      "text/html": [
       "<div>                            <div id=\"e1006c0e-b3e5-4651-afd8-e7086f5eaad9\" class=\"plotly-graph-div\" style=\"height:800px; width:100%;\"></div>            <script type=\"text/javascript\">                require([\"plotly\"], function(Plotly) {                    window.PLOTLYENV=window.PLOTLYENV || {};                                    if (document.getElementById(\"e1006c0e-b3e5-4651-afd8-e7086f5eaad9\")) {                    Plotly.newPlot(                        \"e1006c0e-b3e5-4651-afd8-e7086f5eaad9\",                        [{\"branchvalues\":\"total\",\"domain\":{\"x\":[0.0,1.0],\"y\":[0.0,1.0]},\"hovertemplate\":\"labels=%{label}<br>customer_no=%{value}<br>parent=%{parent}<br>id=%{id}<extra></extra>\",\"ids\":[\"checkout/friday\",\"dairy/friday\",\"drinks/friday\",\"fruit/friday\",\"spices/friday\",\"checkout/monday\",\"dairy/monday\",\"drinks/monday\",\"fruit/monday\",\"spices/monday\",\"checkout/thursday\",\"dairy/thursday\",\"drinks/thursday\",\"fruit/thursday\",\"spices/thursday\",\"checkout/tuesday\",\"dairy/tuesday\",\"drinks/tuesday\",\"fruit/tuesday\",\"spices/tuesday\",\"checkout/wednesday\",\"dairy/wednesday\",\"drinks/wednesday\",\"fruit/wednesday\",\"spices/wednesday\",\"checkout\",\"dairy\",\"drinks\",\"fruit\",\"spices\"],\"labels\":[\"friday\",\"friday\",\"friday\",\"friday\",\"friday\",\"monday\",\"monday\",\"monday\",\"monday\",\"monday\",\"thursday\",\"thursday\",\"thursday\",\"thursday\",\"thursday\",\"tuesday\",\"tuesday\",\"tuesday\",\"tuesday\",\"tuesday\",\"wednesday\",\"wednesday\",\"wednesday\",\"wednesday\",\"wednesday\",\"checkout\",\"dairy\",\"drinks\",\"fruit\",\"spices\"],\"name\":\"\",\"parents\":[\"checkout\",\"dairy\",\"drinks\",\"fruit\",\"spices\",\"checkout\",\"dairy\",\"drinks\",\"fruit\",\"spices\",\"checkout\",\"dairy\",\"drinks\",\"fruit\",\"spices\",\"checkout\",\"dairy\",\"drinks\",\"fruit\",\"spices\",\"checkout\",\"dairy\",\"drinks\",\"fruit\",\"spices\",\"\",\"\",\"\",\"\",\"\"],\"values\":[1502,932,844,1057,790,1437,895,797,1005,750,1532,965,776,1041,790,1420,911,713,976,694,1526,976,775,1043,730,7417,4679,3905,5122,3754],\"type\":\"sunburst\"}],                        {\"template\":{\"data\":{\"histogram2dcontour\":[{\"type\":\"histogram2dcontour\",\"colorbar\":{\"outlinewidth\":0,\"ticks\":\"\"},\"colorscale\":[[0.0,\"#0d0887\"],[0.1111111111111111,\"#46039f\"],[0.2222222222222222,\"#7201a8\"],[0.3333333333333333,\"#9c179e\"],[0.4444444444444444,\"#bd3786\"],[0.5555555555555556,\"#d8576b\"],[0.6666666666666666,\"#ed7953\"],[0.7777777777777778,\"#fb9f3a\"],[0.8888888888888888,\"#fdca26\"],[1.0,\"#f0f921\"]]}],\"choropleth\":[{\"type\":\"choropleth\",\"colorbar\":{\"outlinewidth\":0,\"ticks\":\"\"}}],\"histogram2d\":[{\"type\":\"histogram2d\",\"colorbar\":{\"outlinewidth\":0,\"ticks\":\"\"},\"colorscale\":[[0.0,\"#0d0887\"],[0.1111111111111111,\"#46039f\"],[0.2222222222222222,\"#7201a8\"],[0.3333333333333333,\"#9c179e\"],[0.4444444444444444,\"#bd3786\"],[0.5555555555555556,\"#d8576b\"],[0.6666666666666666,\"#ed7953\"],[0.7777777777777778,\"#fb9f3a\"],[0.8888888888888888,\"#fdca26\"],[1.0,\"#f0f921\"]]}],\"heatmap\":[{\"type\":\"heatmap\",\"colorbar\":{\"outlinewidth\":0,\"ticks\":\"\"},\"colorscale\":[[0.0,\"#0d0887\"],[0.1111111111111111,\"#46039f\"],[0.2222222222222222,\"#7201a8\"],[0.3333333333333333,\"#9c179e\"],[0.4444444444444444,\"#bd3786\"],[0.5555555555555556,\"#d8576b\"],[0.6666666666666666,\"#ed7953\"],[0.7777777777777778,\"#fb9f3a\"],[0.8888888888888888,\"#fdca26\"],[1.0,\"#f0f921\"]]}],\"heatmapgl\":[{\"type\":\"heatmapgl\",\"colorbar\":{\"outlinewidth\":0,\"ticks\":\"\"},\"colorscale\":[[0.0,\"#0d0887\"],[0.1111111111111111,\"#46039f\"],[0.2222222222222222,\"#7201a8\"],[0.3333333333333333,\"#9c179e\"],[0.4444444444444444,\"#bd3786\"],[0.5555555555555556,\"#d8576b\"],[0.6666666666666666,\"#ed7953\"],[0.7777777777777778,\"#fb9f3a\"],[0.8888888888888888,\"#fdca26\"],[1.0,\"#f0f921\"]]}],\"contourcarpet\":[{\"type\":\"contourcarpet\",\"colorbar\":{\"outlinewidth\":0,\"ticks\":\"\"}}],\"contour\":[{\"type\":\"contour\",\"colorbar\":{\"outlinewidth\":0,\"ticks\":\"\"},\"colorscale\":[[0.0,\"#0d0887\"],[0.1111111111111111,\"#46039f\"],[0.2222222222222222,\"#7201a8\"],[0.3333333333333333,\"#9c179e\"],[0.4444444444444444,\"#bd3786\"],[0.5555555555555556,\"#d8576b\"],[0.6666666666666666,\"#ed7953\"],[0.7777777777777778,\"#fb9f3a\"],[0.8888888888888888,\"#fdca26\"],[1.0,\"#f0f921\"]]}],\"surface\":[{\"type\":\"surface\",\"colorbar\":{\"outlinewidth\":0,\"ticks\":\"\"},\"colorscale\":[[0.0,\"#0d0887\"],[0.1111111111111111,\"#46039f\"],[0.2222222222222222,\"#7201a8\"],[0.3333333333333333,\"#9c179e\"],[0.4444444444444444,\"#bd3786\"],[0.5555555555555556,\"#d8576b\"],[0.6666666666666666,\"#ed7953\"],[0.7777777777777778,\"#fb9f3a\"],[0.8888888888888888,\"#fdca26\"],[1.0,\"#f0f921\"]]}],\"mesh3d\":[{\"type\":\"mesh3d\",\"colorbar\":{\"outlinewidth\":0,\"ticks\":\"\"}}],\"scatter\":[{\"fillpattern\":{\"fillmode\":\"overlay\",\"size\":10,\"solidity\":0.2},\"type\":\"scatter\"}],\"parcoords\":[{\"type\":\"parcoords\",\"line\":{\"colorbar\":{\"outlinewidth\":0,\"ticks\":\"\"}}}],\"scatterpolargl\":[{\"type\":\"scatterpolargl\",\"marker\":{\"colorbar\":{\"outlinewidth\":0,\"ticks\":\"\"}}}],\"bar\":[{\"error_x\":{\"color\":\"#2a3f5f\"},\"error_y\":{\"color\":\"#2a3f5f\"},\"marker\":{\"line\":{\"color\":\"#E5ECF6\",\"width\":0.5},\"pattern\":{\"fillmode\":\"overlay\",\"size\":10,\"solidity\":0.2}},\"type\":\"bar\"}],\"scattergeo\":[{\"type\":\"scattergeo\",\"marker\":{\"colorbar\":{\"outlinewidth\":0,\"ticks\":\"\"}}}],\"scatterpolar\":[{\"type\":\"scatterpolar\",\"marker\":{\"colorbar\":{\"outlinewidth\":0,\"ticks\":\"\"}}}],\"histogram\":[{\"marker\":{\"pattern\":{\"fillmode\":\"overlay\",\"size\":10,\"solidity\":0.2}},\"type\":\"histogram\"}],\"scattergl\":[{\"type\":\"scattergl\",\"marker\":{\"colorbar\":{\"outlinewidth\":0,\"ticks\":\"\"}}}],\"scatter3d\":[{\"type\":\"scatter3d\",\"line\":{\"colorbar\":{\"outlinewidth\":0,\"ticks\":\"\"}},\"marker\":{\"colorbar\":{\"outlinewidth\":0,\"ticks\":\"\"}}}],\"scattermapbox\":[{\"type\":\"scattermapbox\",\"marker\":{\"colorbar\":{\"outlinewidth\":0,\"ticks\":\"\"}}}],\"scatterternary\":[{\"type\":\"scatterternary\",\"marker\":{\"colorbar\":{\"outlinewidth\":0,\"ticks\":\"\"}}}],\"scattercarpet\":[{\"type\":\"scattercarpet\",\"marker\":{\"colorbar\":{\"outlinewidth\":0,\"ticks\":\"\"}}}],\"carpet\":[{\"aaxis\":{\"endlinecolor\":\"#2a3f5f\",\"gridcolor\":\"white\",\"linecolor\":\"white\",\"minorgridcolor\":\"white\",\"startlinecolor\":\"#2a3f5f\"},\"baxis\":{\"endlinecolor\":\"#2a3f5f\",\"gridcolor\":\"white\",\"linecolor\":\"white\",\"minorgridcolor\":\"white\",\"startlinecolor\":\"#2a3f5f\"},\"type\":\"carpet\"}],\"table\":[{\"cells\":{\"fill\":{\"color\":\"#EBF0F8\"},\"line\":{\"color\":\"white\"}},\"header\":{\"fill\":{\"color\":\"#C8D4E3\"},\"line\":{\"color\":\"white\"}},\"type\":\"table\"}],\"barpolar\":[{\"marker\":{\"line\":{\"color\":\"#E5ECF6\",\"width\":0.5},\"pattern\":{\"fillmode\":\"overlay\",\"size\":10,\"solidity\":0.2}},\"type\":\"barpolar\"}],\"pie\":[{\"automargin\":true,\"type\":\"pie\"}]},\"layout\":{\"autotypenumbers\":\"strict\",\"colorway\":[\"#636efa\",\"#EF553B\",\"#00cc96\",\"#ab63fa\",\"#FFA15A\",\"#19d3f3\",\"#FF6692\",\"#B6E880\",\"#FF97FF\",\"#FECB52\"],\"font\":{\"color\":\"#2a3f5f\"},\"hovermode\":\"closest\",\"hoverlabel\":{\"align\":\"left\"},\"paper_bgcolor\":\"white\",\"plot_bgcolor\":\"#E5ECF6\",\"polar\":{\"bgcolor\":\"#E5ECF6\",\"angularaxis\":{\"gridcolor\":\"white\",\"linecolor\":\"white\",\"ticks\":\"\"},\"radialaxis\":{\"gridcolor\":\"white\",\"linecolor\":\"white\",\"ticks\":\"\"}},\"ternary\":{\"bgcolor\":\"#E5ECF6\",\"aaxis\":{\"gridcolor\":\"white\",\"linecolor\":\"white\",\"ticks\":\"\"},\"baxis\":{\"gridcolor\":\"white\",\"linecolor\":\"white\",\"ticks\":\"\"},\"caxis\":{\"gridcolor\":\"white\",\"linecolor\":\"white\",\"ticks\":\"\"}},\"coloraxis\":{\"colorbar\":{\"outlinewidth\":0,\"ticks\":\"\"}},\"colorscale\":{\"sequential\":[[0.0,\"#0d0887\"],[0.1111111111111111,\"#46039f\"],[0.2222222222222222,\"#7201a8\"],[0.3333333333333333,\"#9c179e\"],[0.4444444444444444,\"#bd3786\"],[0.5555555555555556,\"#d8576b\"],[0.6666666666666666,\"#ed7953\"],[0.7777777777777778,\"#fb9f3a\"],[0.8888888888888888,\"#fdca26\"],[1.0,\"#f0f921\"]],\"sequentialminus\":[[0.0,\"#0d0887\"],[0.1111111111111111,\"#46039f\"],[0.2222222222222222,\"#7201a8\"],[0.3333333333333333,\"#9c179e\"],[0.4444444444444444,\"#bd3786\"],[0.5555555555555556,\"#d8576b\"],[0.6666666666666666,\"#ed7953\"],[0.7777777777777778,\"#fb9f3a\"],[0.8888888888888888,\"#fdca26\"],[1.0,\"#f0f921\"]],\"diverging\":[[0,\"#8e0152\"],[0.1,\"#c51b7d\"],[0.2,\"#de77ae\"],[0.3,\"#f1b6da\"],[0.4,\"#fde0ef\"],[0.5,\"#f7f7f7\"],[0.6,\"#e6f5d0\"],[0.7,\"#b8e186\"],[0.8,\"#7fbc41\"],[0.9,\"#4d9221\"],[1,\"#276419\"]]},\"xaxis\":{\"gridcolor\":\"white\",\"linecolor\":\"white\",\"ticks\":\"\",\"title\":{\"standoff\":15},\"zerolinecolor\":\"white\",\"automargin\":true,\"zerolinewidth\":2},\"yaxis\":{\"gridcolor\":\"white\",\"linecolor\":\"white\",\"ticks\":\"\",\"title\":{\"standoff\":15},\"zerolinecolor\":\"white\",\"automargin\":true,\"zerolinewidth\":2},\"scene\":{\"xaxis\":{\"backgroundcolor\":\"#E5ECF6\",\"gridcolor\":\"white\",\"linecolor\":\"white\",\"showbackground\":true,\"ticks\":\"\",\"zerolinecolor\":\"white\",\"gridwidth\":2},\"yaxis\":{\"backgroundcolor\":\"#E5ECF6\",\"gridcolor\":\"white\",\"linecolor\":\"white\",\"showbackground\":true,\"ticks\":\"\",\"zerolinecolor\":\"white\",\"gridwidth\":2},\"zaxis\":{\"backgroundcolor\":\"#E5ECF6\",\"gridcolor\":\"white\",\"linecolor\":\"white\",\"showbackground\":true,\"ticks\":\"\",\"zerolinecolor\":\"white\",\"gridwidth\":2}},\"shapedefaults\":{\"line\":{\"color\":\"#2a3f5f\"}},\"annotationdefaults\":{\"arrowcolor\":\"#2a3f5f\",\"arrowhead\":0,\"arrowwidth\":1},\"geo\":{\"bgcolor\":\"white\",\"landcolor\":\"#E5ECF6\",\"subunitcolor\":\"white\",\"showland\":true,\"showlakes\":true,\"lakecolor\":\"white\"},\"title\":{\"x\":0.05},\"mapbox\":{\"style\":\"light\"}}},\"legend\":{\"tracegroupgap\":0},\"margin\":{\"t\":60},\"height\":800},                        {\"responsive\": true}                    ).then(function(){\n",
       "                            \n",
       "var gd = document.getElementById('e1006c0e-b3e5-4651-afd8-e7086f5eaad9');\n",
       "var x = new MutationObserver(function (mutations, observer) {{\n",
       "        var display = window.getComputedStyle(gd).display;\n",
       "        if (!display || display === 'none') {{\n",
       "            console.log([gd, 'removed!']);\n",
       "            Plotly.purge(gd);\n",
       "            observer.disconnect();\n",
       "        }}\n",
       "}});\n",
       "\n",
       "// Listen for the removal of the full notebook cells\n",
       "var notebookContainer = gd.closest('#notebook-container');\n",
       "if (notebookContainer) {{\n",
       "    x.observe(notebookContainer, {childList: true});\n",
       "}}\n",
       "\n",
       "// Listen for the clearing of the current output cell\n",
       "var outputEl = gd.closest('.output');\n",
       "if (outputEl) {{\n",
       "    x.observe(outputEl, {childList: true});\n",
       "}}\n",
       "\n",
       "                        })                };                });            </script>        </div>"
      ]
     },
     "metadata": {},
     "output_type": "display_data"
    }
   ],
   "source": [
    "import plotly.express as px\n",
    "fig = px.sunburst(total_customers, path=['location','weekday'], values='customer_no', height=800)\n",
    "fig.show()"
   ]
  },
  {
   "cell_type": "code",
   "execution_count": 141,
   "id": "1b5e07e6-054f-4b9c-a16c-bc00f42172a4",
   "metadata": {},
   "outputs": [
    {
     "data": {
      "text/plain": [
       "<AxesSubplot:ylabel='location'>"
      ]
     },
     "execution_count": 141,
     "metadata": {},
     "output_type": "execute_result"
    },
    {
     "data": {
      "image/png": "[encoded data removed]",
      "text/plain": [
       "<Figure size 864x576 with 1 Axes>"
      ]
     },
     "metadata": {
      "needs_background": "light"
     },
     "output_type": "display_data"
    }
   ],
   "source": [
    "total_customers_location=pd.DataFrame(df.groupby('location')['customer_no'].count())\n",
    "total_customers_location.plot(kind='barh',ylabel='number of customers')"
   ]
  },
  {
   "cell_type": "code",
   "execution_count": 114,
   "id": "114aa158-4bb1-4bc3-95cd-d90c74ed5e03",
   "metadata": {},
   "outputs": [
    {
     "data": {
      "text/plain": [
       "array(['monday', 'tuesday', 'wednesday', 'thursday', 'friday'],\n",
       "      dtype=object)"
      ]
     },
     "execution_count": 114,
     "metadata": {},
     "output_type": "execute_result"
    }
   ],
   "source": [
    "df.weekday.unique()"
   ]
  },
  {
   "cell_type": "code",
   "execution_count": 115,
   "id": "2fe944b3-be5c-40db-89d3-f4783f75966b",
   "metadata": {
    "tags": []
   },
   "outputs": [
    {
     "data": {
      "text/plain": [
       "timestamp            location\n",
       "2019-09-02 07:03:00  dairy       2\n",
       "2019-09-02 07:04:00  spices      3\n",
       "                     dairy       2\n",
       "                     fruit       1\n",
       "2019-09-02 07:05:00  checkout    2\n",
       "                                ..\n",
       "2019-09-06 21:50:00  checkout    2\n",
       "                     dairy       1\n",
       "                     drinks      1\n",
       "                     fruit       1\n",
       "                     spices      1\n",
       "Name: location, Length: 13839, dtype: int64"
      ]
     },
     "execution_count": 115,
     "metadata": {},
     "output_type": "execute_result"
    }
   ],
   "source": [
    "df_unstack = df.groupby('timestamp')['location'].value_counts().fillna(0)\n",
    "df_unstack"
   ]
  },
  {
   "cell_type": "code",
   "execution_count": 116,
   "id": "224085c4-7c3b-498a-b541-1de255436c0d",
   "metadata": {},
   "outputs": [
    {
     "data": {
      "text/html": [
       "<div>\n",
       "<style scoped>\n",
       "    .dataframe tbody tr th:only-of-type {\n",
       "        vertical-align: middle;\n",
       "    }\n",
       "\n",
       "    .dataframe tbody tr th {\n",
       "        vertical-align: top;\n",
       "    }\n",
       "\n",
       "    .dataframe thead th {\n",
       "        text-align: right;\n",
       "    }\n",
       "</style>\n",
       "<table border=\"1\" class=\"dataframe\">\n",
       "  <thead>\n",
       "    <tr style=\"text-align: right;\">\n",
       "      <th></th>\n",
       "      <th>timestamp</th>\n",
       "      <th>location</th>\n",
       "      <th>weekday</th>\n",
       "      <th>hour</th>\n",
       "      <th>customer_no</th>\n",
       "    </tr>\n",
       "  </thead>\n",
       "  <tbody>\n",
       "    <tr>\n",
       "      <th>0</th>\n",
       "      <td>2019-09-02 07:03:00</td>\n",
       "      <td>dairy</td>\n",
       "      <td>monday</td>\n",
       "      <td>7</td>\n",
       "      <td>2</td>\n",
       "    </tr>\n",
       "    <tr>\n",
       "      <th>1</th>\n",
       "      <td>2019-09-02 07:04:00</td>\n",
       "      <td>dairy</td>\n",
       "      <td>monday</td>\n",
       "      <td>7</td>\n",
       "      <td>2</td>\n",
       "    </tr>\n",
       "    <tr>\n",
       "      <th>2</th>\n",
       "      <td>2019-09-02 07:04:00</td>\n",
       "      <td>fruit</td>\n",
       "      <td>monday</td>\n",
       "      <td>7</td>\n",
       "      <td>1</td>\n",
       "    </tr>\n",
       "    <tr>\n",
       "      <th>3</th>\n",
       "      <td>2019-09-02 07:04:00</td>\n",
       "      <td>spices</td>\n",
       "      <td>monday</td>\n",
       "      <td>7</td>\n",
       "      <td>3</td>\n",
       "    </tr>\n",
       "    <tr>\n",
       "      <th>4</th>\n",
       "      <td>2019-09-02 07:05:00</td>\n",
       "      <td>checkout</td>\n",
       "      <td>monday</td>\n",
       "      <td>7</td>\n",
       "      <td>2</td>\n",
       "    </tr>\n",
       "    <tr>\n",
       "      <th>5</th>\n",
       "      <td>2019-09-02 07:05:00</td>\n",
       "      <td>dairy</td>\n",
       "      <td>monday</td>\n",
       "      <td>7</td>\n",
       "      <td>1</td>\n",
       "    </tr>\n",
       "    <tr>\n",
       "      <th>6</th>\n",
       "      <td>2019-09-02 07:05:00</td>\n",
       "      <td>drinks</td>\n",
       "      <td>monday</td>\n",
       "      <td>7</td>\n",
       "      <td>1</td>\n",
       "    </tr>\n",
       "    <tr>\n",
       "      <th>7</th>\n",
       "      <td>2019-09-02 07:06:00</td>\n",
       "      <td>checkout</td>\n",
       "      <td>monday</td>\n",
       "      <td>7</td>\n",
       "      <td>2</td>\n",
       "    </tr>\n",
       "    <tr>\n",
       "      <th>8</th>\n",
       "      <td>2019-09-02 07:06:00</td>\n",
       "      <td>dairy</td>\n",
       "      <td>monday</td>\n",
       "      <td>7</td>\n",
       "      <td>2</td>\n",
       "    </tr>\n",
       "    <tr>\n",
       "      <th>9</th>\n",
       "      <td>2019-09-02 07:06:00</td>\n",
       "      <td>drinks</td>\n",
       "      <td>monday</td>\n",
       "      <td>7</td>\n",
       "      <td>1</td>\n",
       "    </tr>\n",
       "  </tbody>\n",
       "</table>\n",
       "</div>"
      ],
      "text/plain": [
       "            timestamp  location weekday  hour  customer_no\n",
       "0 2019-09-02 07:03:00     dairy  monday     7            2\n",
       "1 2019-09-02 07:04:00     dairy  monday     7            2\n",
       "2 2019-09-02 07:04:00     fruit  monday     7            1\n",
       "3 2019-09-02 07:04:00    spices  monday     7            3\n",
       "4 2019-09-02 07:05:00  checkout  monday     7            2\n",
       "5 2019-09-02 07:05:00     dairy  monday     7            1\n",
       "6 2019-09-02 07:05:00    drinks  monday     7            1\n",
       "7 2019-09-02 07:06:00  checkout  monday     7            2\n",
       "8 2019-09-02 07:06:00     dairy  monday     7            2\n",
       "9 2019-09-02 07:06:00    drinks  monday     7            1"
      ]
     },
     "execution_count": 116,
     "metadata": {},
     "output_type": "execute_result"
    }
   ],
   "source": [
    "customers_per_time=pd.DataFrame(df.groupby(['timestamp','location','weekday','hour'])['customer_no'].count()).reset_index()\n",
    "customers_per_time.head(10)"
   ]
  },
  {
   "cell_type": "code",
   "execution_count": 110,
   "id": "248ed457-da41-4d7a-8dc6-1cdcad429ff8",
   "metadata": {},
   "outputs": [
    {
     "data": {
      "text/plain": [
       "[Text(0.5, 1.0, 'total number of customers in each section over time')]"
      ]
     },
     "execution_count": 110,
     "metadata": {},
     "output_type": "execute_result"
    },
    {
     "data": {
      "image/png": "[encoded data removed]",
      "text/plain": [
       "<Figure size 864x576 with 1 Axes>"
      ]
     },
     "metadata": {
      "needs_background": "light"
     },
     "output_type": "display_data"
    }
   ],
   "source": [
    "sns.lineplot(data=customers_per_time,x=customers_per_time['hour'],y=customers_per_time['customer_no'], hue=customers_per_time['location']).set(title='total number of customers in each section over time')"
   ]
  },
  {
   "cell_type": "markdown",
   "id": "b4f18ee4-e49c-42a2-b7c8-200adf0bcafc",
   "metadata": {
    "tags": []
   },
   "source": [
    "Display the number of customers at checkout over time"
   ]
  },
  {
   "cell_type": "code",
   "execution_count": 111,
   "id": "a9a35285-2131-4058-a537-04fc0448503c",
   "metadata": {},
   "outputs": [
    {
     "data": {
      "text/html": [
       "<div>\n",
       "<style scoped>\n",
       "    .dataframe tbody tr th:only-of-type {\n",
       "        vertical-align: middle;\n",
       "    }\n",
       "\n",
       "    .dataframe tbody tr th {\n",
       "        vertical-align: top;\n",
       "    }\n",
       "\n",
       "    .dataframe thead th {\n",
       "        text-align: right;\n",
       "    }\n",
       "</style>\n",
       "<table border=\"1\" class=\"dataframe\">\n",
       "  <thead>\n",
       "    <tr style=\"text-align: right;\">\n",
       "      <th></th>\n",
       "      <th>timestamp</th>\n",
       "      <th>location</th>\n",
       "      <th>weekday</th>\n",
       "      <th>hour</th>\n",
       "      <th>customer_no</th>\n",
       "    </tr>\n",
       "  </thead>\n",
       "  <tbody>\n",
       "    <tr>\n",
       "      <th>4</th>\n",
       "      <td>2019-09-02 07:05:00</td>\n",
       "      <td>checkout</td>\n",
       "      <td>monday</td>\n",
       "      <td>7</td>\n",
       "      <td>2</td>\n",
       "    </tr>\n",
       "    <tr>\n",
       "      <th>7</th>\n",
       "      <td>2019-09-02 07:06:00</td>\n",
       "      <td>checkout</td>\n",
       "      <td>monday</td>\n",
       "      <td>7</td>\n",
       "      <td>2</td>\n",
       "    </tr>\n",
       "    <tr>\n",
       "      <th>12</th>\n",
       "      <td>2019-09-02 07:07:00</td>\n",
       "      <td>checkout</td>\n",
       "      <td>monday</td>\n",
       "      <td>7</td>\n",
       "      <td>1</td>\n",
       "    </tr>\n",
       "    <tr>\n",
       "      <th>16</th>\n",
       "      <td>2019-09-02 07:08:00</td>\n",
       "      <td>checkout</td>\n",
       "      <td>monday</td>\n",
       "      <td>7</td>\n",
       "      <td>3</td>\n",
       "    </tr>\n",
       "    <tr>\n",
       "      <th>18</th>\n",
       "      <td>2019-09-02 07:09:00</td>\n",
       "      <td>checkout</td>\n",
       "      <td>monday</td>\n",
       "      <td>7</td>\n",
       "      <td>1</td>\n",
       "    </tr>\n",
       "    <tr>\n",
       "      <th>...</th>\n",
       "      <td>...</td>\n",
       "      <td>...</td>\n",
       "      <td>...</td>\n",
       "      <td>...</td>\n",
       "      <td>...</td>\n",
       "    </tr>\n",
       "    <tr>\n",
       "      <th>13813</th>\n",
       "      <td>2019-09-06 21:37:00</td>\n",
       "      <td>checkout</td>\n",
       "      <td>friday</td>\n",
       "      <td>21</td>\n",
       "      <td>1</td>\n",
       "    </tr>\n",
       "    <tr>\n",
       "      <th>13821</th>\n",
       "      <td>2019-09-06 21:45:00</td>\n",
       "      <td>checkout</td>\n",
       "      <td>friday</td>\n",
       "      <td>21</td>\n",
       "      <td>1</td>\n",
       "    </tr>\n",
       "    <tr>\n",
       "      <th>13825</th>\n",
       "      <td>2019-09-06 21:47:00</td>\n",
       "      <td>checkout</td>\n",
       "      <td>friday</td>\n",
       "      <td>21</td>\n",
       "      <td>2</td>\n",
       "    </tr>\n",
       "    <tr>\n",
       "      <th>13828</th>\n",
       "      <td>2019-09-06 21:48:00</td>\n",
       "      <td>checkout</td>\n",
       "      <td>friday</td>\n",
       "      <td>21</td>\n",
       "      <td>2</td>\n",
       "    </tr>\n",
       "    <tr>\n",
       "      <th>13834</th>\n",
       "      <td>2019-09-06 21:50:00</td>\n",
       "      <td>checkout</td>\n",
       "      <td>friday</td>\n",
       "      <td>21</td>\n",
       "      <td>2</td>\n",
       "    </tr>\n",
       "  </tbody>\n",
       "</table>\n",
       "<p>3460 rows × 5 columns</p>\n",
       "</div>"
      ],
      "text/plain": [
       "                timestamp  location weekday  hour  customer_no\n",
       "4     2019-09-02 07:05:00  checkout  monday     7            2\n",
       "7     2019-09-02 07:06:00  checkout  monday     7            2\n",
       "12    2019-09-02 07:07:00  checkout  monday     7            1\n",
       "16    2019-09-02 07:08:00  checkout  monday     7            3\n",
       "18    2019-09-02 07:09:00  checkout  monday     7            1\n",
       "...                   ...       ...     ...   ...          ...\n",
       "13813 2019-09-06 21:37:00  checkout  friday    21            1\n",
       "13821 2019-09-06 21:45:00  checkout  friday    21            1\n",
       "13825 2019-09-06 21:47:00  checkout  friday    21            2\n",
       "13828 2019-09-06 21:48:00  checkout  friday    21            2\n",
       "13834 2019-09-06 21:50:00  checkout  friday    21            2\n",
       "\n",
       "[3460 rows x 5 columns]"
      ]
     },
     "execution_count": 111,
     "metadata": {},
     "output_type": "execute_result"
    }
   ],
   "source": [
    "customer_at_checkout=customers_per_time[customers_per_time['location']=='checkout']\n",
    "customer_at_checkout"
   ]
  },
  {
   "cell_type": "code",
   "execution_count": 112,
   "id": "99d65a4e-0c8d-42ea-ad77-0cc5cc7e540e",
   "metadata": {},
   "outputs": [
    {
     "data": {
      "text/plain": [
       "[Text(0.5, 1.0, 'number of customers at checkout over time')]"
      ]
     },
     "execution_count": 112,
     "metadata": {},
     "output_type": "execute_result"
    },
    {
     "data": {
      "image/png": "[encoded data removed]",
      "text/plain": [
       "<Figure size 864x576 with 1 Axes>"
      ]
     },
     "metadata": {
      "needs_background": "light"
     },
     "output_type": "display_data"
    }
   ],
   "source": [
    "sns.lineplot(data=customer_at_checkout,x=customer_at_checkout['hour'],y=customer_at_checkout['customer_no'], hue=customer_at_checkout['weekday']).set(title='number of customers at checkout over time')"
   ]
  },
  {
   "cell_type": "markdown",
   "id": "967f6bea-b081-4cad-8d90-031d8f1b7163",
   "metadata": {},
   "source": [
    "# **Time Each Customer Spent In Market**"
   ]
  },
  {
   "cell_type": "code",
   "execution_count": 117,
   "id": "19ecafbf-0ef1-42d5-9f8d-ce0aa01e87f2",
   "metadata": {
    "tags": []
   },
   "outputs": [],
   "source": [
    "df1=df[['timestamp','weekday','hour','location','customer_no']]\n",
    "df1['uniqueID']=df['weekday']+df['customer_no'].astype(str)"
   ]
  },
  {
   "cell_type": "code",
   "execution_count": 118,
   "id": "c0aeb5e8-be95-4dfb-bef0-573aa5565129",
   "metadata": {},
   "outputs": [],
   "source": [
    "df1 = df1.sort_values(['customer_no','timestamp']).reset_index()\n",
    "df1['timespent'] = df1.groupby('uniqueID')['timestamp'].diff()"
   ]
  },
  {
   "cell_type": "code",
   "execution_count": 119,
   "id": "d3e03e08-13c5-4201-8f22-7ace5b62db0b",
   "metadata": {
    "tags": []
   },
   "outputs": [],
   "source": [
    "df1=pd.DataFrame(df1)"
   ]
  },
  {
   "cell_type": "code",
   "execution_count": 120,
   "id": "7546affa-d9bc-413f-8f60-7e13c391f07d",
   "metadata": {},
   "outputs": [
    {
     "data": {
      "text/plain": [
       "0                   NaT\n",
       "1       0 days 00:02:00\n",
       "2                   NaT\n",
       "3       0 days 00:03:00\n",
       "4       0 days 00:07:00\n",
       "              ...      \n",
       "24872               NaT\n",
       "24873               NaT\n",
       "24874   0 days 00:01:00\n",
       "24875               NaT\n",
       "24876   0 days 00:01:00\n",
       "Name: timespent, Length: 24877, dtype: timedelta64[ns]"
      ]
     },
     "execution_count": 120,
     "metadata": {},
     "output_type": "execute_result"
    }
   ],
   "source": [
    "df1['timespent']"
   ]
  },
  {
   "cell_type": "code",
   "execution_count": 121,
   "id": "f24ad1cc-f0c8-4784-9bf2-b338e54ebebd",
   "metadata": {},
   "outputs": [
    {
     "data": {
      "text/plain": [
       "24877"
      ]
     },
     "execution_count": 121,
     "metadata": {},
     "output_type": "execute_result"
    }
   ],
   "source": [
    "df1['uniqueID'].count()"
   ]
  },
  {
   "cell_type": "code",
   "execution_count": 122,
   "id": "8cf5c917-488f-4508-b694-854cd51d940e",
   "metadata": {
    "tags": []
   },
   "outputs": [
    {
     "data": {
      "text/html": [
       "<div>\n",
       "<style scoped>\n",
       "    .dataframe tbody tr th:only-of-type {\n",
       "        vertical-align: middle;\n",
       "    }\n",
       "\n",
       "    .dataframe tbody tr th {\n",
       "        vertical-align: top;\n",
       "    }\n",
       "\n",
       "    .dataframe thead th {\n",
       "        text-align: right;\n",
       "    }\n",
       "</style>\n",
       "<table border=\"1\" class=\"dataframe\">\n",
       "  <thead>\n",
       "    <tr style=\"text-align: right;\">\n",
       "      <th></th>\n",
       "      <th>index</th>\n",
       "      <th>timestamp</th>\n",
       "      <th>weekday</th>\n",
       "      <th>hour</th>\n",
       "      <th>location</th>\n",
       "      <th>customer_no</th>\n",
       "      <th>uniqueID</th>\n",
       "      <th>timespent</th>\n",
       "    </tr>\n",
       "  </thead>\n",
       "  <tbody>\n",
       "    <tr>\n",
       "      <th>22</th>\n",
       "      <td>1970-01-01 00:00:00.000000001</td>\n",
       "      <td>2019-09-06 07:00:00</td>\n",
       "      <td>friday</td>\n",
       "      <td>7</td>\n",
       "      <td>drinks</td>\n",
       "      <td>2</td>\n",
       "      <td>friday2</td>\n",
       "      <td>NaT</td>\n",
       "    </tr>\n",
       "    <tr>\n",
       "      <th>23</th>\n",
       "      <td>1970-01-01 00:00:00.000000003</td>\n",
       "      <td>2019-09-06 07:01:00</td>\n",
       "      <td>friday</td>\n",
       "      <td>7</td>\n",
       "      <td>checkout</td>\n",
       "      <td>2</td>\n",
       "      <td>friday2</td>\n",
       "      <td>0 days 00:01:00</td>\n",
       "    </tr>\n",
       "  </tbody>\n",
       "</table>\n",
       "</div>"
      ],
      "text/plain": [
       "                           index           timestamp weekday  hour  location  \\\n",
       "22 1970-01-01 00:00:00.000000001 2019-09-06 07:00:00  friday     7    drinks   \n",
       "23 1970-01-01 00:00:00.000000003 2019-09-06 07:01:00  friday     7  checkout   \n",
       "\n",
       "    customer_no uniqueID       timespent  \n",
       "22            2  friday2             NaT  \n",
       "23            2  friday2 0 days 00:01:00  "
      ]
     },
     "execution_count": 122,
     "metadata": {},
     "output_type": "execute_result"
    }
   ],
   "source": [
    "df1[df1['uniqueID']=='friday2']"
   ]
  },
  {
   "cell_type": "code",
   "execution_count": 123,
   "id": "cd188202-e460-442b-aa8d-769279d089be",
   "metadata": {},
   "outputs": [
    {
     "data": {
      "text/html": [
       "<div>\n",
       "<style scoped>\n",
       "    .dataframe tbody tr th:only-of-type {\n",
       "        vertical-align: middle;\n",
       "    }\n",
       "\n",
       "    .dataframe tbody tr th {\n",
       "        vertical-align: top;\n",
       "    }\n",
       "\n",
       "    .dataframe thead th {\n",
       "        text-align: right;\n",
       "    }\n",
       "</style>\n",
       "<table border=\"1\" class=\"dataframe\">\n",
       "  <thead>\n",
       "    <tr style=\"text-align: right;\">\n",
       "      <th></th>\n",
       "      <th>weekday</th>\n",
       "      <th>uniqueID</th>\n",
       "      <th>timestamp</th>\n",
       "    </tr>\n",
       "  </thead>\n",
       "  <tbody>\n",
       "    <tr>\n",
       "      <th>0</th>\n",
       "      <td>friday</td>\n",
       "      <td>friday1</td>\n",
       "      <td>5.0</td>\n",
       "    </tr>\n",
       "    <tr>\n",
       "      <th>1</th>\n",
       "      <td>friday</td>\n",
       "      <td>friday10</td>\n",
       "      <td>5.0</td>\n",
       "    </tr>\n",
       "    <tr>\n",
       "      <th>2</th>\n",
       "      <td>friday</td>\n",
       "      <td>friday100</td>\n",
       "      <td>1.0</td>\n",
       "    </tr>\n",
       "    <tr>\n",
       "      <th>3</th>\n",
       "      <td>friday</td>\n",
       "      <td>friday1000</td>\n",
       "      <td>1.0</td>\n",
       "    </tr>\n",
       "    <tr>\n",
       "      <th>4</th>\n",
       "      <td>friday</td>\n",
       "      <td>friday1001</td>\n",
       "      <td>10.0</td>\n",
       "    </tr>\n",
       "    <tr>\n",
       "      <th>...</th>\n",
       "      <td>...</td>\n",
       "      <td>...</td>\n",
       "      <td>...</td>\n",
       "    </tr>\n",
       "    <tr>\n",
       "      <th>7440</th>\n",
       "      <td>wednesday</td>\n",
       "      <td>wednesday995</td>\n",
       "      <td>28.0</td>\n",
       "    </tr>\n",
       "    <tr>\n",
       "      <th>7441</th>\n",
       "      <td>wednesday</td>\n",
       "      <td>wednesday996</td>\n",
       "      <td>11.0</td>\n",
       "    </tr>\n",
       "    <tr>\n",
       "      <th>7442</th>\n",
       "      <td>wednesday</td>\n",
       "      <td>wednesday997</td>\n",
       "      <td>22.0</td>\n",
       "    </tr>\n",
       "    <tr>\n",
       "      <th>7443</th>\n",
       "      <td>wednesday</td>\n",
       "      <td>wednesday998</td>\n",
       "      <td>6.0</td>\n",
       "    </tr>\n",
       "    <tr>\n",
       "      <th>7444</th>\n",
       "      <td>wednesday</td>\n",
       "      <td>wednesday999</td>\n",
       "      <td>1.0</td>\n",
       "    </tr>\n",
       "  </tbody>\n",
       "</table>\n",
       "<p>7445 rows × 3 columns</p>\n",
       "</div>"
      ],
      "text/plain": [
       "        weekday      uniqueID  timestamp\n",
       "0        friday       friday1        5.0\n",
       "1        friday      friday10        5.0\n",
       "2        friday     friday100        1.0\n",
       "3        friday    friday1000        1.0\n",
       "4        friday    friday1001       10.0\n",
       "...         ...           ...        ...\n",
       "7440  wednesday  wednesday995       28.0\n",
       "7441  wednesday  wednesday996       11.0\n",
       "7442  wednesday  wednesday997       22.0\n",
       "7443  wednesday  wednesday998        6.0\n",
       "7444  wednesday  wednesday999        1.0\n",
       "\n",
       "[7445 rows x 3 columns]"
      ]
     },
     "execution_count": 123,
     "metadata": {},
     "output_type": "execute_result"
    }
   ],
   "source": [
    "time_spent_in_market= df1.groupby(['weekday','uniqueID'])['timestamp'].apply(lambda x: x.max() - x.min()).dt.seconds/60\n",
    "time_spent_in_market=pd.DataFrame(time_spent_in_market).reset_index()\n",
    "time_spent_in_market"
   ]
  },
  {
   "cell_type": "code",
   "execution_count": 124,
   "id": "91897863-4a57-46e7-90c3-0961a8a68e58",
   "metadata": {},
   "outputs": [
    {
     "data": {
      "text/html": [
       "<div>\n",
       "<style scoped>\n",
       "    .dataframe tbody tr th:only-of-type {\n",
       "        vertical-align: middle;\n",
       "    }\n",
       "\n",
       "    .dataframe tbody tr th {\n",
       "        vertical-align: top;\n",
       "    }\n",
       "\n",
       "    .dataframe thead th {\n",
       "        text-align: right;\n",
       "    }\n",
       "</style>\n",
       "<table border=\"1\" class=\"dataframe\">\n",
       "  <thead>\n",
       "    <tr style=\"text-align: right;\">\n",
       "      <th></th>\n",
       "      <th>weekday</th>\n",
       "      <th>uniqueID</th>\n",
       "      <th>timestamp</th>\n",
       "    </tr>\n",
       "  </thead>\n",
       "  <tbody>\n",
       "    <tr>\n",
       "      <th>1510</th>\n",
       "      <td>monday</td>\n",
       "      <td>monday1</td>\n",
       "      <td>2.0</td>\n",
       "    </tr>\n",
       "  </tbody>\n",
       "</table>\n",
       "</div>"
      ],
      "text/plain": [
       "     weekday uniqueID  timestamp\n",
       "1510  monday  monday1        2.0"
      ]
     },
     "execution_count": 124,
     "metadata": {},
     "output_type": "execute_result"
    }
   ],
   "source": [
    "time_spent_in_market[time_spent_in_market['uniqueID']=='monday1']"
   ]
  },
  {
   "cell_type": "markdown",
   "id": "d8d9d073-a65f-4332-86c4-5756f15ea347",
   "metadata": {},
   "source": [
    "Calculate the total number of customers in the supermarket over time"
   ]
  },
  {
   "cell_type": "code",
   "execution_count": 125,
   "id": "6e0f4d4c-66b6-4b8f-b489-4f4d8efc27ce",
   "metadata": {
    "tags": []
   },
   "outputs": [],
   "source": [
    "dff=df[['year','month','week','weekday','hour','minutes','customer_no']]\n",
    "dff['uniqueID']=df['weekday']+df['customer_no'].astype(str)\n",
    "dff.drop_duplicates(subset='uniqueID', keep=\"last\",inplace=True)"
   ]
  },
  {
   "cell_type": "code",
   "execution_count": 126,
   "id": "4d8f4f6c-641d-4e77-b28f-33d79c92fa5c",
   "metadata": {},
   "outputs": [],
   "source": [
    "dff['totalcustomers'] = np.where(dff.uniqueID.is_unique,dff.uniqueID.is_unique,1)"
   ]
  },
  {
   "cell_type": "code",
   "execution_count": 127,
   "id": "9605fa03-7dea-493c-ba75-fdf2ae767c18",
   "metadata": {},
   "outputs": [
    {
     "data": {
      "text/html": [
       "<div>\n",
       "<style scoped>\n",
       "    .dataframe tbody tr th:only-of-type {\n",
       "        vertical-align: middle;\n",
       "    }\n",
       "\n",
       "    .dataframe tbody tr th {\n",
       "        vertical-align: top;\n",
       "    }\n",
       "\n",
       "    .dataframe thead th {\n",
       "        text-align: right;\n",
       "    }\n",
       "</style>\n",
       "<table border=\"1\" class=\"dataframe\">\n",
       "  <thead>\n",
       "    <tr style=\"text-align: right;\">\n",
       "      <th></th>\n",
       "      <th>index</th>\n",
       "      <th>year</th>\n",
       "      <th>month</th>\n",
       "      <th>week</th>\n",
       "      <th>weekday</th>\n",
       "      <th>hour</th>\n",
       "      <th>minutes</th>\n",
       "      <th>customer_no</th>\n",
       "      <th>uniqueID</th>\n",
       "      <th>totalcustomers</th>\n",
       "    </tr>\n",
       "  </thead>\n",
       "  <tbody>\n",
       "    <tr>\n",
       "      <th>0</th>\n",
       "      <td>1970-01-01 00:00:00.000000008</td>\n",
       "      <td>2019</td>\n",
       "      <td>9</td>\n",
       "      <td>36</td>\n",
       "      <td>monday</td>\n",
       "      <td>7</td>\n",
       "      <td>5</td>\n",
       "      <td>1</td>\n",
       "      <td>monday1</td>\n",
       "      <td>1</td>\n",
       "    </tr>\n",
       "    <tr>\n",
       "      <th>1</th>\n",
       "      <td>1970-01-01 00:00:00.000000009</td>\n",
       "      <td>2019</td>\n",
       "      <td>9</td>\n",
       "      <td>36</td>\n",
       "      <td>monday</td>\n",
       "      <td>7</td>\n",
       "      <td>5</td>\n",
       "      <td>5</td>\n",
       "      <td>monday5</td>\n",
       "      <td>1</td>\n",
       "    </tr>\n",
       "    <tr>\n",
       "      <th>2</th>\n",
       "      <td>1970-01-01 00:00:00.000000013</td>\n",
       "      <td>2019</td>\n",
       "      <td>9</td>\n",
       "      <td>36</td>\n",
       "      <td>monday</td>\n",
       "      <td>7</td>\n",
       "      <td>6</td>\n",
       "      <td>3</td>\n",
       "      <td>monday3</td>\n",
       "      <td>1</td>\n",
       "    </tr>\n",
       "    <tr>\n",
       "      <th>3</th>\n",
       "      <td>1970-01-01 00:00:00.000000012</td>\n",
       "      <td>2019</td>\n",
       "      <td>9</td>\n",
       "      <td>36</td>\n",
       "      <td>monday</td>\n",
       "      <td>7</td>\n",
       "      <td>6</td>\n",
       "      <td>2</td>\n",
       "      <td>monday2</td>\n",
       "      <td>1</td>\n",
       "    </tr>\n",
       "    <tr>\n",
       "      <th>4</th>\n",
       "      <td>1970-01-01 00:00:00.000000020</td>\n",
       "      <td>2019</td>\n",
       "      <td>9</td>\n",
       "      <td>36</td>\n",
       "      <td>monday</td>\n",
       "      <td>7</td>\n",
       "      <td>7</td>\n",
       "      <td>8</td>\n",
       "      <td>monday8</td>\n",
       "      <td>1</td>\n",
       "    </tr>\n",
       "    <tr>\n",
       "      <th>...</th>\n",
       "      <td>...</td>\n",
       "      <td>...</td>\n",
       "      <td>...</td>\n",
       "      <td>...</td>\n",
       "      <td>...</td>\n",
       "      <td>...</td>\n",
       "      <td>...</td>\n",
       "      <td>...</td>\n",
       "      <td>...</td>\n",
       "      <td>...</td>\n",
       "    </tr>\n",
       "    <tr>\n",
       "      <th>7440</th>\n",
       "      <td>1970-01-01 00:00:00.000005123</td>\n",
       "      <td>2019</td>\n",
       "      <td>9</td>\n",
       "      <td>36</td>\n",
       "      <td>friday</td>\n",
       "      <td>21</td>\n",
       "      <td>50</td>\n",
       "      <td>1509</td>\n",
       "      <td>friday1509</td>\n",
       "      <td>1</td>\n",
       "    </tr>\n",
       "    <tr>\n",
       "      <th>7441</th>\n",
       "      <td>1970-01-01 00:00:00.000005121</td>\n",
       "      <td>2019</td>\n",
       "      <td>9</td>\n",
       "      <td>36</td>\n",
       "      <td>friday</td>\n",
       "      <td>21</td>\n",
       "      <td>50</td>\n",
       "      <td>1507</td>\n",
       "      <td>friday1507</td>\n",
       "      <td>1</td>\n",
       "    </tr>\n",
       "    <tr>\n",
       "      <th>7442</th>\n",
       "      <td>1970-01-01 00:00:00.000005122</td>\n",
       "      <td>2019</td>\n",
       "      <td>9</td>\n",
       "      <td>36</td>\n",
       "      <td>friday</td>\n",
       "      <td>21</td>\n",
       "      <td>50</td>\n",
       "      <td>1508</td>\n",
       "      <td>friday1508</td>\n",
       "      <td>1</td>\n",
       "    </tr>\n",
       "    <tr>\n",
       "      <th>7443</th>\n",
       "      <td>1970-01-01 00:00:00.000005119</td>\n",
       "      <td>2019</td>\n",
       "      <td>9</td>\n",
       "      <td>36</td>\n",
       "      <td>friday</td>\n",
       "      <td>21</td>\n",
       "      <td>50</td>\n",
       "      <td>1496</td>\n",
       "      <td>friday1496</td>\n",
       "      <td>1</td>\n",
       "    </tr>\n",
       "    <tr>\n",
       "      <th>7444</th>\n",
       "      <td>1970-01-01 00:00:00.000005120</td>\n",
       "      <td>2019</td>\n",
       "      <td>9</td>\n",
       "      <td>36</td>\n",
       "      <td>friday</td>\n",
       "      <td>21</td>\n",
       "      <td>50</td>\n",
       "      <td>1500</td>\n",
       "      <td>friday1500</td>\n",
       "      <td>1</td>\n",
       "    </tr>\n",
       "  </tbody>\n",
       "</table>\n",
       "<p>7445 rows × 10 columns</p>\n",
       "</div>"
      ],
      "text/plain": [
       "                             index  year  month  week weekday  hour  minutes  \\\n",
       "0    1970-01-01 00:00:00.000000008  2019      9    36  monday     7        5   \n",
       "1    1970-01-01 00:00:00.000000009  2019      9    36  monday     7        5   \n",
       "2    1970-01-01 00:00:00.000000013  2019      9    36  monday     7        6   \n",
       "3    1970-01-01 00:00:00.000000012  2019      9    36  monday     7        6   \n",
       "4    1970-01-01 00:00:00.000000020  2019      9    36  monday     7        7   \n",
       "...                            ...   ...    ...   ...     ...   ...      ...   \n",
       "7440 1970-01-01 00:00:00.000005123  2019      9    36  friday    21       50   \n",
       "7441 1970-01-01 00:00:00.000005121  2019      9    36  friday    21       50   \n",
       "7442 1970-01-01 00:00:00.000005122  2019      9    36  friday    21       50   \n",
       "7443 1970-01-01 00:00:00.000005119  2019      9    36  friday    21       50   \n",
       "7444 1970-01-01 00:00:00.000005120  2019      9    36  friday    21       50   \n",
       "\n",
       "      customer_no    uniqueID  totalcustomers  \n",
       "0               1     monday1               1  \n",
       "1               5     monday5               1  \n",
       "2               3     monday3               1  \n",
       "3               2     monday2               1  \n",
       "4               8     monday8               1  \n",
       "...           ...         ...             ...  \n",
       "7440         1509  friday1509               1  \n",
       "7441         1507  friday1507               1  \n",
       "7442         1508  friday1508               1  \n",
       "7443         1496  friday1496               1  \n",
       "7444         1500  friday1500               1  \n",
       "\n",
       "[7445 rows x 10 columns]"
      ]
     },
     "execution_count": 127,
     "metadata": {},
     "output_type": "execute_result"
    }
   ],
   "source": [
    "dff.reset_index()"
   ]
  },
  {
   "cell_type": "code",
   "execution_count": 130,
   "id": "33b60791-4598-4657-876c-b804a6e34170",
   "metadata": {},
   "outputs": [
    {
     "data": {
      "application/vnd.plotly.v1+json": {
       "config": {
        "plotlyServerURL": "https://plot.ly"
       },
       "data": [
        {
         "branchvalues": "total",
         "domain": {
          "x": [
           0,
           1
          ],
          "y": [
           0,
           1
          ]
         },
         "hovertemplate": "labels=%{label}<br>totalcustomers=%{value}<br>parent=%{parent}<br>id=%{id}<extra></extra>",
         "ids": [
          "2019/9/36/friday/7",
          "2019/9/36/monday/7",
          "2019/9/36/thursday/7",
          "2019/9/36/tuesday/7",
          "2019/9/36/wednesday/7",
          "2019/9/36/friday/8",
          "2019/9/36/monday/8",
          "2019/9/36/thursday/8",
          "2019/9/36/tuesday/8",
          "2019/9/36/wednesday/8",
          "2019/9/36/friday/9",
          "2019/9/36/monday/9",
          "2019/9/36/thursday/9",
          "2019/9/36/tuesday/9",
          "2019/9/36/wednesday/9",
          "2019/9/36/friday/10",
          "2019/9/36/monday/10",
          "2019/9/36/thursday/10",
          "2019/9/36/tuesday/10",
          "2019/9/36/wednesday/10",
          "2019/9/36/friday/11",
          "2019/9/36/monday/11",
          "2019/9/36/thursday/11",
          "2019/9/36/tuesday/11",
          "2019/9/36/wednesday/11",
          "2019/9/36/friday/12",
          "2019/9/36/monday/12",
          "2019/9/36/thursday/12",
          "2019/9/36/tuesday/12",
          "2019/9/36/wednesday/12",
          "2019/9/36/friday/13",
          "2019/9/36/monday/13",
          "2019/9/36/thursday/13",
          "2019/9/36/tuesday/13",
          "2019/9/36/wednesday/13",
          "2019/9/36/friday/14",
          "2019/9/36/monday/14",
          "2019/9/36/thursday/14",
          "2019/9/36/tuesday/14",
          "2019/9/36/wednesday/14",
          "2019/9/36/friday/15",
          "2019/9/36/monday/15",
          "2019/9/36/thursday/15",
          "2019/9/36/tuesday/15",
          "2019/9/36/wednesday/15",
          "2019/9/36/friday/16",
          "2019/9/36/monday/16",
          "2019/9/36/thursday/16",
          "2019/9/36/tuesday/16",
          "2019/9/36/wednesday/16",
          "2019/9/36/friday/17",
          "2019/9/36/monday/17",
          "2019/9/36/thursday/17",
          "2019/9/36/tuesday/17",
          "2019/9/36/wednesday/17",
          "2019/9/36/friday/18",
          "2019/9/36/monday/18",
          "2019/9/36/thursday/18",
          "2019/9/36/tuesday/18",
          "2019/9/36/wednesday/18",
          "2019/9/36/friday/19",
          "2019/9/36/monday/19",
          "2019/9/36/thursday/19",
          "2019/9/36/tuesday/19",
          "2019/9/36/wednesday/19",
          "2019/9/36/friday/20",
          "2019/9/36/monday/20",
          "2019/9/36/thursday/20",
          "2019/9/36/tuesday/20",
          "2019/9/36/wednesday/20",
          "2019/9/36/friday/21",
          "2019/9/36/monday/21",
          "2019/9/36/thursday/21",
          "2019/9/36/tuesday/21",
          "2019/9/36/wednesday/21",
          "2019/9/36/friday",
          "2019/9/36/monday",
          "2019/9/36/thursday",
          "2019/9/36/tuesday",
          "2019/9/36/wednesday",
          "2019/9/36",
          "2019/9",
          "2019"
         ],
         "labels": [
          "7",
          "7",
          "7",
          "7",
          "7",
          "8",
          "8",
          "8",
          "8",
          "8",
          "9",
          "9",
          "9",
          "9",
          "9",
          "10",
          "10",
          "10",
          "10",
          "10",
          "11",
          "11",
          "11",
          "11",
          "11",
          "12",
          "12",
          "12",
          "12",
          "12",
          "13",
          "13",
          "13",
          "13",
          "13",
          "14",
          "14",
          "14",
          "14",
          "14",
          "15",
          "15",
          "15",
          "15",
          "15",
          "16",
          "16",
          "16",
          "16",
          "16",
          "17",
          "17",
          "17",
          "17",
          "17",
          "18",
          "18",
          "18",
          "18",
          "18",
          "19",
          "19",
          "19",
          "19",
          "19",
          "20",
          "20",
          "20",
          "20",
          "20",
          "21",
          "21",
          "21",
          "21",
          "21",
          "friday",
          "monday",
          "thursday",
          "tuesday",
          "wednesday",
          "36",
          "9",
          "2019"
         ],
         "name": "",
         "parents": [
          "2019/9/36/friday",
          "2019/9/36/monday",
          "2019/9/36/thursday",
          "2019/9/36/tuesday",
          "2019/9/36/wednesday",
          "2019/9/36/friday",
          "2019/9/36/monday",
          "2019/9/36/thursday",
          "2019/9/36/tuesday",
          "2019/9/36/wednesday",
          "2019/9/36/friday",
          "2019/9/36/monday",
          "2019/9/36/thursday",
          "2019/9/36/tuesday",
          "2019/9/36/wednesday",
          "2019/9/36/friday",
          "2019/9/36/monday",
          "2019/9/36/thursday",
          "2019/9/36/tuesday",
          "2019/9/36/wednesday",
          "2019/9/36/friday",
          "2019/9/36/monday",
          "2019/9/36/thursday",
          "2019/9/36/tuesday",
          "2019/9/36/wednesday",
          "2019/9/36/friday",
          "2019/9/36/monday",
          "2019/9/36/thursday",
          "2019/9/36/tuesday",
          "2019/9/36/wednesday",
          "2019/9/36/friday",
          "2019/9/36/monday",
          "2019/9/36/thursday",
          "2019/9/36/tuesday",
          "2019/9/36/wednesday",
          "2019/9/36/friday",
          "2019/9/36/monday",
          "2019/9/36/thursday",
          "2019/9/36/tuesday",
          "2019/9/36/wednesday",
          "2019/9/36/friday",
          "2019/9/36/monday",
          "2019/9/36/thursday",
          "2019/9/36/tuesday",
          "2019/9/36/wednesday",
          "2019/9/36/friday",
          "2019/9/36/monday",
          "2019/9/36/thursday",
          "2019/9/36/tuesday",
          "2019/9/36/wednesday",
          "2019/9/36/friday",
          "2019/9/36/monday",
          "2019/9/36/thursday",
          "2019/9/36/tuesday",
          "2019/9/36/wednesday",
          "2019/9/36/friday",
          "2019/9/36/monday",
          "2019/9/36/thursday",
          "2019/9/36/tuesday",
          "2019/9/36/wednesday",
          "2019/9/36/friday",
          "2019/9/36/monday",
          "2019/9/36/thursday",
          "2019/9/36/tuesday",
          "2019/9/36/wednesday",
          "2019/9/36/friday",
          "2019/9/36/monday",
          "2019/9/36/thursday",
          "2019/9/36/tuesday",
          "2019/9/36/wednesday",
          "2019/9/36/friday",
          "2019/9/36/monday",
          "2019/9/36/thursday",
          "2019/9/36/tuesday",
          "2019/9/36/wednesday",
          "2019/9/36",
          "2019/9/36",
          "2019/9/36",
          "2019/9/36",
          "2019/9/36",
          "2019/9",
          "2019",
          ""
         ],
         "type": "sunburst",
         "values": [
          87,
          92,
          99,
          91,
          85,
          132,
          112,
          139,
          129,
          165,
          82,
          85,
          105,
          77,
          106,
          80,
          90,
          91,
          81,
          85,
          79,
          55,
          73,
          47,
          88,
          90,
          73,
          72,
          60,
          89,
          108,
          120,
          80,
          104,
          102,
          108,
          90,
          83,
          110,
          105,
          81,
          94,
          86,
          72,
          79,
          102,
          86,
          118,
          118,
          94,
          115,
          122,
          112,
          109,
          98,
          148,
          128,
          123,
          134,
          97,
          135,
          129,
          172,
          127,
          192,
          103,
          109,
          96,
          99,
          85,
          60,
          62,
          86,
          64,
          61,
          1510,
          1447,
          1535,
          1422,
          1531,
          7445,
          7445,
          7445
         ]
        }
       ],
       "layout": {
        "autosize": true,
        "legend": {
         "tracegroupgap": 0
        },
        "margin": {
         "t": 60
        },
        "template": {
         "data": {
          "bar": [
           {
            "error_x": {
             "color": "#2a3f5f"
            },
            "error_y": {
             "color": "#2a3f5f"
            },
            "marker": {
             "line": {
              "color": "#E5ECF6",
              "width": 0.5
             },
             "pattern": {
              "fillmode": "overlay",
              "size": 10,
              "solidity": 0.2
             }
            },
            "type": "bar"
           }
          ],
          "barpolar": [
           {
            "marker": {
             "line": {
              "color": "#E5ECF6",
              "width": 0.5
             },
             "pattern": {
              "fillmode": "overlay",
              "size": 10,
              "solidity": 0.2
             }
            },
            "type": "barpolar"
           }
          ],
          "carpet": [
           {
            "aaxis": {
             "endlinecolor": "#2a3f5f",
             "gridcolor": "white",
             "linecolor": "white",
             "minorgridcolor": "white",
             "startlinecolor": "#2a3f5f"
            },
            "baxis": {
             "endlinecolor": "#2a3f5f",
             "gridcolor": "white",
             "linecolor": "white",
             "minorgridcolor": "white",
             "startlinecolor": "#2a3f5f"
            },
            "type": "carpet"
           }
          ],
          "choropleth": [
           {
            "colorbar": {
             "outlinewidth": 0,
             "ticks": ""
            },
            "type": "choropleth"
           }
          ],
          "contour": [
           {
            "colorbar": {
             "outlinewidth": 0,
             "ticks": ""
            },
            "colorscale": [
             [
              0,
              "#0d0887"
             ],
             [
              0.1111111111111111,
              "#46039f"
             ],
             [
              0.2222222222222222,
              "#7201a8"
             ],
             [
              0.3333333333333333,
              "#9c179e"
             ],
             [
              0.4444444444444444,
              "#bd3786"
             ],
             [
              0.5555555555555556,
              "#d8576b"
             ],
             [
              0.6666666666666666,
              "#ed7953"
             ],
             [
              0.7777777777777778,
              "#fb9f3a"
             ],
             [
              0.8888888888888888,
              "#fdca26"
             ],
             [
              1,
              "#f0f921"
             ]
            ],
            "type": "contour"
           }
          ],
          "contourcarpet": [
           {
            "colorbar": {
             "outlinewidth": 0,
             "ticks": ""
            },
            "type": "contourcarpet"
           }
          ],
          "heatmap": [
           {
            "colorbar": {
             "outlinewidth": 0,
             "ticks": ""
            },
            "colorscale": [
             [
              0,
              "#0d0887"
             ],
             [
              0.1111111111111111,
              "#46039f"
             ],
             [
              0.2222222222222222,
              "#7201a8"
             ],
             [
              0.3333333333333333,
              "#9c179e"
             ],
             [
              0.4444444444444444,
              "#bd3786"
             ],
             [
              0.5555555555555556,
              "#d8576b"
             ],
             [
              0.6666666666666666,
              "#ed7953"
             ],
             [
              0.7777777777777778,
              "#fb9f3a"
             ],
             [
              0.8888888888888888,
              "#fdca26"
             ],
             [
              1,
              "#f0f921"
             ]
            ],
            "type": "heatmap"
           }
          ],
          "heatmapgl": [
           {
            "colorbar": {
             "outlinewidth": 0,
             "ticks": ""
            },
            "colorscale": [
             [
              0,
              "#0d0887"
             ],
             [
              0.1111111111111111,
              "#46039f"
             ],
             [
              0.2222222222222222,
              "#7201a8"
             ],
             [
              0.3333333333333333,
              "#9c179e"
             ],
             [
              0.4444444444444444,
              "#bd3786"
             ],
             [
              0.5555555555555556,
              "#d8576b"
             ],
             [
              0.6666666666666666,
              "#ed7953"
             ],
             [
              0.7777777777777778,
              "#fb9f3a"
             ],
             [
              0.8888888888888888,
              "#fdca26"
             ],
             [
              1,
              "#f0f921"
             ]
            ],
            "type": "heatmapgl"
           }
          ],
          "histogram": [
           {
            "marker": {
             "pattern": {
              "fillmode": "overlay",
              "size": 10,
              "solidity": 0.2
             }
            },
            "type": "histogram"
           }
          ],
          "histogram2d": [
           {
            "colorbar": {
             "outlinewidth": 0,
             "ticks": ""
            },
            "colorscale": [
             [
              0,
              "#0d0887"
             ],
             [
              0.1111111111111111,
              "#46039f"
             ],
             [
              0.2222222222222222,
              "#7201a8"
             ],
             [
              0.3333333333333333,
              "#9c179e"
             ],
             [
              0.4444444444444444,
              "#bd3786"
             ],
             [
              0.5555555555555556,
              "#d8576b"
             ],
             [
              0.6666666666666666,
              "#ed7953"
             ],
             [
              0.7777777777777778,
              "#fb9f3a"
             ],
             [
              0.8888888888888888,
              "#fdca26"
             ],
             [
              1,
              "#f0f921"
             ]
            ],
            "type": "histogram2d"
           }
          ],
          "histogram2dcontour": [
           {
            "colorbar": {
             "outlinewidth": 0,
             "ticks": ""
            },
            "colorscale": [
             [
              0,
              "#0d0887"
             ],
             [
              0.1111111111111111,
              "#46039f"
             ],
             [
              0.2222222222222222,
              "#7201a8"
             ],
             [
              0.3333333333333333,
              "#9c179e"
             ],
             [
              0.4444444444444444,
              "#bd3786"
             ],
             [
              0.5555555555555556,
              "#d8576b"
             ],
             [
              0.6666666666666666,
              "#ed7953"
             ],
             [
              0.7777777777777778,
              "#fb9f3a"
             ],
             [
              0.8888888888888888,
              "#fdca26"
             ],
             [
              1,
              "#f0f921"
             ]
            ],
            "type": "histogram2dcontour"
           }
          ],
          "mesh3d": [
           {
            "colorbar": {
             "outlinewidth": 0,
             "ticks": ""
            },
            "type": "mesh3d"
           }
          ],
          "parcoords": [
           {
            "line": {
             "colorbar": {
              "outlinewidth": 0,
              "ticks": ""
             }
            },
            "type": "parcoords"
           }
          ],
          "pie": [
           {
            "automargin": true,
            "type": "pie"
           }
          ],
          "scatter": [
           {
            "fillpattern": {
             "fillmode": "overlay",
             "size": 10,
             "solidity": 0.2
            },
            "type": "scatter"
           }
          ],
          "scatter3d": [
           {
            "line": {
             "colorbar": {
              "outlinewidth": 0,
              "ticks": ""
             }
            },
            "marker": {
             "colorbar": {
              "outlinewidth": 0,
              "ticks": ""
             }
            },
            "type": "scatter3d"
           }
          ],
          "scattercarpet": [
           {
            "marker": {
             "colorbar": {
              "outlinewidth": 0,
              "ticks": ""
             }
            },
            "type": "scattercarpet"
           }
          ],
          "scattergeo": [
           {
            "marker": {
             "colorbar": {
              "outlinewidth": 0,
              "ticks": ""
             }
            },
            "type": "scattergeo"
           }
          ],
          "scattergl": [
           {
            "marker": {
             "colorbar": {
              "outlinewidth": 0,
              "ticks": ""
             }
            },
            "type": "scattergl"
           }
          ],
          "scattermapbox": [
           {
            "marker": {
             "colorbar": {
              "outlinewidth": 0,
              "ticks": ""
             }
            },
            "type": "scattermapbox"
           }
          ],
          "scatterpolar": [
           {
            "marker": {
             "colorbar": {
              "outlinewidth": 0,
              "ticks": ""
             }
            },
            "type": "scatterpolar"
           }
          ],
          "scatterpolargl": [
           {
            "marker": {
             "colorbar": {
              "outlinewidth": 0,
              "ticks": ""
             }
            },
            "type": "scatterpolargl"
           }
          ],
          "scatterternary": [
           {
            "marker": {
             "colorbar": {
              "outlinewidth": 0,
              "ticks": ""
             }
            },
            "type": "scatterternary"
           }
          ],
          "surface": [
           {
            "colorbar": {
             "outlinewidth": 0,
             "ticks": ""
            },
            "colorscale": [
             [
              0,
              "#0d0887"
             ],
             [
              0.1111111111111111,
              "#46039f"
             ],
             [
              0.2222222222222222,
              "#7201a8"
             ],
             [
              0.3333333333333333,
              "#9c179e"
             ],
             [
              0.4444444444444444,
              "#bd3786"
             ],
             [
              0.5555555555555556,
              "#d8576b"
             ],
             [
              0.6666666666666666,
              "#ed7953"
             ],
             [
              0.7777777777777778,
              "#fb9f3a"
             ],
             [
              0.8888888888888888,
              "#fdca26"
             ],
             [
              1,
              "#f0f921"
             ]
            ],
            "type": "surface"
           }
          ],
          "table": [
           {
            "cells": {
             "fill": {
              "color": "#EBF0F8"
             },
             "line": {
              "color": "white"
             }
            },
            "header": {
             "fill": {
              "color": "#C8D4E3"
             },
             "line": {
              "color": "white"
             }
            },
            "type": "table"
           }
          ]
         },
         "layout": {
          "annotationdefaults": {
           "arrowcolor": "#2a3f5f",
           "arrowhead": 0,
           "arrowwidth": 1
          },
          "autotypenumbers": "strict",
          "coloraxis": {
           "colorbar": {
            "outlinewidth": 0,
            "ticks": ""
           }
          },
          "colorscale": {
           "diverging": [
            [
             0,
             "#8e0152"
            ],
            [
             0.1,
             "#c51b7d"
            ],
            [
             0.2,
             "#de77ae"
            ],
            [
             0.3,
             "#f1b6da"
            ],
            [
             0.4,
             "#fde0ef"
            ],
            [
             0.5,
             "#f7f7f7"
            ],
            [
             0.6,
             "#e6f5d0"
            ],
            [
             0.7,
             "#b8e186"
            ],
            [
             0.8,
             "#7fbc41"
            ],
            [
             0.9,
             "#4d9221"
            ],
            [
             1,
             "#276419"
            ]
           ],
           "sequential": [
            [
             0,
             "#0d0887"
            ],
            [
             0.1111111111111111,
             "#46039f"
            ],
            [
             0.2222222222222222,
             "#7201a8"
            ],
            [
             0.3333333333333333,
             "#9c179e"
            ],
            [
             0.4444444444444444,
             "#bd3786"
            ],
            [
             0.5555555555555556,
             "#d8576b"
            ],
            [
             0.6666666666666666,
             "#ed7953"
            ],
            [
             0.7777777777777778,
             "#fb9f3a"
            ],
            [
             0.8888888888888888,
             "#fdca26"
            ],
            [
             1,
             "#f0f921"
            ]
           ],
           "sequentialminus": [
            [
             0,
             "#0d0887"
            ],
            [
             0.1111111111111111,
             "#46039f"
            ],
            [
             0.2222222222222222,
             "#7201a8"
            ],
            [
             0.3333333333333333,
             "#9c179e"
            ],
            [
             0.4444444444444444,
             "#bd3786"
            ],
            [
             0.5555555555555556,
             "#d8576b"
            ],
            [
             0.6666666666666666,
             "#ed7953"
            ],
            [
             0.7777777777777778,
             "#fb9f3a"
            ],
            [
             0.8888888888888888,
             "#fdca26"
            ],
            [
             1,
             "#f0f921"
            ]
           ]
          },
          "colorway": [
           "#636efa",
           "#EF553B",
           "#00cc96",
           "#ab63fa",
           "#FFA15A",
           "#19d3f3",
           "#FF6692",
           "#B6E880",
           "#FF97FF",
           "#FECB52"
          ],
          "font": {
           "color": "#2a3f5f"
          },
          "geo": {
           "bgcolor": "white",
           "lakecolor": "white",
           "landcolor": "#E5ECF6",
           "showlakes": true,
           "showland": true,
           "subunitcolor": "white"
          },
          "hoverlabel": {
           "align": "left"
          },
          "hovermode": "closest",
          "mapbox": {
           "style": "light"
          },
          "paper_bgcolor": "white",
          "plot_bgcolor": "#E5ECF6",
          "polar": {
           "angularaxis": {
            "gridcolor": "white",
            "linecolor": "white",
            "ticks": ""
           },
           "bgcolor": "#E5ECF6",
           "radialaxis": {
            "gridcolor": "white",
            "linecolor": "white",
            "ticks": ""
           }
          },
          "scene": {
           "xaxis": {
            "backgroundcolor": "#E5ECF6",
            "gridcolor": "white",
            "gridwidth": 2,
            "linecolor": "white",
            "showbackground": true,
            "ticks": "",
            "zerolinecolor": "white"
           },
           "yaxis": {
            "backgroundcolor": "#E5ECF6",
            "gridcolor": "white",
            "gridwidth": 2,
            "linecolor": "white",
            "showbackground": true,
            "ticks": "",
            "zerolinecolor": "white"
           },
           "zaxis": {
            "backgroundcolor": "#E5ECF6",
            "gridcolor": "white",
            "gridwidth": 2,
            "linecolor": "white",
            "showbackground": true,
            "ticks": "",
            "zerolinecolor": "white"
           }
          },
          "shapedefaults": {
           "line": {
            "color": "#2a3f5f"
           }
          },
          "ternary": {
           "aaxis": {
            "gridcolor": "white",
            "linecolor": "white",
            "ticks": ""
           },
           "baxis": {
            "gridcolor": "white",
            "linecolor": "white",
            "ticks": ""
           },
           "bgcolor": "#E5ECF6",
           "caxis": {
            "gridcolor": "white",
            "linecolor": "white",
            "ticks": ""
           }
          },
          "title": {
           "x": 0.05
          },
          "xaxis": {
           "automargin": true,
           "gridcolor": "white",
           "linecolor": "white",
           "ticks": "",
           "title": {
            "standoff": 15
           },
           "zerolinecolor": "white",
           "zerolinewidth": 2
          },
          "yaxis": {
           "automargin": true,
           "gridcolor": "white",
           "linecolor": "white",
           "ticks": "",
           "title": {
            "standoff": 15
           },
           "zerolinecolor": "white",
           "zerolinewidth": 2
          }
         }
        }
       }
      },
      "image/png": "[encoded data removed]",
      "text/html": [
       "<div>                            <div id=\"a62033ac-bd80-4bfc-9df3-b7e91cc19a98\" class=\"plotly-graph-div\" style=\"height:800px; width:100%;\"></div>            <script type=\"text/javascript\">                require([\"plotly\"], function(Plotly) {                    window.PLOTLYENV=window.PLOTLYENV || {};                                    if (document.getElementById(\"a62033ac-bd80-4bfc-9df3-b7e91cc19a98\")) {                    Plotly.newPlot(                        \"a62033ac-bd80-4bfc-9df3-b7e91cc19a98\",                        [{\"branchvalues\":\"total\",\"domain\":{\"x\":[0.0,1.0],\"y\":[0.0,1.0]},\"hovertemplate\":\"labels=%{label}<br>totalcustomers=%{value}<br>parent=%{parent}<br>id=%{id}<extra></extra>\",\"ids\":[\"2019/9/36/friday/7\",\"2019/9/36/monday/7\",\"2019/9/36/thursday/7\",\"2019/9/36/tuesday/7\",\"2019/9/36/wednesday/7\",\"2019/9/36/friday/8\",\"2019/9/36/monday/8\",\"2019/9/36/thursday/8\",\"2019/9/36/tuesday/8\",\"2019/9/36/wednesday/8\",\"2019/9/36/friday/9\",\"2019/9/36/monday/9\",\"2019/9/36/thursday/9\",\"2019/9/36/tuesday/9\",\"2019/9/36/wednesday/9\",\"2019/9/36/friday/10\",\"2019/9/36/monday/10\",\"2019/9/36/thursday/10\",\"2019/9/36/tuesday/10\",\"2019/9/36/wednesday/10\",\"2019/9/36/friday/11\",\"2019/9/36/monday/11\",\"2019/9/36/thursday/11\",\"2019/9/36/tuesday/11\",\"2019/9/36/wednesday/11\",\"2019/9/36/friday/12\",\"2019/9/36/monday/12\",\"2019/9/36/thursday/12\",\"2019/9/36/tuesday/12\",\"2019/9/36/wednesday/12\",\"2019/9/36/friday/13\",\"2019/9/36/monday/13\",\"2019/9/36/thursday/13\",\"2019/9/36/tuesday/13\",\"2019/9/36/wednesday/13\",\"2019/9/36/friday/14\",\"2019/9/36/monday/14\",\"2019/9/36/thursday/14\",\"2019/9/36/tuesday/14\",\"2019/9/36/wednesday/14\",\"2019/9/36/friday/15\",\"2019/9/36/monday/15\",\"2019/9/36/thursday/15\",\"2019/9/36/tuesday/15\",\"2019/9/36/wednesday/15\",\"2019/9/36/friday/16\",\"2019/9/36/monday/16\",\"2019/9/36/thursday/16\",\"2019/9/36/tuesday/16\",\"2019/9/36/wednesday/16\",\"2019/9/36/friday/17\",\"2019/9/36/monday/17\",\"2019/9/36/thursday/17\",\"2019/9/36/tuesday/17\",\"2019/9/36/wednesday/17\",\"2019/9/36/friday/18\",\"2019/9/36/monday/18\",\"2019/9/36/thursday/18\",\"2019/9/36/tuesday/18\",\"2019/9/36/wednesday/18\",\"2019/9/36/friday/19\",\"2019/9/36/monday/19\",\"2019/9/36/thursday/19\",\"2019/9/36/tuesday/19\",\"2019/9/36/wednesday/19\",\"2019/9/36/friday/20\",\"2019/9/36/monday/20\",\"2019/9/36/thursday/20\",\"2019/9/36/tuesday/20\",\"2019/9/36/wednesday/20\",\"2019/9/36/friday/21\",\"2019/9/36/monday/21\",\"2019/9/36/thursday/21\",\"2019/9/36/tuesday/21\",\"2019/9/36/wednesday/21\",\"2019/9/36/friday\",\"2019/9/36/monday\",\"2019/9/36/thursday\",\"2019/9/36/tuesday\",\"2019/9/36/wednesday\",\"2019/9/36\",\"2019/9\",\"2019\"],\"labels\":[\"7\",\"7\",\"7\",\"7\",\"7\",\"8\",\"8\",\"8\",\"8\",\"8\",\"9\",\"9\",\"9\",\"9\",\"9\",\"10\",\"10\",\"10\",\"10\",\"10\",\"11\",\"11\",\"11\",\"11\",\"11\",\"12\",\"12\",\"12\",\"12\",\"12\",\"13\",\"13\",\"13\",\"13\",\"13\",\"14\",\"14\",\"14\",\"14\",\"14\",\"15\",\"15\",\"15\",\"15\",\"15\",\"16\",\"16\",\"16\",\"16\",\"16\",\"17\",\"17\",\"17\",\"17\",\"17\",\"18\",\"18\",\"18\",\"18\",\"18\",\"19\",\"19\",\"19\",\"19\",\"19\",\"20\",\"20\",\"20\",\"20\",\"20\",\"21\",\"21\",\"21\",\"21\",\"21\",\"friday\",\"monday\",\"thursday\",\"tuesday\",\"wednesday\",\"36\",\"9\",\"2019\"],\"name\":\"\",\"parents\":[\"2019/9/36/friday\",\"2019/9/36/monday\",\"2019/9/36/thursday\",\"2019/9/36/tuesday\",\"2019/9/36/wednesday\",\"2019/9/36/friday\",\"2019/9/36/monday\",\"2019/9/36/thursday\",\"2019/9/36/tuesday\",\"2019/9/36/wednesday\",\"2019/9/36/friday\",\"2019/9/36/monday\",\"2019/9/36/thursday\",\"2019/9/36/tuesday\",\"2019/9/36/wednesday\",\"2019/9/36/friday\",\"2019/9/36/monday\",\"2019/9/36/thursday\",\"2019/9/36/tuesday\",\"2019/9/36/wednesday\",\"2019/9/36/friday\",\"2019/9/36/monday\",\"2019/9/36/thursday\",\"2019/9/36/tuesday\",\"2019/9/36/wednesday\",\"2019/9/36/friday\",\"2019/9/36/monday\",\"2019/9/36/thursday\",\"2019/9/36/tuesday\",\"2019/9/36/wednesday\",\"2019/9/36/friday\",\"2019/9/36/monday\",\"2019/9/36/thursday\",\"2019/9/36/tuesday\",\"2019/9/36/wednesday\",\"2019/9/36/friday\",\"2019/9/36/monday\",\"2019/9/36/thursday\",\"2019/9/36/tuesday\",\"2019/9/36/wednesday\",\"2019/9/36/friday\",\"2019/9/36/monday\",\"2019/9/36/thursday\",\"2019/9/36/tuesday\",\"2019/9/36/wednesday\",\"2019/9/36/friday\",\"2019/9/36/monday\",\"2019/9/36/thursday\",\"2019/9/36/tuesday\",\"2019/9/36/wednesday\",\"2019/9/36/friday\",\"2019/9/36/monday\",\"2019/9/36/thursday\",\"2019/9/36/tuesday\",\"2019/9/36/wednesday\",\"2019/9/36/friday\",\"2019/9/36/monday\",\"2019/9/36/thursday\",\"2019/9/36/tuesday\",\"2019/9/36/wednesday\",\"2019/9/36/friday\",\"2019/9/36/monday\",\"2019/9/36/thursday\",\"2019/9/36/tuesday\",\"2019/9/36/wednesday\",\"2019/9/36/friday\",\"2019/9/36/monday\",\"2019/9/36/thursday\",\"2019/9/36/tuesday\",\"2019/9/36/wednesday\",\"2019/9/36/friday\",\"2019/9/36/monday\",\"2019/9/36/thursday\",\"2019/9/36/tuesday\",\"2019/9/36/wednesday\",\"2019/9/36\",\"2019/9/36\",\"2019/9/36\",\"2019/9/36\",\"2019/9/36\",\"2019/9\",\"2019\",\"\"],\"values\":[87,92,99,91,85,132,112,139,129,165,82,85,105,77,106,80,90,91,81,85,79,55,73,47,88,90,73,72,60,89,108,120,80,104,102,108,90,83,110,105,81,94,86,72,79,102,86,118,118,94,115,122,112,109,98,148,128,123,134,97,135,129,172,127,192,103,109,96,99,85,60,62,86,64,61,1510,1447,1535,1422,1531,7445,7445,7445],\"type\":\"sunburst\"}],                        {\"template\":{\"data\":{\"histogram2dcontour\":[{\"type\":\"histogram2dcontour\",\"colorbar\":{\"outlinewidth\":0,\"ticks\":\"\"},\"colorscale\":[[0.0,\"#0d0887\"],[0.1111111111111111,\"#46039f\"],[0.2222222222222222,\"#7201a8\"],[0.3333333333333333,\"#9c179e\"],[0.4444444444444444,\"#bd3786\"],[0.5555555555555556,\"#d8576b\"],[0.6666666666666666,\"#ed7953\"],[0.7777777777777778,\"#fb9f3a\"],[0.8888888888888888,\"#fdca26\"],[1.0,\"#f0f921\"]]}],\"choropleth\":[{\"type\":\"choropleth\",\"colorbar\":{\"outlinewidth\":0,\"ticks\":\"\"}}],\"histogram2d\":[{\"type\":\"histogram2d\",\"colorbar\":{\"outlinewidth\":0,\"ticks\":\"\"},\"colorscale\":[[0.0,\"#0d0887\"],[0.1111111111111111,\"#46039f\"],[0.2222222222222222,\"#7201a8\"],[0.3333333333333333,\"#9c179e\"],[0.4444444444444444,\"#bd3786\"],[0.5555555555555556,\"#d8576b\"],[0.6666666666666666,\"#ed7953\"],[0.7777777777777778,\"#fb9f3a\"],[0.8888888888888888,\"#fdca26\"],[1.0,\"#f0f921\"]]}],\"heatmap\":[{\"type\":\"heatmap\",\"colorbar\":{\"outlinewidth\":0,\"ticks\":\"\"},\"colorscale\":[[0.0,\"#0d0887\"],[0.1111111111111111,\"#46039f\"],[0.2222222222222222,\"#7201a8\"],[0.3333333333333333,\"#9c179e\"],[0.4444444444444444,\"#bd3786\"],[0.5555555555555556,\"#d8576b\"],[0.6666666666666666,\"#ed7953\"],[0.7777777777777778,\"#fb9f3a\"],[0.8888888888888888,\"#fdca26\"],[1.0,\"#f0f921\"]]}],\"heatmapgl\":[{\"type\":\"heatmapgl\",\"colorbar\":{\"outlinewidth\":0,\"ticks\":\"\"},\"colorscale\":[[0.0,\"#0d0887\"],[0.1111111111111111,\"#46039f\"],[0.2222222222222222,\"#7201a8\"],[0.3333333333333333,\"#9c179e\"],[0.4444444444444444,\"#bd3786\"],[0.5555555555555556,\"#d8576b\"],[0.6666666666666666,\"#ed7953\"],[0.7777777777777778,\"#fb9f3a\"],[0.8888888888888888,\"#fdca26\"],[1.0,\"#f0f921\"]]}],\"contourcarpet\":[{\"type\":\"contourcarpet\",\"colorbar\":{\"outlinewidth\":0,\"ticks\":\"\"}}],\"contour\":[{\"type\":\"contour\",\"colorbar\":{\"outlinewidth\":0,\"ticks\":\"\"},\"colorscale\":[[0.0,\"#0d0887\"],[0.1111111111111111,\"#46039f\"],[0.2222222222222222,\"#7201a8\"],[0.3333333333333333,\"#9c179e\"],[0.4444444444444444,\"#bd3786\"],[0.5555555555555556,\"#d8576b\"],[0.6666666666666666,\"#ed7953\"],[0.7777777777777778,\"#fb9f3a\"],[0.8888888888888888,\"#fdca26\"],[1.0,\"#f0f921\"]]}],\"surface\":[{\"type\":\"surface\",\"colorbar\":{\"outlinewidth\":0,\"ticks\":\"\"},\"colorscale\":[[0.0,\"#0d0887\"],[0.1111111111111111,\"#46039f\"],[0.2222222222222222,\"#7201a8\"],[0.3333333333333333,\"#9c179e\"],[0.4444444444444444,\"#bd3786\"],[0.5555555555555556,\"#d8576b\"],[0.6666666666666666,\"#ed7953\"],[0.7777777777777778,\"#fb9f3a\"],[0.8888888888888888,\"#fdca26\"],[1.0,\"#f0f921\"]]}],\"mesh3d\":[{\"type\":\"mesh3d\",\"colorbar\":{\"outlinewidth\":0,\"ticks\":\"\"}}],\"scatter\":[{\"fillpattern\":{\"fillmode\":\"overlay\",\"size\":10,\"solidity\":0.2},\"type\":\"scatter\"}],\"parcoords\":[{\"type\":\"parcoords\",\"line\":{\"colorbar\":{\"outlinewidth\":0,\"ticks\":\"\"}}}],\"scatterpolargl\":[{\"type\":\"scatterpolargl\",\"marker\":{\"colorbar\":{\"outlinewidth\":0,\"ticks\":\"\"}}}],\"bar\":[{\"error_x\":{\"color\":\"#2a3f5f\"},\"error_y\":{\"color\":\"#2a3f5f\"},\"marker\":{\"line\":{\"color\":\"#E5ECF6\",\"width\":0.5},\"pattern\":{\"fillmode\":\"overlay\",\"size\":10,\"solidity\":0.2}},\"type\":\"bar\"}],\"scattergeo\":[{\"type\":\"scattergeo\",\"marker\":{\"colorbar\":{\"outlinewidth\":0,\"ticks\":\"\"}}}],\"scatterpolar\":[{\"type\":\"scatterpolar\",\"marker\":{\"colorbar\":{\"outlinewidth\":0,\"ticks\":\"\"}}}],\"histogram\":[{\"marker\":{\"pattern\":{\"fillmode\":\"overlay\",\"size\":10,\"solidity\":0.2}},\"type\":\"histogram\"}],\"scattergl\":[{\"type\":\"scattergl\",\"marker\":{\"colorbar\":{\"outlinewidth\":0,\"ticks\":\"\"}}}],\"scatter3d\":[{\"type\":\"scatter3d\",\"line\":{\"colorbar\":{\"outlinewidth\":0,\"ticks\":\"\"}},\"marker\":{\"colorbar\":{\"outlinewidth\":0,\"ticks\":\"\"}}}],\"scattermapbox\":[{\"type\":\"scattermapbox\",\"marker\":{\"colorbar\":{\"outlinewidth\":0,\"ticks\":\"\"}}}],\"scatterternary\":[{\"type\":\"scatterternary\",\"marker\":{\"colorbar\":{\"outlinewidth\":0,\"ticks\":\"\"}}}],\"scattercarpet\":[{\"type\":\"scattercarpet\",\"marker\":{\"colorbar\":{\"outlinewidth\":0,\"ticks\":\"\"}}}],\"carpet\":[{\"aaxis\":{\"endlinecolor\":\"#2a3f5f\",\"gridcolor\":\"white\",\"linecolor\":\"white\",\"minorgridcolor\":\"white\",\"startlinecolor\":\"#2a3f5f\"},\"baxis\":{\"endlinecolor\":\"#2a3f5f\",\"gridcolor\":\"white\",\"linecolor\":\"white\",\"minorgridcolor\":\"white\",\"startlinecolor\":\"#2a3f5f\"},\"type\":\"carpet\"}],\"table\":[{\"cells\":{\"fill\":{\"color\":\"#EBF0F8\"},\"line\":{\"color\":\"white\"}},\"header\":{\"fill\":{\"color\":\"#C8D4E3\"},\"line\":{\"color\":\"white\"}},\"type\":\"table\"}],\"barpolar\":[{\"marker\":{\"line\":{\"color\":\"#E5ECF6\",\"width\":0.5},\"pattern\":{\"fillmode\":\"overlay\",\"size\":10,\"solidity\":0.2}},\"type\":\"barpolar\"}],\"pie\":[{\"automargin\":true,\"type\":\"pie\"}]},\"layout\":{\"autotypenumbers\":\"strict\",\"colorway\":[\"#636efa\",\"#EF553B\",\"#00cc96\",\"#ab63fa\",\"#FFA15A\",\"#19d3f3\",\"#FF6692\",\"#B6E880\",\"#FF97FF\",\"#FECB52\"],\"font\":{\"color\":\"#2a3f5f\"},\"hovermode\":\"closest\",\"hoverlabel\":{\"align\":\"left\"},\"paper_bgcolor\":\"white\",\"plot_bgcolor\":\"#E5ECF6\",\"polar\":{\"bgcolor\":\"#E5ECF6\",\"angularaxis\":{\"gridcolor\":\"white\",\"linecolor\":\"white\",\"ticks\":\"\"},\"radialaxis\":{\"gridcolor\":\"white\",\"linecolor\":\"white\",\"ticks\":\"\"}},\"ternary\":{\"bgcolor\":\"#E5ECF6\",\"aaxis\":{\"gridcolor\":\"white\",\"linecolor\":\"white\",\"ticks\":\"\"},\"baxis\":{\"gridcolor\":\"white\",\"linecolor\":\"white\",\"ticks\":\"\"},\"caxis\":{\"gridcolor\":\"white\",\"linecolor\":\"white\",\"ticks\":\"\"}},\"coloraxis\":{\"colorbar\":{\"outlinewidth\":0,\"ticks\":\"\"}},\"colorscale\":{\"sequential\":[[0.0,\"#0d0887\"],[0.1111111111111111,\"#46039f\"],[0.2222222222222222,\"#7201a8\"],[0.3333333333333333,\"#9c179e\"],[0.4444444444444444,\"#bd3786\"],[0.5555555555555556,\"#d8576b\"],[0.6666666666666666,\"#ed7953\"],[0.7777777777777778,\"#fb9f3a\"],[0.8888888888888888,\"#fdca26\"],[1.0,\"#f0f921\"]],\"sequentialminus\":[[0.0,\"#0d0887\"],[0.1111111111111111,\"#46039f\"],[0.2222222222222222,\"#7201a8\"],[0.3333333333333333,\"#9c179e\"],[0.4444444444444444,\"#bd3786\"],[0.5555555555555556,\"#d8576b\"],[0.6666666666666666,\"#ed7953\"],[0.7777777777777778,\"#fb9f3a\"],[0.8888888888888888,\"#fdca26\"],[1.0,\"#f0f921\"]],\"diverging\":[[0,\"#8e0152\"],[0.1,\"#c51b7d\"],[0.2,\"#de77ae\"],[0.3,\"#f1b6da\"],[0.4,\"#fde0ef\"],[0.5,\"#f7f7f7\"],[0.6,\"#e6f5d0\"],[0.7,\"#b8e186\"],[0.8,\"#7fbc41\"],[0.9,\"#4d9221\"],[1,\"#276419\"]]},\"xaxis\":{\"gridcolor\":\"white\",\"linecolor\":\"white\",\"ticks\":\"\",\"title\":{\"standoff\":15},\"zerolinecolor\":\"white\",\"automargin\":true,\"zerolinewidth\":2},\"yaxis\":{\"gridcolor\":\"white\",\"linecolor\":\"white\",\"ticks\":\"\",\"title\":{\"standoff\":15},\"zerolinecolor\":\"white\",\"automargin\":true,\"zerolinewidth\":2},\"scene\":{\"xaxis\":{\"backgroundcolor\":\"#E5ECF6\",\"gridcolor\":\"white\",\"linecolor\":\"white\",\"showbackground\":true,\"ticks\":\"\",\"zerolinecolor\":\"white\",\"gridwidth\":2},\"yaxis\":{\"backgroundcolor\":\"#E5ECF6\",\"gridcolor\":\"white\",\"linecolor\":\"white\",\"showbackground\":true,\"ticks\":\"\",\"zerolinecolor\":\"white\",\"gridwidth\":2},\"zaxis\":{\"backgroundcolor\":\"#E5ECF6\",\"gridcolor\":\"white\",\"linecolor\":\"white\",\"showbackground\":true,\"ticks\":\"\",\"zerolinecolor\":\"white\",\"gridwidth\":2}},\"shapedefaults\":{\"line\":{\"color\":\"#2a3f5f\"}},\"annotationdefaults\":{\"arrowcolor\":\"#2a3f5f\",\"arrowhead\":0,\"arrowwidth\":1},\"geo\":{\"bgcolor\":\"white\",\"landcolor\":\"#E5ECF6\",\"subunitcolor\":\"white\",\"showland\":true,\"showlakes\":true,\"lakecolor\":\"white\"},\"title\":{\"x\":0.05},\"mapbox\":{\"style\":\"light\"}}},\"legend\":{\"tracegroupgap\":0},\"margin\":{\"t\":60},\"height\":800},                        {\"responsive\": true}                    ).then(function(){\n",
       "                            \n",
       "var gd = document.getElementById('a62033ac-bd80-4bfc-9df3-b7e91cc19a98');\n",
       "var x = new MutationObserver(function (mutations, observer) {{\n",
       "        var display = window.getComputedStyle(gd).display;\n",
       "        if (!display || display === 'none') {{\n",
       "            console.log([gd, 'removed!']);\n",
       "            Plotly.purge(gd);\n",
       "            observer.disconnect();\n",
       "        }}\n",
       "}});\n",
       "\n",
       "// Listen for the removal of the full notebook cells\n",
       "var notebookContainer = gd.closest('#notebook-container');\n",
       "if (notebookContainer) {{\n",
       "    x.observe(notebookContainer, {childList: true});\n",
       "}}\n",
       "\n",
       "// Listen for the clearing of the current output cell\n",
       "var outputEl = gd.closest('.output');\n",
       "if (outputEl) {{\n",
       "    x.observe(outputEl, {childList: true});\n",
       "}}\n",
       "\n",
       "                        })                };                });            </script>        </div>"
      ]
     },
     "metadata": {},
     "output_type": "display_data"
    }
   ],
   "source": [
    "fig = px.sunburst(dff, path=['year','month','week','weekday','hour'], values='totalcustomers',height=800)\n",
    "fig.show()"
   ]
  },
  {
   "cell_type": "markdown",
   "id": "d94c9927-30e4-44dd-873a-0d0aa7b87ca9",
   "metadata": {},
   "source": [
    "# **Transition Probability Matrix & Markov Chain Monte Carlo Simulation (MCMC)**"
   ]
  },
  {
   "cell_type": "code",
   "execution_count": 131,
   "id": "dbb44d04-0019-4c77-b272-da56ed092026",
   "metadata": {},
   "outputs": [
    {
     "data": {
      "text/html": [
       "<div>\n",
       "<style scoped>\n",
       "    .dataframe tbody tr th:only-of-type {\n",
       "        vertical-align: middle;\n",
       "    }\n",
       "\n",
       "    .dataframe tbody tr th {\n",
       "        vertical-align: top;\n",
       "    }\n",
       "\n",
       "    .dataframe thead th {\n",
       "        text-align: right;\n",
       "    }\n",
       "</style>\n",
       "<table border=\"1\" class=\"dataframe\">\n",
       "  <thead>\n",
       "    <tr style=\"text-align: right;\">\n",
       "      <th></th>\n",
       "      <th>weekday</th>\n",
       "      <th>hour</th>\n",
       "      <th>customer_no</th>\n",
       "      <th>uniqueID</th>\n",
       "      <th>location</th>\n",
       "      <th>newlocation</th>\n",
       "    </tr>\n",
       "    <tr>\n",
       "      <th>timestamp</th>\n",
       "      <th></th>\n",
       "      <th></th>\n",
       "      <th></th>\n",
       "      <th></th>\n",
       "      <th></th>\n",
       "      <th></th>\n",
       "    </tr>\n",
       "  </thead>\n",
       "  <tbody>\n",
       "    <tr>\n",
       "      <th>2019-09-02 07:03:00</th>\n",
       "      <td>monday</td>\n",
       "      <td>7</td>\n",
       "      <td>1</td>\n",
       "      <td>monday1</td>\n",
       "      <td>dairy</td>\n",
       "      <td>checkout</td>\n",
       "    </tr>\n",
       "    <tr>\n",
       "      <th>2019-09-02 07:05:00</th>\n",
       "      <td>monday</td>\n",
       "      <td>7</td>\n",
       "      <td>1</td>\n",
       "      <td>monday1</td>\n",
       "      <td>checkout</td>\n",
       "      <td>fruit</td>\n",
       "    </tr>\n",
       "    <tr>\n",
       "      <th>2019-09-03 07:02:00</th>\n",
       "      <td>tuesday</td>\n",
       "      <td>7</td>\n",
       "      <td>1</td>\n",
       "      <td>tuesday1</td>\n",
       "      <td>fruit</td>\n",
       "      <td>drinks</td>\n",
       "    </tr>\n",
       "    <tr>\n",
       "      <th>2019-09-03 07:05:00</th>\n",
       "      <td>tuesday</td>\n",
       "      <td>7</td>\n",
       "      <td>1</td>\n",
       "      <td>tuesday1</td>\n",
       "      <td>drinks</td>\n",
       "      <td>checkout</td>\n",
       "    </tr>\n",
       "    <tr>\n",
       "      <th>2019-09-03 07:12:00</th>\n",
       "      <td>tuesday</td>\n",
       "      <td>7</td>\n",
       "      <td>1</td>\n",
       "      <td>tuesday1</td>\n",
       "      <td>checkout</td>\n",
       "      <td>fruit</td>\n",
       "    </tr>\n",
       "    <tr>\n",
       "      <th>...</th>\n",
       "      <td>...</td>\n",
       "      <td>...</td>\n",
       "      <td>...</td>\n",
       "      <td>...</td>\n",
       "      <td>...</td>\n",
       "      <td>...</td>\n",
       "    </tr>\n",
       "    <tr>\n",
       "      <th>2019-09-05 21:48:00</th>\n",
       "      <td>thursday</td>\n",
       "      <td>21</td>\n",
       "      <td>1533</td>\n",
       "      <td>thursday1533</td>\n",
       "      <td>dairy</td>\n",
       "      <td>fruit</td>\n",
       "    </tr>\n",
       "    <tr>\n",
       "      <th>2019-09-05 21:48:00</th>\n",
       "      <td>thursday</td>\n",
       "      <td>21</td>\n",
       "      <td>1534</td>\n",
       "      <td>thursday1534</td>\n",
       "      <td>fruit</td>\n",
       "      <td>checkout</td>\n",
       "    </tr>\n",
       "    <tr>\n",
       "      <th>2019-09-05 21:49:00</th>\n",
       "      <td>thursday</td>\n",
       "      <td>21</td>\n",
       "      <td>1534</td>\n",
       "      <td>thursday1534</td>\n",
       "      <td>checkout</td>\n",
       "      <td>spices</td>\n",
       "    </tr>\n",
       "    <tr>\n",
       "      <th>2019-09-05 21:48:00</th>\n",
       "      <td>thursday</td>\n",
       "      <td>21</td>\n",
       "      <td>1535</td>\n",
       "      <td>thursday1535</td>\n",
       "      <td>spices</td>\n",
       "      <td>checkout</td>\n",
       "    </tr>\n",
       "    <tr>\n",
       "      <th>2019-09-05 21:49:00</th>\n",
       "      <td>thursday</td>\n",
       "      <td>21</td>\n",
       "      <td>1535</td>\n",
       "      <td>thursday1535</td>\n",
       "      <td>checkout</td>\n",
       "      <td>NaN</td>\n",
       "    </tr>\n",
       "  </tbody>\n",
       "</table>\n",
       "<p>24877 rows × 6 columns</p>\n",
       "</div>"
      ],
      "text/plain": [
       "                      weekday  hour  customer_no      uniqueID  location  \\\n",
       "timestamp                                                                  \n",
       "2019-09-02 07:03:00    monday     7            1       monday1     dairy   \n",
       "2019-09-02 07:05:00    monday     7            1       monday1  checkout   \n",
       "2019-09-03 07:02:00   tuesday     7            1      tuesday1     fruit   \n",
       "2019-09-03 07:05:00   tuesday     7            1      tuesday1    drinks   \n",
       "2019-09-03 07:12:00   tuesday     7            1      tuesday1  checkout   \n",
       "...                       ...   ...          ...           ...       ...   \n",
       "2019-09-05 21:48:00  thursday    21         1533  thursday1533     dairy   \n",
       "2019-09-05 21:48:00  thursday    21         1534  thursday1534     fruit   \n",
       "2019-09-05 21:49:00  thursday    21         1534  thursday1534  checkout   \n",
       "2019-09-05 21:48:00  thursday    21         1535  thursday1535    spices   \n",
       "2019-09-05 21:49:00  thursday    21         1535  thursday1535  checkout   \n",
       "\n",
       "                    newlocation  \n",
       "timestamp                        \n",
       "2019-09-02 07:03:00    checkout  \n",
       "2019-09-02 07:05:00       fruit  \n",
       "2019-09-03 07:02:00      drinks  \n",
       "2019-09-03 07:05:00    checkout  \n",
       "2019-09-03 07:12:00       fruit  \n",
       "...                         ...  \n",
       "2019-09-05 21:48:00       fruit  \n",
       "2019-09-05 21:48:00    checkout  \n",
       "2019-09-05 21:49:00      spices  \n",
       "2019-09-05 21:48:00    checkout  \n",
       "2019-09-05 21:49:00         NaN  \n",
       "\n",
       "[24877 rows x 6 columns]"
      ]
     },
     "execution_count": 131,
     "metadata": {},
     "output_type": "execute_result"
    }
   ],
   "source": [
    "dt=df[['timestamp','weekday','hour','customer_no','location']]\n",
    "dt['uniqueID']=df['weekday']+df['customer_no'].astype(str)\n",
    "dt = dt.sort_values(['customer_no','timestamp'])\n",
    "dt.groupby('uniqueID')\n",
    "dt = dt.reindex(columns=['timestamp','weekday','hour','customer_no','uniqueID','location'])\n",
    "dt=dt.set_index('timestamp')\n",
    "dt['newlocation']=dt['location'].shift(-1).bfill()\n",
    "dt"
   ]
  },
  {
   "cell_type": "code",
   "execution_count": 133,
   "id": "b4048ae0-030e-4e64-86af-1f498d75c61d",
   "metadata": {
    "tags": []
   },
   "outputs": [
    {
     "data": {
      "text/html": [
       "<div>\n",
       "<style scoped>\n",
       "    .dataframe tbody tr th:only-of-type {\n",
       "        vertical-align: middle;\n",
       "    }\n",
       "\n",
       "    .dataframe tbody tr th {\n",
       "        vertical-align: top;\n",
       "    }\n",
       "\n",
       "    .dataframe thead th {\n",
       "        text-align: right;\n",
       "    }\n",
       "</style>\n",
       "<table border=\"1\" class=\"dataframe\">\n",
       "  <thead>\n",
       "    <tr style=\"text-align: right;\">\n",
       "      <th>newlocation</th>\n",
       "      <th>checkout</th>\n",
       "      <th>dairy</th>\n",
       "      <th>drinks</th>\n",
       "      <th>fruit</th>\n",
       "      <th>spices</th>\n",
       "    </tr>\n",
       "    <tr>\n",
       "      <th>location</th>\n",
       "      <th></th>\n",
       "      <th></th>\n",
       "      <th></th>\n",
       "      <th></th>\n",
       "      <th></th>\n",
       "    </tr>\n",
       "  </thead>\n",
       "  <tbody>\n",
       "    <tr>\n",
       "      <th>checkout</th>\n",
       "      <td>0</td>\n",
       "      <td>2135</td>\n",
       "      <td>1133</td>\n",
       "      <td>2804</td>\n",
       "      <td>1344</td>\n",
       "    </tr>\n",
       "    <tr>\n",
       "      <th>dairy</th>\n",
       "      <td>1825</td>\n",
       "      <td>1</td>\n",
       "      <td>1046</td>\n",
       "      <td>889</td>\n",
       "      <td>918</td>\n",
       "    </tr>\n",
       "    <tr>\n",
       "      <th>drinks</th>\n",
       "      <td>2096</td>\n",
       "      <td>106</td>\n",
       "      <td>2</td>\n",
       "      <td>855</td>\n",
       "      <td>846</td>\n",
       "    </tr>\n",
       "    <tr>\n",
       "      <th>fruit</th>\n",
       "      <td>2555</td>\n",
       "      <td>1221</td>\n",
       "      <td>697</td>\n",
       "      <td>3</td>\n",
       "      <td>646</td>\n",
       "    </tr>\n",
       "    <tr>\n",
       "      <th>spices</th>\n",
       "      <td>941</td>\n",
       "      <td>1215</td>\n",
       "      <td>1027</td>\n",
       "      <td>571</td>\n",
       "      <td>0</td>\n",
       "    </tr>\n",
       "  </tbody>\n",
       "</table>\n",
       "</div>"
      ],
      "text/plain": [
       "newlocation  checkout  dairy  drinks  fruit  spices\n",
       "location                                           \n",
       "checkout            0   2135    1133   2804    1344\n",
       "dairy            1825      1    1046    889     918\n",
       "drinks           2096    106       2    855     846\n",
       "fruit            2555   1221     697      3     646\n",
       "spices            941   1215    1027    571       0"
      ]
     },
     "execution_count": 133,
     "metadata": {},
     "output_type": "execute_result"
    }
   ],
   "source": [
    "d =pd.crosstab(dt['location'],dt['newlocation'])\n",
    "d"
   ]
  },
  {
   "cell_type": "code",
   "execution_count": 134,
   "id": "9a5b477a-25ba-455c-a0c6-803ea869ade2",
   "metadata": {},
   "outputs": [
    {
     "data": {
      "text/plain": [
       "<bound method DataFrame.resample of                        weekday  hour  customer_no      uniqueID  location\n",
       "timestamp                                                                \n",
       "2019-09-06 07:00:00     friday     7            1       friday1     dairy\n",
       "2019-09-06 07:04:00     friday     7            1       friday1    spices\n",
       "2019-09-06 07:05:00     friday     7            1       friday1  checkout\n",
       "2019-09-06 07:06:00     friday     7           10      friday10     fruit\n",
       "2019-09-06 07:11:00     friday     7           10      friday10  checkout\n",
       "...                        ...   ...          ...           ...       ...\n",
       "2019-09-04 16:53:00  wednesday    16          998  wednesday998     dairy\n",
       "2019-09-04 16:57:00  wednesday    16          998  wednesday998     fruit\n",
       "2019-09-04 16:59:00  wednesday    16          998  wednesday998  checkout\n",
       "2019-09-04 16:53:00  wednesday    16          999  wednesday999     fruit\n",
       "2019-09-04 16:54:00  wednesday    16          999  wednesday999  checkout\n",
       "\n",
       "[24877 rows x 5 columns]>"
      ]
     },
     "execution_count": 134,
     "metadata": {},
     "output_type": "execute_result"
    }
   ],
   "source": [
    "dtt=df[['timestamp','weekday','hour','customer_no','location']]\n",
    "dtt['uniqueID']=dtt['weekday']+dtt['customer_no'].astype(str)\n",
    "dtt = dtt.sort_values(['uniqueID','timestamp'],ascending=True)\n",
    "dtt = dtt.reindex(columns=['timestamp','weekday','hour','customer_no','uniqueID','location'])\n",
    "dtt=dtt.set_index('timestamp')\n",
    "dtt.resample"
   ]
  },
  {
   "cell_type": "code",
   "execution_count": 135,
   "id": "22c69d25-c116-4feb-828a-a4f18cf2bd06",
   "metadata": {},
   "outputs": [
    {
     "data": {
      "text/html": [
       "<div>\n",
       "<style scoped>\n",
       "    .dataframe tbody tr th:only-of-type {\n",
       "        vertical-align: middle;\n",
       "    }\n",
       "\n",
       "    .dataframe tbody tr th {\n",
       "        vertical-align: top;\n",
       "    }\n",
       "\n",
       "    .dataframe thead th {\n",
       "        text-align: right;\n",
       "    }\n",
       "</style>\n",
       "<table border=\"1\" class=\"dataframe\">\n",
       "  <thead>\n",
       "    <tr style=\"text-align: right;\">\n",
       "      <th></th>\n",
       "      <th></th>\n",
       "      <th>weekday</th>\n",
       "      <th>hour</th>\n",
       "      <th>customer_no</th>\n",
       "      <th>location</th>\n",
       "    </tr>\n",
       "    <tr>\n",
       "      <th>uniqueID</th>\n",
       "      <th>timestamp</th>\n",
       "      <th></th>\n",
       "      <th></th>\n",
       "      <th></th>\n",
       "      <th></th>\n",
       "    </tr>\n",
       "  </thead>\n",
       "  <tbody>\n",
       "    <tr>\n",
       "      <th rowspan=\"5\" valign=\"top\">friday1</th>\n",
       "      <th>2019-09-06 07:00:00</th>\n",
       "      <td>friday</td>\n",
       "      <td>7</td>\n",
       "      <td>1</td>\n",
       "      <td>dairy</td>\n",
       "    </tr>\n",
       "    <tr>\n",
       "      <th>2019-09-06 07:01:00</th>\n",
       "      <td>friday</td>\n",
       "      <td>7</td>\n",
       "      <td>1</td>\n",
       "      <td>dairy</td>\n",
       "    </tr>\n",
       "    <tr>\n",
       "      <th>2019-09-06 07:02:00</th>\n",
       "      <td>friday</td>\n",
       "      <td>7</td>\n",
       "      <td>1</td>\n",
       "      <td>dairy</td>\n",
       "    </tr>\n",
       "    <tr>\n",
       "      <th>2019-09-06 07:03:00</th>\n",
       "      <td>friday</td>\n",
       "      <td>7</td>\n",
       "      <td>1</td>\n",
       "      <td>dairy</td>\n",
       "    </tr>\n",
       "    <tr>\n",
       "      <th>2019-09-06 07:04:00</th>\n",
       "      <td>friday</td>\n",
       "      <td>7</td>\n",
       "      <td>1</td>\n",
       "      <td>spices</td>\n",
       "    </tr>\n",
       "    <tr>\n",
       "      <th>...</th>\n",
       "      <th>...</th>\n",
       "      <td>...</td>\n",
       "      <td>...</td>\n",
       "      <td>...</td>\n",
       "      <td>...</td>\n",
       "    </tr>\n",
       "    <tr>\n",
       "      <th rowspan=\"3\" valign=\"top\">wednesday998</th>\n",
       "      <th>2019-09-04 16:57:00</th>\n",
       "      <td>wednesday</td>\n",
       "      <td>16</td>\n",
       "      <td>998</td>\n",
       "      <td>fruit</td>\n",
       "    </tr>\n",
       "    <tr>\n",
       "      <th>2019-09-04 16:58:00</th>\n",
       "      <td>wednesday</td>\n",
       "      <td>16</td>\n",
       "      <td>998</td>\n",
       "      <td>fruit</td>\n",
       "    </tr>\n",
       "    <tr>\n",
       "      <th>2019-09-04 16:59:00</th>\n",
       "      <td>wednesday</td>\n",
       "      <td>16</td>\n",
       "      <td>998</td>\n",
       "      <td>checkout</td>\n",
       "    </tr>\n",
       "    <tr>\n",
       "      <th rowspan=\"2\" valign=\"top\">wednesday999</th>\n",
       "      <th>2019-09-04 16:53:00</th>\n",
       "      <td>wednesday</td>\n",
       "      <td>16</td>\n",
       "      <td>999</td>\n",
       "      <td>fruit</td>\n",
       "    </tr>\n",
       "    <tr>\n",
       "      <th>2019-09-04 16:54:00</th>\n",
       "      <td>wednesday</td>\n",
       "      <td>16</td>\n",
       "      <td>999</td>\n",
       "      <td>checkout</td>\n",
       "    </tr>\n",
       "  </tbody>\n",
       "</table>\n",
       "<p>53903 rows × 4 columns</p>\n",
       "</div>"
      ],
      "text/plain": [
       "                                    weekday  hour  customer_no  location\n",
       "uniqueID     timestamp                                                  \n",
       "friday1      2019-09-06 07:00:00     friday     7            1     dairy\n",
       "             2019-09-06 07:01:00     friday     7            1     dairy\n",
       "             2019-09-06 07:02:00     friday     7            1     dairy\n",
       "             2019-09-06 07:03:00     friday     7            1     dairy\n",
       "             2019-09-06 07:04:00     friday     7            1    spices\n",
       "...                                     ...   ...          ...       ...\n",
       "wednesday998 2019-09-04 16:57:00  wednesday    16          998     fruit\n",
       "             2019-09-04 16:58:00  wednesday    16          998     fruit\n",
       "             2019-09-04 16:59:00  wednesday    16          998  checkout\n",
       "wednesday999 2019-09-04 16:53:00  wednesday    16          999     fruit\n",
       "             2019-09-04 16:54:00  wednesday    16          999  checkout\n",
       "\n",
       "[53903 rows x 4 columns]"
      ]
     },
     "execution_count": 135,
     "metadata": {},
     "output_type": "execute_result"
    }
   ],
   "source": [
    "dtt_resampled=dtt.groupby('uniqueID').resample('1T').ffill()\n",
    "dtt_resampled.drop(columns=['uniqueID'], inplace=True)\n",
    "dtt_resampled"
   ]
  },
  {
   "cell_type": "code",
   "execution_count": 136,
   "id": "012222a8-3767-42ad-b95d-9ae71e18e05d",
   "metadata": {},
   "outputs": [
    {
     "data": {
      "text/plain": [
       "<bound method DataFrame.reset_index of                                     weekday  hour  customer_no  location\n",
       "uniqueID     timestamp                                                  \n",
       "friday1      2019-09-06 07:00:00     friday     7            1     dairy\n",
       "             2019-09-06 07:01:00     friday     7            1     dairy\n",
       "             2019-09-06 07:02:00     friday     7            1     dairy\n",
       "             2019-09-06 07:03:00     friday     7            1     dairy\n",
       "             2019-09-06 07:04:00     friday     7            1    spices\n",
       "...                                     ...   ...          ...       ...\n",
       "wednesday998 2019-09-04 16:57:00  wednesday    16          998     fruit\n",
       "             2019-09-04 16:58:00  wednesday    16          998     fruit\n",
       "             2019-09-04 16:59:00  wednesday    16          998  checkout\n",
       "wednesday999 2019-09-04 16:53:00  wednesday    16          999     fruit\n",
       "             2019-09-04 16:54:00  wednesday    16          999  checkout\n",
       "\n",
       "[53903 rows x 4 columns]>"
      ]
     },
     "execution_count": 136,
     "metadata": {},
     "output_type": "execute_result"
    }
   ],
   "source": [
    "dtt_resampled.reset_index"
   ]
  },
  {
   "cell_type": "code",
   "execution_count": 137,
   "id": "8680653f-7f02-450f-bfc9-f9c7267cba0b",
   "metadata": {},
   "outputs": [
    {
     "data": {
      "text/html": [
       "<div>\n",
       "<style scoped>\n",
       "    .dataframe tbody tr th:only-of-type {\n",
       "        vertical-align: middle;\n",
       "    }\n",
       "\n",
       "    .dataframe tbody tr th {\n",
       "        vertical-align: top;\n",
       "    }\n",
       "\n",
       "    .dataframe thead th {\n",
       "        text-align: right;\n",
       "    }\n",
       "</style>\n",
       "<table border=\"1\" class=\"dataframe\">\n",
       "  <thead>\n",
       "    <tr style=\"text-align: right;\">\n",
       "      <th></th>\n",
       "      <th></th>\n",
       "      <th>weekday</th>\n",
       "      <th>hour</th>\n",
       "      <th>customer_no</th>\n",
       "      <th>location</th>\n",
       "      <th>next_location</th>\n",
       "    </tr>\n",
       "    <tr>\n",
       "      <th>uniqueID</th>\n",
       "      <th>timestamp</th>\n",
       "      <th></th>\n",
       "      <th></th>\n",
       "      <th></th>\n",
       "      <th></th>\n",
       "      <th></th>\n",
       "    </tr>\n",
       "  </thead>\n",
       "  <tbody>\n",
       "    <tr>\n",
       "      <th rowspan=\"5\" valign=\"top\">friday1</th>\n",
       "      <th>2019-09-06 07:00:00</th>\n",
       "      <td>friday</td>\n",
       "      <td>7</td>\n",
       "      <td>1</td>\n",
       "      <td>dairy</td>\n",
       "      <td>dairy</td>\n",
       "    </tr>\n",
       "    <tr>\n",
       "      <th>2019-09-06 07:01:00</th>\n",
       "      <td>friday</td>\n",
       "      <td>7</td>\n",
       "      <td>1</td>\n",
       "      <td>dairy</td>\n",
       "      <td>dairy</td>\n",
       "    </tr>\n",
       "    <tr>\n",
       "      <th>2019-09-06 07:02:00</th>\n",
       "      <td>friday</td>\n",
       "      <td>7</td>\n",
       "      <td>1</td>\n",
       "      <td>dairy</td>\n",
       "      <td>dairy</td>\n",
       "    </tr>\n",
       "    <tr>\n",
       "      <th>2019-09-06 07:03:00</th>\n",
       "      <td>friday</td>\n",
       "      <td>7</td>\n",
       "      <td>1</td>\n",
       "      <td>dairy</td>\n",
       "      <td>spices</td>\n",
       "    </tr>\n",
       "    <tr>\n",
       "      <th>2019-09-06 07:04:00</th>\n",
       "      <td>friday</td>\n",
       "      <td>7</td>\n",
       "      <td>1</td>\n",
       "      <td>spices</td>\n",
       "      <td>checkout</td>\n",
       "    </tr>\n",
       "    <tr>\n",
       "      <th>...</th>\n",
       "      <th>...</th>\n",
       "      <td>...</td>\n",
       "      <td>...</td>\n",
       "      <td>...</td>\n",
       "      <td>...</td>\n",
       "      <td>...</td>\n",
       "    </tr>\n",
       "    <tr>\n",
       "      <th rowspan=\"3\" valign=\"top\">wednesday998</th>\n",
       "      <th>2019-09-04 16:57:00</th>\n",
       "      <td>wednesday</td>\n",
       "      <td>16</td>\n",
       "      <td>998</td>\n",
       "      <td>fruit</td>\n",
       "      <td>fruit</td>\n",
       "    </tr>\n",
       "    <tr>\n",
       "      <th>2019-09-04 16:58:00</th>\n",
       "      <td>wednesday</td>\n",
       "      <td>16</td>\n",
       "      <td>998</td>\n",
       "      <td>fruit</td>\n",
       "      <td>checkout</td>\n",
       "    </tr>\n",
       "    <tr>\n",
       "      <th>2019-09-04 16:59:00</th>\n",
       "      <td>wednesday</td>\n",
       "      <td>16</td>\n",
       "      <td>998</td>\n",
       "      <td>checkout</td>\n",
       "      <td>checkout</td>\n",
       "    </tr>\n",
       "    <tr>\n",
       "      <th rowspan=\"2\" valign=\"top\">wednesday999</th>\n",
       "      <th>2019-09-04 16:53:00</th>\n",
       "      <td>wednesday</td>\n",
       "      <td>16</td>\n",
       "      <td>999</td>\n",
       "      <td>fruit</td>\n",
       "      <td>checkout</td>\n",
       "    </tr>\n",
       "    <tr>\n",
       "      <th>2019-09-04 16:54:00</th>\n",
       "      <td>wednesday</td>\n",
       "      <td>16</td>\n",
       "      <td>999</td>\n",
       "      <td>checkout</td>\n",
       "      <td>checkout</td>\n",
       "    </tr>\n",
       "  </tbody>\n",
       "</table>\n",
       "<p>53903 rows × 5 columns</p>\n",
       "</div>"
      ],
      "text/plain": [
       "                                    weekday  hour  customer_no  location  \\\n",
       "uniqueID     timestamp                                                     \n",
       "friday1      2019-09-06 07:00:00     friday     7            1     dairy   \n",
       "             2019-09-06 07:01:00     friday     7            1     dairy   \n",
       "             2019-09-06 07:02:00     friday     7            1     dairy   \n",
       "             2019-09-06 07:03:00     friday     7            1     dairy   \n",
       "             2019-09-06 07:04:00     friday     7            1    spices   \n",
       "...                                     ...   ...          ...       ...   \n",
       "wednesday998 2019-09-04 16:57:00  wednesday    16          998     fruit   \n",
       "             2019-09-04 16:58:00  wednesday    16          998     fruit   \n",
       "             2019-09-04 16:59:00  wednesday    16          998  checkout   \n",
       "wednesday999 2019-09-04 16:53:00  wednesday    16          999     fruit   \n",
       "             2019-09-04 16:54:00  wednesday    16          999  checkout   \n",
       "\n",
       "                                 next_location  \n",
       "uniqueID     timestamp                          \n",
       "friday1      2019-09-06 07:00:00         dairy  \n",
       "             2019-09-06 07:01:00         dairy  \n",
       "             2019-09-06 07:02:00         dairy  \n",
       "             2019-09-06 07:03:00        spices  \n",
       "             2019-09-06 07:04:00      checkout  \n",
       "...                                        ...  \n",
       "wednesday998 2019-09-04 16:57:00         fruit  \n",
       "             2019-09-04 16:58:00      checkout  \n",
       "             2019-09-04 16:59:00      checkout  \n",
       "wednesday999 2019-09-04 16:53:00      checkout  \n",
       "             2019-09-04 16:54:00      checkout  \n",
       "\n",
       "[53903 rows x 5 columns]"
      ]
     },
     "execution_count": 137,
     "metadata": {},
     "output_type": "execute_result"
    }
   ],
   "source": [
    "dtt_resampled['next_location']= dtt_resampled.groupby('uniqueID')['location'].shift(-1)\n",
    "dtt_resampled['next_location'].fillna(value='checkout', inplace=True)\n",
    "dtt_resampled"
   ]
  },
  {
   "cell_type": "code",
   "execution_count": 138,
   "id": "1d154ada-da5a-465f-ac22-7f21d56686a0",
   "metadata": {
    "tags": []
   },
   "outputs": [
    {
     "data": {
      "text/html": [
       "<div>\n",
       "<style scoped>\n",
       "    .dataframe tbody tr th:only-of-type {\n",
       "        vertical-align: middle;\n",
       "    }\n",
       "\n",
       "    .dataframe tbody tr th {\n",
       "        vertical-align: top;\n",
       "    }\n",
       "\n",
       "    .dataframe thead th {\n",
       "        text-align: right;\n",
       "    }\n",
       "</style>\n",
       "<table border=\"1\" class=\"dataframe\">\n",
       "  <thead>\n",
       "    <tr style=\"text-align: right;\">\n",
       "      <th>next_location</th>\n",
       "      <th>checkout</th>\n",
       "      <th>dairy</th>\n",
       "      <th>drinks</th>\n",
       "      <th>fruit</th>\n",
       "      <th>spices</th>\n",
       "    </tr>\n",
       "    <tr>\n",
       "      <th>location</th>\n",
       "      <th></th>\n",
       "      <th></th>\n",
       "      <th></th>\n",
       "      <th></th>\n",
       "      <th></th>\n",
       "    </tr>\n",
       "  </thead>\n",
       "  <tbody>\n",
       "    <tr>\n",
       "      <th>checkout</th>\n",
       "      <td>1.000000</td>\n",
       "      <td>0.000000</td>\n",
       "      <td>0.000000</td>\n",
       "      <td>0.000000</td>\n",
       "      <td>0.000000</td>\n",
       "    </tr>\n",
       "    <tr>\n",
       "      <th>dairy</th>\n",
       "      <td>0.103466</td>\n",
       "      <td>0.736750</td>\n",
       "      <td>0.058569</td>\n",
       "      <td>0.049848</td>\n",
       "      <td>0.051367</td>\n",
       "    </tr>\n",
       "    <tr>\n",
       "      <th>drinks</th>\n",
       "      <td>0.215710</td>\n",
       "      <td>0.010899</td>\n",
       "      <td>0.598499</td>\n",
       "      <td>0.087909</td>\n",
       "      <td>0.086983</td>\n",
       "    </tr>\n",
       "    <tr>\n",
       "      <th>fruit</th>\n",
       "      <td>0.201605</td>\n",
       "      <td>0.095924</td>\n",
       "      <td>0.054847</td>\n",
       "      <td>0.596947</td>\n",
       "      <td>0.050677</td>\n",
       "    </tr>\n",
       "    <tr>\n",
       "      <th>spices</th>\n",
       "      <td>0.150685</td>\n",
       "      <td>0.193214</td>\n",
       "      <td>0.163109</td>\n",
       "      <td>0.090953</td>\n",
       "      <td>0.402039</td>\n",
       "    </tr>\n",
       "  </tbody>\n",
       "</table>\n",
       "</div>"
      ],
      "text/plain": [
       "next_location  checkout     dairy    drinks     fruit    spices\n",
       "location                                                       \n",
       "checkout       1.000000  0.000000  0.000000  0.000000  0.000000\n",
       "dairy          0.103466  0.736750  0.058569  0.049848  0.051367\n",
       "drinks         0.215710  0.010899  0.598499  0.087909  0.086983\n",
       "fruit          0.201605  0.095924  0.054847  0.596947  0.050677\n",
       "spices         0.150685  0.193214  0.163109  0.090953  0.402039"
      ]
     },
     "execution_count": 138,
     "metadata": {},
     "output_type": "execute_result"
    }
   ],
   "source": [
    "transition_probs=pd.crosstab(dtt_resampled['location'],dtt_resampled['next_location'], normalize=0)\n",
    "transition_probs"
   ]
  },
  {
   "cell_type": "code",
   "execution_count": 140,
   "id": "56696e99-b1d9-46b4-b2a3-49255c84563e",
   "metadata": {},
   "outputs": [
    {
     "data": {
      "text/plain": [
       "<AxesSubplot:xlabel='next_location', ylabel='location'>"
      ]
     },
     "execution_count": 140,
     "metadata": {},
     "output_type": "execute_result"
    },
    {
     "data": {
      "image/png": "[encoded data removed]",
      "text/plain": [
       "<Figure size 864x576 with 2 Axes>"
      ]
     },
     "metadata": {
      "needs_background": "light"
     },
     "output_type": "display_data"
    }
   ],
   "source": [
    "sns.heatmap(transition_probs,annot=True)"
   ]
  },
  {
   "cell_type": "code",
   "execution_count": null,
   "id": "78396b8e-6e7f-48ee-accb-2098f0aecbd1",
   "metadata": {},
   "outputs": [],
   "source": [
    "# np.random.seed(42)\n",
    "# state= 'dairy'\n",
    "# for i in range(20):\n",
    "# state = np.random.choice(['dairy','drinks','fruit','spices','checkout'], p=transition_probs.loc[state])"
   ]
  },
  {
   "cell_type": "code",
   "execution_count": 142,
   "id": "8f7f4a37-f91b-4e1b-87d4-2c0b566d57e5",
   "metadata": {},
   "outputs": [],
   "source": [
    "class Customer:\n",
    "    def __init__(self,uniqueID,state,transition_probs):\n",
    "        self.uniqueID=uniqueID\n",
    "        self.state=state\n",
    "        self.transition_probs=transition_probs\n",
    "        \n",
    "    def __repr__(self):\n",
    "        return f'{self.uniqueID};{self.state}'\n",
    "    \n",
    "    def is_active(self):\n",
    "        if self.state!='checkout':\n",
    "            return True\n",
    "        else:\n",
    "            return False\n",
    "        \n",
    "    def next_state(self):\n",
    "        self.state=np.random.choice(['checkout','dairy','drinks','fruit','spices'] ,p=transition_probs.loc[self.state])"
   ]
  },
  {
   "cell_type": "code",
   "execution_count": 143,
   "id": "d2c50df6-3ae2-48e3-8850-cdbd4ba01a71",
   "metadata": {},
   "outputs": [
    {
     "data": {
      "text/plain": [
       "monday1;drinks"
      ]
     },
     "execution_count": 143,
     "metadata": {},
     "output_type": "execute_result"
    }
   ],
   "source": [
    "new=Customer('monday1','drinks',transition_probs)\n",
    "new"
   ]
  },
  {
   "cell_type": "code",
   "execution_count": 144,
   "id": "ab44a522-7225-45aa-8b1f-b08747952da5",
   "metadata": {
    "tags": []
   },
   "outputs": [
    {
     "name": "stdout",
     "output_type": "stream",
     "text": [
      "monday1;drinks\n",
      "monday1;spices\n",
      "monday1;spices\n",
      "monday1;spices\n",
      "monday1;checkout\n"
     ]
    }
   ],
   "source": [
    "while new.is_active():\n",
    "    new.next_state()\n",
    "    print(new)"
   ]
  },
  {
   "cell_type": "code",
   "execution_count": 145,
   "id": "5894c57e-e981-4b03-88b3-ca52b417e806",
   "metadata": {},
   "outputs": [],
   "source": [
    "class Supermarket:\n",
    "    \"\"\"manages multiple Customer instances that are currently in the market.\n",
    "    \"\"\"\n",
    "\n",
    "    def __init__(self,transition_probs):        \n",
    "        # a list of Customer objects\n",
    "        self.customers = []\n",
    "        self.last_id = 0\n",
    "        self.minutes = 0\n",
    "        \n",
    "        \n",
    "\n",
    "    def __repr__(self):\n",
    "        return f'{self.current_time};{self.uniqueID};{self.state}'\n",
    "\n",
    "    def get_time(self):\n",
    "        \"\"\"current time in HH:MM format,\n",
    "        \"\"\"\n",
    "        self.open_time = pd.to_datetime('08:00',format='%H:%M')\n",
    "        self.close_time = pd.to_datetime('17:00',format='%H:%M')\n",
    "        self.current_time = pd.to_datetime('08:00',format='%H:%M')\n",
    "        \n",
    "        self.current_state = np.array([[self.current_time, customer.id, customer.state] for customer in self.customers])\n",
    "        \n",
    "\n",
    "    def print_customers(self):\n",
    "        \"\"\"print all customers with the current time and id in CSV format.\n",
    "        \"\"\"\n",
    "        \n",
    "        return f'{self.current_time};{self.uniqueID};{self.state}'\n",
    "\n",
    "    def next_minute(self):\n",
    "        \"\"\"propagates all customers to the next state.\n",
    "        \"\"\"\n",
    "        self.current_time += pd.Timedelta(1,'m')\n",
    "        #self.customers = [customer.next_state() for customer in self.customers]\n",
    "        for customer in self.customers:\n",
    "            customer.next_state()\n",
    "    \n",
    "    def add_new_customers(self):\n",
    "        \"\"\"randomly creates new customers.\n",
    "        \"\"\"\n",
    "        \n",
    "    def remove_exitsting_customers(self):\n",
    "        \"\"\"removes every customer that is not active any more.\n",
    "        \"\"\"\n",
    "        self.customers = [customer for customer in self.customers if customer.is_active() == True]"
   ]
  },
  {
   "cell_type": "code",
   "execution_count": 150,
   "id": "1632ff06-b34f-4dbe-a7a1-bff6c7e96b21",
   "metadata": {},
   "outputs": [],
   "source": [
    "one = Supermarket(transition_probs)\n",
    "one.remove_exitsting_customers()"
   ]
  },
  {
   "cell_type": "code",
   "execution_count": 151,
   "id": "c8689fb9-245d-47cc-a31f-4521d35c6409",
   "metadata": {
    "tags": []
   },
   "outputs": [],
   "source": [
    "one.get_time()\n",
    "one.next_minute()"
   ]
  }
 ],
 "metadata": {
  "kernelspec": {
   "display_name": "Python 3",
   "language": "python",
   "name": "python3"
  },
  "language_info": {
   "codemirror_mode": {
    "name": "ipython",
    "version": 3
   },
   "file_extension": ".py",
   "mimetype": "text/x-python",
   "name": "python",
   "nbconvert_exporter": "python",
   "pygments_lexer": "ipython3",
   "version": "3.7.13"
  }
 },
 "nbformat": 4,
 "nbformat_minor": 5
}
