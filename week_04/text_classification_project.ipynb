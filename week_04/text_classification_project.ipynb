{
 "cells": [
  {
   "cell_type": "markdown",
   "id": "b993b05b-35ea-4fce-a40e-f3cf3314ade8",
   "metadata": {},
   "source": [
    "<strong> <font size=\"5\"> Download Songs & Extract Lyrics <strong>  "
   ]
  },
  {
   "cell_type": "code",
   "execution_count": 1,
   "id": "5d2db4c8-edc3-4ca0-8651-1cdd4ace2e0e",
   "metadata": {
    "tags": []
   },
   "outputs": [],
   "source": [
    "import numpy as np\n",
    "import pandas as pd\n",
    "import seaborn as sns\n",
    "import os\n",
    "import requests\n",
    "from sklearn.linear_model import LogisticRegression\n",
    "from sklearn.model_selection import train_test_split\n",
    "from sklearn.feature_extraction.text import TfidfVectorizer\n",
    "from sklearn.pipeline import make_pipeline\n",
    "from sklearn.naive_bayes import MultinomialNB\n",
    "from sklearn.metrics import accuracy_score\n",
    "from bs4 import BeautifulSoup\n",
    "import matplotlib\n",
    "from matplotlib import pyplot as plt\n",
    "from matplotlib.pylab import rcParams\n",
    "rcParams['figure.figsize'] = 10,6\n",
    "import warnings\n",
    "warnings.filterwarnings(\"ignore\")"
   ]
  },
  {
   "cell_type": "code",
   "execution_count": 2,
   "id": "55236c76-3c59-40b2-858d-5a866076d65a",
   "metadata": {
    "tags": []
   },
   "outputs": [],
   "source": [
    "url_westlife= 'https://www.lyrics.com/artist/Craig-David/451479'\n",
    "url_craig= 'https://www.lyrics.com/artist/Westlife/396003'\n",
    "\n",
    "westlife = requests.get(url_westlife) \n",
    "craig = requests.get(url_craig) "
   ]
  },
  {
   "cell_type": "code",
   "execution_count": 3,
   "id": "ce5f6f46-0f66-4dac-8c16-8ab09b2f44dd",
   "metadata": {},
   "outputs": [
    {
     "name": "stdout",
     "output_type": "stream",
     "text": [
      "C:\\Users\\hassa\\OneDrive\\Desktop\\spiced_excercises\\scikit-cilantro-student-code\\week_04\\data\n"
     ]
    }
   ],
   "source": [
    "cd data"
   ]
  },
  {
   "cell_type": "code",
   "execution_count": 4,
   "id": "c92825cc-8c15-460e-b443-27aa6aa1a222",
   "metadata": {
    "tags": []
   },
   "outputs": [],
   "source": [
    "file1 =open(file= 'westlife_lyrics.txt', mode='r',encoding=\"mbcs\")\n",
    "westlife_songs=file1.read()\n",
    "file1.close()\n",
    "\n",
    "file2 =open(file= 'craig_lyrics.txt', mode='r',encoding=\"mbcs\")\n",
    "craig_songs=file2.read()\n",
    "file2.close()"
   ]
  },
  {
   "cell_type": "code",
   "execution_count": 5,
   "id": "62e37bbf-3ea8-4524-beba-649110f5df8a",
   "metadata": {
    "tags": []
   },
   "outputs": [],
   "source": [
    "westlife_file = BeautifulSoup(westlife_songs,'html.parser')\n",
    "craig_file = BeautifulSoup(craig_songs,'html.parser')"
   ]
  },
  {
   "cell_type": "code",
   "execution_count": 6,
   "id": "2548cf7d-6f10-4759-b791-b0d5b932b37c",
   "metadata": {
    "tags": []
   },
   "outputs": [
    {
     "data": {
      "text/plain": [
       "<title>Craig David Lyrics, Songs and Albums | Lyrics.com</title>"
      ]
     },
     "execution_count": 6,
     "metadata": {},
     "output_type": "execute_result"
    }
   ],
   "source": [
    "westlife_file.head.title"
   ]
  },
  {
   "cell_type": "code",
   "execution_count": 7,
   "id": "b5afd837-5d0a-4b81-9374-44ddb854ccaf",
   "metadata": {},
   "outputs": [
    {
     "data": {
      "text/plain": [
       "<title>Westlife Lyrics, Songs and Albums | Lyrics.com</title>"
      ]
     },
     "execution_count": 7,
     "metadata": {},
     "output_type": "execute_result"
    }
   ],
   "source": [
    "craig_file.head.title"
   ]
  },
  {
   "cell_type": "code",
   "execution_count": 8,
   "id": "deaa3de5-1b09-4a24-9d65-a3e020cb349a",
   "metadata": {
    "tags": []
   },
   "outputs": [],
   "source": [
    "lyrics_westlife = [t.text for t in westlife_file.find_all(class_='tal qx')]\n",
    "lyrics_craig = [t.text for t in craig_file.find_all(class_='tal qx')]"
   ]
  },
  {
   "cell_type": "code",
   "execution_count": 9,
   "id": "3c68523d-7d58-4763-bfb1-a1613aa2a97b",
   "metadata": {},
   "outputs": [
    {
     "data": {
      "text/plain": [
       "['Nothing Like This',\n",
       " 'Re-Rewind',\n",
       " 'No Drama',\n",
       " \"Ain't Giving Up\",\n",
       " 'I Know You',\n",
       " 'Sober',\n",
       " 'Rewind',\n",
       " 'No Drama',\n",
       " 'Sober',\n",
       " 'Come Alive [*]']"
      ]
     },
     "execution_count": 9,
     "metadata": {},
     "output_type": "execute_result"
    }
   ],
   "source": [
    "lyrics_westlife[0:10]"
   ]
  },
  {
   "cell_type": "code",
   "execution_count": 10,
   "id": "cfc01506-28db-4ba4-aae2-d24be1b9aff1",
   "metadata": {},
   "outputs": [
    {
     "data": {
      "text/plain": [
       "['Hello My Love',\n",
       " 'My Blood',\n",
       " 'I Have a Dream',\n",
       " 'Uptown Girl',\n",
       " 'Flying Without Wings',\n",
       " 'Uptown Girl',\n",
       " 'Flying Without Wings',\n",
       " 'Flying Without Wings',\n",
       " 'Flying Without Wings',\n",
       " 'You Raise Me Up']"
      ]
     },
     "execution_count": 10,
     "metadata": {},
     "output_type": "execute_result"
    }
   ],
   "source": [
    "lyrics_craig[0:10]"
   ]
  },
  {
   "cell_type": "code",
   "execution_count": 11,
   "id": "9b4d7aff-eeda-4951-8886-b4d11838629a",
   "metadata": {},
   "outputs": [
    {
     "name": "stdout",
     "output_type": "stream",
     "text": [
      "\n",
      "<!doctype html>\n",
      "<!--[if lt IE 7]> <html class=\"no-js lt-ie9 lt-ie8 lt-ie7\" lang=\"en\"> <![endif]-->\n",
      "<!--[if IE 7]>    <html class=\"no-js lt-ie9 lt-ie8\" lang=\"en\"> <![endif]-->\n",
      "<!--[if IE 8]>    <html class=\"no-js lt-ie9\" lang=\"en\"> <![endif]-->\n",
      "<!--[if gt IE 8]><!--> <html class=\"no-js\" lang=\"en\"> <!--<![endif]--><head>\n",
      "<meta charset=\"utf-8\">\n",
      "<meta http-equiv=\"X-UA-Compatible\" content=\"IE=edge,chrome=1\">\n",
      "<title>Craig David Lyrics, Songs and Albums | Lyrics.com</title>\n",
      "<meta name=\"description\" content=\"Craig David Lyrics - All the great songs and their lyrics from Craig David on Lyrics.com\">\n",
      "<meta name=\"keywords\" content=\"Craig David lyrics, Craig David song lyrics, Craig David lyric\">\n",
      "<meta name=\"viewport\" content=\"width=device-width, initial-scale=1, maximum-scale=1\">\n",
      "<base href=\"https://www.lyrics.com/\">\n",
      "\n",
      "<script>\n",
      "s4Prefix = 'https://static.stands4.com';\n",
      "version = '1.3.85';\n",
      "</script>\n",
      "\n",
      "<!-- Bootstrap compiled and minified CSS -->\n",
      "<link rel=\"stylesheet\" href=\"https://maxcdn.bootstrapcd\n"
     ]
    }
   ],
   "source": [
    "print(westlife.text[0:1000])"
   ]
  },
  {
   "cell_type": "code",
   "execution_count": 12,
   "id": "2e8501f3-4299-4acf-afb2-83215072f044",
   "metadata": {},
   "outputs": [
    {
     "name": "stdout",
     "output_type": "stream",
     "text": [
      "\n",
      "<!doctype html>\n",
      "<!--[if lt IE 7]> <html class=\"no-js lt-ie9 lt-ie8 lt-ie7\" lang=\"en\"> <![endif]-->\n",
      "<!--[if IE 7]>    <html class=\"no-js lt-ie9 lt-ie8\" lang=\"en\"> <![endif]-->\n",
      "<!--[if IE 8]>    <html class=\"no-js lt-ie9\" lang=\"en\"> <![endif]-->\n",
      "<!--[if gt IE 8]><!--> <html class=\"no-js\" lang=\"en\"> <!--<![endif]--><head>\n",
      "<meta charset=\"utf-8\">\n",
      "<meta http-equiv=\"X-UA-Compatible\" content=\"IE=edge,chrome=1\">\n",
      "<title>Westlife Lyrics, Songs and Albums | Lyrics.com</title>\n",
      "<meta name=\"description\" content=\"Westlife Lyrics - All the great songs and their lyrics from Westlife on Lyrics.com\">\n",
      "<meta name=\"keywords\" content=\"Westlife lyrics, Westlife song lyrics, Westlife lyric\">\n",
      "<meta name=\"viewport\" content=\"width=device-width, initial-scale=1, maximum-scale=1\">\n",
      "<base href=\"https://www.lyrics.com/\">\n",
      "\n",
      "<script>\n",
      "s4Prefix = 'https://static.stands4.com';\n",
      "version = '1.3.85';\n",
      "</script>\n",
      "\n",
      "<!-- Bootstrap compiled and minified CSS -->\n",
      "<link rel=\"stylesheet\" href=\"https://maxcdn.bootstrapcdn.com/bootstrap/3.\n"
     ]
    }
   ],
   "source": [
    "print(craig.text[0:1000])"
   ]
  },
  {
   "cell_type": "code",
   "execution_count": 13,
   "id": "a61656db-6f8d-40b7-b85b-28cb13d3a3af",
   "metadata": {
    "tags": []
   },
   "outputs": [
    {
     "data": {
      "text/html": [
       "<div>\n",
       "<style scoped>\n",
       "    .dataframe tbody tr th:only-of-type {\n",
       "        vertical-align: middle;\n",
       "    }\n",
       "\n",
       "    .dataframe tbody tr th {\n",
       "        vertical-align: top;\n",
       "    }\n",
       "\n",
       "    .dataframe thead th {\n",
       "        text-align: right;\n",
       "    }\n",
       "</style>\n",
       "<table border=\"1\" class=\"dataframe\">\n",
       "  <thead>\n",
       "    <tr style=\"text-align: right;\">\n",
       "      <th></th>\n",
       "      <th>Artist</th>\n",
       "      <th>Lyrics</th>\n",
       "    </tr>\n",
       "  </thead>\n",
       "  <tbody>\n",
       "    <tr>\n",
       "      <th>0</th>\n",
       "      <td>westlife</td>\n",
       "      <td>Nothing Like This</td>\n",
       "    </tr>\n",
       "    <tr>\n",
       "      <th>1</th>\n",
       "      <td>westlife</td>\n",
       "      <td>Re-Rewind</td>\n",
       "    </tr>\n",
       "    <tr>\n",
       "      <th>2</th>\n",
       "      <td>westlife</td>\n",
       "      <td>No Drama</td>\n",
       "    </tr>\n",
       "    <tr>\n",
       "      <th>3</th>\n",
       "      <td>westlife</td>\n",
       "      <td>Ain't Giving Up</td>\n",
       "    </tr>\n",
       "    <tr>\n",
       "      <th>4</th>\n",
       "      <td>westlife</td>\n",
       "      <td>I Know You</td>\n",
       "    </tr>\n",
       "    <tr>\n",
       "      <th>...</th>\n",
       "      <td>...</td>\n",
       "      <td>...</td>\n",
       "    </tr>\n",
       "    <tr>\n",
       "      <th>815</th>\n",
       "      <td>westlife</td>\n",
       "      <td>7 Days</td>\n",
       "    </tr>\n",
       "    <tr>\n",
       "      <th>816</th>\n",
       "      <td>westlife</td>\n",
       "      <td>World Filled With Love</td>\n",
       "    </tr>\n",
       "    <tr>\n",
       "      <th>817</th>\n",
       "      <td>westlife</td>\n",
       "      <td>All Friday</td>\n",
       "    </tr>\n",
       "    <tr>\n",
       "      <th>818</th>\n",
       "      <td>westlife</td>\n",
       "      <td>Ain't Giving Up</td>\n",
       "    </tr>\n",
       "    <tr>\n",
       "      <th>819</th>\n",
       "      <td>westlife</td>\n",
       "      <td>I Know You</td>\n",
       "    </tr>\n",
       "  </tbody>\n",
       "</table>\n",
       "<p>820 rows × 2 columns</p>\n",
       "</div>"
      ],
      "text/plain": [
       "       Artist                  Lyrics\n",
       "0    westlife       Nothing Like This\n",
       "1    westlife               Re-Rewind\n",
       "2    westlife                No Drama\n",
       "3    westlife         Ain't Giving Up\n",
       "4    westlife              I Know You\n",
       "..        ...                     ...\n",
       "815  westlife                  7 Days\n",
       "816  westlife  World Filled With Love\n",
       "817  westlife              All Friday\n",
       "818  westlife         Ain't Giving Up\n",
       "819  westlife              I Know You\n",
       "\n",
       "[820 rows x 2 columns]"
      ]
     },
     "execution_count": 13,
     "metadata": {},
     "output_type": "execute_result"
    }
   ],
   "source": [
    "westlife_corpus = pd.DataFrame({'Artist':'westlife', 'Lyrics':lyrics_westlife})\n",
    "westlife_corpus"
   ]
  },
  {
   "cell_type": "code",
   "execution_count": 14,
   "id": "6d0e886f-8de9-4c62-b5bb-7c89b8ab7c35",
   "metadata": {
    "tags": []
   },
   "outputs": [
    {
     "data": {
      "text/html": [
       "<div>\n",
       "<style scoped>\n",
       "    .dataframe tbody tr th:only-of-type {\n",
       "        vertical-align: middle;\n",
       "    }\n",
       "\n",
       "    .dataframe tbody tr th {\n",
       "        vertical-align: top;\n",
       "    }\n",
       "\n",
       "    .dataframe thead th {\n",
       "        text-align: right;\n",
       "    }\n",
       "</style>\n",
       "<table border=\"1\" class=\"dataframe\">\n",
       "  <thead>\n",
       "    <tr style=\"text-align: right;\">\n",
       "      <th></th>\n",
       "      <th>Artist</th>\n",
       "      <th>Lyrics</th>\n",
       "    </tr>\n",
       "  </thead>\n",
       "  <tbody>\n",
       "    <tr>\n",
       "      <th>0</th>\n",
       "      <td>craig</td>\n",
       "      <td>Hello My Love</td>\n",
       "    </tr>\n",
       "    <tr>\n",
       "      <th>1</th>\n",
       "      <td>craig</td>\n",
       "      <td>My Blood</td>\n",
       "    </tr>\n",
       "    <tr>\n",
       "      <th>2</th>\n",
       "      <td>craig</td>\n",
       "      <td>I Have a Dream</td>\n",
       "    </tr>\n",
       "    <tr>\n",
       "      <th>3</th>\n",
       "      <td>craig</td>\n",
       "      <td>Uptown Girl</td>\n",
       "    </tr>\n",
       "    <tr>\n",
       "      <th>4</th>\n",
       "      <td>craig</td>\n",
       "      <td>Flying Without Wings</td>\n",
       "    </tr>\n",
       "    <tr>\n",
       "      <th>...</th>\n",
       "      <td>...</td>\n",
       "      <td>...</td>\n",
       "    </tr>\n",
       "    <tr>\n",
       "      <th>1161</th>\n",
       "      <td>craig</td>\n",
       "      <td>When You're Looking Like That</td>\n",
       "    </tr>\n",
       "    <tr>\n",
       "      <th>1162</th>\n",
       "      <td>craig</td>\n",
       "      <td>Change the World</td>\n",
       "    </tr>\n",
       "    <tr>\n",
       "      <th>1163</th>\n",
       "      <td>craig</td>\n",
       "      <td>When You Come Around</td>\n",
       "    </tr>\n",
       "    <tr>\n",
       "      <th>1164</th>\n",
       "      <td>craig</td>\n",
       "      <td>Puzzle of My Heart</td>\n",
       "    </tr>\n",
       "    <tr>\n",
       "      <th>1165</th>\n",
       "      <td>craig</td>\n",
       "      <td>Love Crime</td>\n",
       "    </tr>\n",
       "  </tbody>\n",
       "</table>\n",
       "<p>1166 rows × 2 columns</p>\n",
       "</div>"
      ],
      "text/plain": [
       "     Artist                         Lyrics\n",
       "0     craig                  Hello My Love\n",
       "1     craig                       My Blood\n",
       "2     craig                 I Have a Dream\n",
       "3     craig                    Uptown Girl\n",
       "4     craig           Flying Without Wings\n",
       "...     ...                            ...\n",
       "1161  craig  When You're Looking Like That\n",
       "1162  craig               Change the World\n",
       "1163  craig           When You Come Around\n",
       "1164  craig             Puzzle of My Heart\n",
       "1165  craig                     Love Crime\n",
       "\n",
       "[1166 rows x 2 columns]"
      ]
     },
     "execution_count": 14,
     "metadata": {},
     "output_type": "execute_result"
    }
   ],
   "source": [
    "craig_corpus = pd.DataFrame({'Artist':'craig', 'Lyrics':lyrics_craig})\n",
    "craig_corpus"
   ]
  },
  {
   "cell_type": "code",
   "execution_count": 15,
   "id": "9fe8b140-51fb-451d-984d-5f66ef36ad00",
   "metadata": {
    "tags": []
   },
   "outputs": [
    {
     "data": {
      "text/html": [
       "<div>\n",
       "<style scoped>\n",
       "    .dataframe tbody tr th:only-of-type {\n",
       "        vertical-align: middle;\n",
       "    }\n",
       "\n",
       "    .dataframe tbody tr th {\n",
       "        vertical-align: top;\n",
       "    }\n",
       "\n",
       "    .dataframe thead th {\n",
       "        text-align: right;\n",
       "    }\n",
       "</style>\n",
       "<table border=\"1\" class=\"dataframe\">\n",
       "  <thead>\n",
       "    <tr style=\"text-align: right;\">\n",
       "      <th></th>\n",
       "      <th>Artist</th>\n",
       "      <th>Lyrics</th>\n",
       "    </tr>\n",
       "  </thead>\n",
       "  <tbody>\n",
       "    <tr>\n",
       "      <th>0</th>\n",
       "      <td>westlife</td>\n",
       "      <td>Nothing Like This</td>\n",
       "    </tr>\n",
       "    <tr>\n",
       "      <th>1</th>\n",
       "      <td>westlife</td>\n",
       "      <td>Re-Rewind</td>\n",
       "    </tr>\n",
       "    <tr>\n",
       "      <th>2</th>\n",
       "      <td>westlife</td>\n",
       "      <td>No Drama</td>\n",
       "    </tr>\n",
       "    <tr>\n",
       "      <th>3</th>\n",
       "      <td>westlife</td>\n",
       "      <td>Ain't Giving Up</td>\n",
       "    </tr>\n",
       "    <tr>\n",
       "      <th>4</th>\n",
       "      <td>westlife</td>\n",
       "      <td>I Know You</td>\n",
       "    </tr>\n",
       "    <tr>\n",
       "      <th>...</th>\n",
       "      <td>...</td>\n",
       "      <td>...</td>\n",
       "    </tr>\n",
       "    <tr>\n",
       "      <th>1161</th>\n",
       "      <td>craig</td>\n",
       "      <td>When You're Looking Like That</td>\n",
       "    </tr>\n",
       "    <tr>\n",
       "      <th>1162</th>\n",
       "      <td>craig</td>\n",
       "      <td>Change the World</td>\n",
       "    </tr>\n",
       "    <tr>\n",
       "      <th>1163</th>\n",
       "      <td>craig</td>\n",
       "      <td>When You Come Around</td>\n",
       "    </tr>\n",
       "    <tr>\n",
       "      <th>1164</th>\n",
       "      <td>craig</td>\n",
       "      <td>Puzzle of My Heart</td>\n",
       "    </tr>\n",
       "    <tr>\n",
       "      <th>1165</th>\n",
       "      <td>craig</td>\n",
       "      <td>Love Crime</td>\n",
       "    </tr>\n",
       "  </tbody>\n",
       "</table>\n",
       "<p>1986 rows × 2 columns</p>\n",
       "</div>"
      ],
      "text/plain": [
       "        Artist                         Lyrics\n",
       "0     westlife              Nothing Like This\n",
       "1     westlife                      Re-Rewind\n",
       "2     westlife                       No Drama\n",
       "3     westlife                Ain't Giving Up\n",
       "4     westlife                     I Know You\n",
       "...        ...                            ...\n",
       "1161     craig  When You're Looking Like That\n",
       "1162     craig               Change the World\n",
       "1163     craig           When You Come Around\n",
       "1164     craig             Puzzle of My Heart\n",
       "1165     craig                     Love Crime\n",
       "\n",
       "[1986 rows x 2 columns]"
      ]
     },
     "execution_count": 15,
     "metadata": {},
     "output_type": "execute_result"
    }
   ],
   "source": [
    "df= pd.concat([westlife_corpus, craig_corpus])\n",
    "df"
   ]
  },
  {
   "cell_type": "code",
   "execution_count": 16,
   "id": "583dfab9-e5da-4573-a5ca-a4c7e051a483",
   "metadata": {
    "tags": []
   },
   "outputs": [],
   "source": [
    "df.to_csv('craig_westlife_lyrics.csv')"
   ]
  },
  {
   "cell_type": "markdown",
   "id": "faf97c27-64fd-409f-8662-2ed76446588e",
   "metadata": {},
   "source": [
    "<strong> <font size=\"5\"> Vectorize the Text & Train Naive Bayes Classifier Model <strong>  "
   ]
  },
  {
   "cell_type": "code",
   "execution_count": 17,
   "id": "dc187c0e-cfa1-4111-bead-a56924c2ef34",
   "metadata": {
    "tags": []
   },
   "outputs": [],
   "source": [
    "y_labels = df['Artist']"
   ]
  },
  {
   "cell_type": "code",
   "execution_count": 18,
   "id": "45907c0d-7ffd-4f53-a2cf-219394fac972",
   "metadata": {
    "tags": []
   },
   "outputs": [],
   "source": [
    "X_lyrics = df['Lyrics']"
   ]
  },
  {
   "cell_type": "code",
   "execution_count": 19,
   "id": "bc2b23a9-d766-4152-8f02-c1d22c448612",
   "metadata": {},
   "outputs": [
    {
     "data": {
      "text/plain": [
       "0                   Nothing Like This\n",
       "1                           Re-Rewind\n",
       "2                            No Drama\n",
       "3                     Ain't Giving Up\n",
       "4                          I Know You\n",
       "                    ...              \n",
       "1161    When You're Looking Like That\n",
       "1162                 Change the World\n",
       "1163             When You Come Around\n",
       "1164               Puzzle of My Heart\n",
       "1165                       Love Crime\n",
       "Name: Lyrics, Length: 1986, dtype: object"
      ]
     },
     "execution_count": 19,
     "metadata": {},
     "output_type": "execute_result"
    }
   ],
   "source": [
    "X_lyrics"
   ]
  },
  {
   "cell_type": "code",
   "execution_count": 20,
   "id": "e6b5a7fa-72c1-41c8-b76e-88b92946fe90",
   "metadata": {
    "tags": []
   },
   "outputs": [],
   "source": [
    "X_lyrics_train, X_lyrics_test, y_labels_train, y_labels_test = train_test_split(X_lyrics, y_labels)"
   ]
  },
  {
   "cell_type": "code",
   "execution_count": 21,
   "id": "ff9864a0-d8ba-4f17-b39e-77830923ca98",
   "metadata": {},
   "outputs": [
    {
     "data": {
      "text/plain": [
       "((1489,), (497,), (1489,), (497,))"
      ]
     },
     "execution_count": 21,
     "metadata": {},
     "output_type": "execute_result"
    }
   ],
   "source": [
    "X_lyrics_train.shape, X_lyrics_test.shape, y_labels_train.shape, y_labels_test.shape"
   ]
  },
  {
   "cell_type": "code",
   "execution_count": 24,
   "id": "21b92b52-b242-4be4-95dd-2f3bce8c0f90",
   "metadata": {
    "tags": []
   },
   "outputs": [],
   "source": [
    "# a) Transform & b) Train the split dataset\n",
    "\n",
    "pipeline = make_pipeline(\n",
    "    TfidfVectorizer(),\n",
    "    MultinomialNB(),\n",
    ")"
   ]
  },
  {
   "cell_type": "code",
   "execution_count": 25,
   "id": "edaa0901-5750-4fbe-bc87-a10ba95803db",
   "metadata": {},
   "outputs": [],
   "source": [
    "a = pipeline.fit(X_lyrics_train, y_labels_train)"
   ]
  },
  {
   "cell_type": "code",
   "execution_count": 26,
   "id": "4a8d96b8-2496-4993-806a-17c0d24591fe",
   "metadata": {},
   "outputs": [],
   "source": [
    "predictions1 = a.predict(X_lyrics_train)"
   ]
  },
  {
   "cell_type": "code",
   "execution_count": 27,
   "id": "42b5a0e7-0865-4e58-a1a7-7d321ba6de2d",
   "metadata": {},
   "outputs": [
    {
     "data": {
      "text/plain": [
       "0.9637340496977838"
      ]
     },
     "execution_count": 27,
     "metadata": {},
     "output_type": "execute_result"
    }
   ],
   "source": [
    "accuracy_score(predictions1, y_labels_train)"
   ]
  },
  {
   "cell_type": "code",
   "execution_count": 28,
   "id": "ebfb0f2c-9432-461e-8fd0-08c3ba79b1dc",
   "metadata": {
    "tags": []
   },
   "outputs": [],
   "source": [
    "b = pipeline.fit(X_lyrics_test, y_labels_test)"
   ]
  },
  {
   "cell_type": "code",
   "execution_count": 29,
   "id": "dbcdef90-25b3-4998-a7ca-f3deae6c7946",
   "metadata": {},
   "outputs": [],
   "source": [
    "predictions2 = b.predict(X_lyrics_test)"
   ]
  },
  {
   "cell_type": "code",
   "execution_count": 30,
   "id": "08c8332d-12c5-4756-aa7e-2df866fe1c41",
   "metadata": {},
   "outputs": [
    {
     "data": {
      "text/plain": [
       "0.9476861167002012"
      ]
     },
     "execution_count": 30,
     "metadata": {},
     "output_type": "execute_result"
    }
   ],
   "source": [
    "accuracy_score(predictions2, y_labels_test)"
   ]
  },
  {
   "cell_type": "code",
   "execution_count": null,
   "id": "f1c2614c-88a6-4a6d-9b68-8203b382cfcf",
   "metadata": {
    "tags": []
   },
   "outputs": [],
   "source": [
    "# First Train_Test_Split the data, then vectorize\n",
    "\n",
    "vectorizer = CountVectorizer()\n",
    "X = vectorizer.fit_transform(df['Lyrics'])\n",
    "pd.DataFrame(X.toarray(), columns=vectorizer.get_feature_names_out())"
   ]
  },
  {
   "cell_type": "code",
   "execution_count": null,
   "id": "1e095b82-47d7-47f8-ad50-a95d1725d2aa",
   "metadata": {},
   "outputs": [],
   "source": [
    "df['Artist']"
   ]
  },
  {
   "cell_type": "code",
   "execution_count": null,
   "id": "b525d4d1-8f97-4022-8c9c-30fe95a1d55c",
   "metadata": {
    "tags": []
   },
   "outputs": [],
   "source": [
    "X = vectorizer.fit_transform(df['Lyrics'])\n",
    "print(X)"
   ]
  },
  {
   "cell_type": "code",
   "execution_count": null,
   "id": "58c342d4-5b37-4af6-ba7b-3b8071c96fbe",
   "metadata": {},
   "outputs": [],
   "source": [
    "y = vectorizer.fit_transform(df['Artist'])\n",
    "print(y)"
   ]
  },
  {
   "cell_type": "code",
   "execution_count": null,
   "id": "c54257cc-1f53-4db4-a2f7-ee3ef3c06f04",
   "metadata": {
    "tags": []
   },
   "outputs": [],
   "source": [
    "X.toarray()"
   ]
  },
  {
   "cell_type": "code",
   "execution_count": null,
   "id": "c0a32060-3830-436d-b730-34688c9a1837",
   "metadata": {
    "tags": []
   },
   "outputs": [],
   "source": [
    "vectorizer.get_feature_names_out()"
   ]
  },
  {
   "cell_type": "markdown",
   "id": "1dcbfc65-90c6-4dc4-9adf-cdbc319e194a",
   "metadata": {},
   "source": [
    "<strong> <font size=\"5\"> Apply Data Pipeline on Complete Lyrics Dataset & Predict Artist from a Piece of Text <strong> "
   ]
  },
  {
   "cell_type": "code",
   "execution_count": 34,
   "id": "8532a4d9-e25a-40bd-898e-23fa46ffdd56",
   "metadata": {},
   "outputs": [
    {
     "data": {
      "text/plain": [
       "0                   Nothing Like This\n",
       "1                           Re-Rewind\n",
       "2                            No Drama\n",
       "3                     Ain't Giving Up\n",
       "4                          I Know You\n",
       "                    ...              \n",
       "1161    When You're Looking Like That\n",
       "1162                 Change the World\n",
       "1163             When You Come Around\n",
       "1164               Puzzle of My Heart\n",
       "1165                       Love Crime\n",
       "Name: Lyrics, Length: 1986, dtype: object"
      ]
     },
     "execution_count": 34,
     "metadata": {},
     "output_type": "execute_result"
    }
   ],
   "source": [
    "X_lyrics"
   ]
  },
  {
   "cell_type": "code",
   "execution_count": 36,
   "id": "dcc149db-6325-4a19-adaa-8740f486adf2",
   "metadata": {
    "tags": []
   },
   "outputs": [],
   "source": [
    "pipeline = make_pipeline(\n",
    "    TfidfVectorizer(),\n",
    "    MultinomialNB(),\n",
    ")"
   ]
  },
  {
   "cell_type": "code",
   "execution_count": 38,
   "id": "14890f72-b02c-45d2-a43b-bf8c11582b2d",
   "metadata": {
    "tags": []
   },
   "outputs": [
    {
     "data": {
      "text/plain": [
       "Pipeline(steps=[('tfidfvectorizer', TfidfVectorizer()),\n",
       "                ('multinomialnb', MultinomialNB())])"
      ]
     },
     "execution_count": 38,
     "metadata": {},
     "output_type": "execute_result"
    }
   ],
   "source": [
    "c = pipeline.fit(X_lyrics, y_labels)\n"
   ]
  },
  {
   "cell_type": "code",
   "execution_count": 46,
   "id": "65440317-57d7-45e3-8593-63d8fda0cd53",
   "metadata": {},
   "outputs": [],
   "source": [
    "X_test = [\"My Love\"]"
   ]
  },
  {
   "cell_type": "code",
   "execution_count": 48,
   "id": "80aa671f-5fba-400b-8fe9-42a1e5833ac7",
   "metadata": {
    "tags": []
   },
   "outputs": [
    {
     "data": {
      "text/plain": [
       "array(['craig'], dtype='<U8')"
      ]
     },
     "execution_count": 48,
     "metadata": {},
     "output_type": "execute_result"
    }
   ],
   "source": [
    "predictions3 = c.predict(X_test)\n",
    "predictions3"
   ]
  }
 ],
 "metadata": {
  "kernelspec": {
   "display_name": "Python 3",
   "language": "python",
   "name": "python3"
  },
  "language_info": {
   "codemirror_mode": {
    "name": "ipython",
    "version": 3
   },
   "file_extension": ".py",
   "mimetype": "text/x-python",
   "name": "python",
   "nbconvert_exporter": "python",
   "pygments_lexer": "ipython3",
   "version": "3.7.13"
  }
 },
 "nbformat": 4,
 "nbformat_minor": 5
}
