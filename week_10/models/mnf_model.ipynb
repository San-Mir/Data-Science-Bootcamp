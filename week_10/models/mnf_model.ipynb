{
 "cells": [
  {
   "cell_type": "markdown",
   "id": "ca172896-58ea-4189-be75-f233fb321ec5",
   "metadata": {},
   "source": [
    "# **Create NMF-Model**"
   ]
  },
  {
   "cell_type": "code",
   "execution_count": 3,
   "id": "71f3ff53-a633-4083-b9a2-b196bb0ad59e",
   "metadata": {
    "tags": []
   },
   "outputs": [],
   "source": [
    "import numpy as np \n",
    "import pandas as pd\n",
    "import seaborn as sns\n",
    "import pickle\n",
    "from sklearn.decomposition import NMF\n",
    "import warnings\n",
    "warnings.filterwarnings(\"ignore\")"
   ]
  },
  {
   "cell_type": "code",
   "execution_count": 19,
   "id": "12212aa8-c1fb-46bd-9c8c-161edfa5e967",
   "metadata": {},
   "outputs": [
    {
     "data": {
      "text/html": [
       "<div>\n",
       "<style scoped>\n",
       "    .dataframe tbody tr th:only-of-type {\n",
       "        vertical-align: middle;\n",
       "    }\n",
       "\n",
       "    .dataframe tbody tr th {\n",
       "        vertical-align: top;\n",
       "    }\n",
       "\n",
       "    .dataframe thead th {\n",
       "        text-align: right;\n",
       "    }\n",
       "</style>\n",
       "<table border=\"1\" class=\"dataframe\">\n",
       "  <thead>\n",
       "    <tr style=\"text-align: right;\">\n",
       "      <th></th>\n",
       "      <th>movieId</th>\n",
       "      <th>rating</th>\n",
       "      <th>timestamp</th>\n",
       "    </tr>\n",
       "    <tr>\n",
       "      <th>userId</th>\n",
       "      <th></th>\n",
       "      <th></th>\n",
       "      <th></th>\n",
       "    </tr>\n",
       "  </thead>\n",
       "  <tbody>\n",
       "    <tr>\n",
       "      <th>1</th>\n",
       "      <td>1</td>\n",
       "      <td>4.0</td>\n",
       "      <td>964982703</td>\n",
       "    </tr>\n",
       "    <tr>\n",
       "      <th>1</th>\n",
       "      <td>3</td>\n",
       "      <td>4.0</td>\n",
       "      <td>964981247</td>\n",
       "    </tr>\n",
       "    <tr>\n",
       "      <th>1</th>\n",
       "      <td>6</td>\n",
       "      <td>4.0</td>\n",
       "      <td>964982224</td>\n",
       "    </tr>\n",
       "    <tr>\n",
       "      <th>1</th>\n",
       "      <td>47</td>\n",
       "      <td>5.0</td>\n",
       "      <td>964983815</td>\n",
       "    </tr>\n",
       "    <tr>\n",
       "      <th>1</th>\n",
       "      <td>50</td>\n",
       "      <td>5.0</td>\n",
       "      <td>964982931</td>\n",
       "    </tr>\n",
       "  </tbody>\n",
       "</table>\n",
       "</div>"
      ],
      "text/plain": [
       "        movieId  rating  timestamp\n",
       "userId                            \n",
       "1             1     4.0  964982703\n",
       "1             3     4.0  964981247\n",
       "1             6     4.0  964982224\n",
       "1            47     5.0  964983815\n",
       "1            50     5.0  964982931"
      ]
     },
     "execution_count": 19,
     "metadata": {},
     "output_type": "execute_result"
    }
   ],
   "source": [
    "ratings_fill = pd.read_csv(r\"C:\\Users\\hassa\\OneDrive\\Desktop\\spiced_excercises\\scikit-cilantro-student-code\\week_10\\data\\ratings.csv\", index_col=0, header=0, low_memory=False)\n",
    "ratings_fill.head()"
   ]
  },
  {
   "cell_type": "code",
   "execution_count": 5,
   "id": "1e740c49-6e7b-49e2-b82b-5b4573ec67a8",
   "metadata": {},
   "outputs": [],
   "source": [
    "movieId = [Id for Id in ratings_fill.columns]"
   ]
  },
  {
   "cell_type": "code",
   "execution_count": 6,
   "id": "04948bc0-cb9e-4350-a9ac-f89bdb5f0b55",
   "metadata": {
    "tags": []
   },
   "outputs": [
    {
     "data": {
      "text/plain": [
       "NMF(max_iter=300, n_components=100)"
      ]
     },
     "execution_count": 6,
     "metadata": {},
     "output_type": "execute_result"
    }
   ],
   "source": [
    "nmf = NMF(n_components=100, max_iter=300)\n",
    "nmf.fit(ratings_fill)"
   ]
  },
  {
   "cell_type": "code",
   "execution_count": 7,
   "id": "024a0905-e487-4008-b64e-adb0595c0a17",
   "metadata": {},
   "outputs": [],
   "source": [
    "P = pd.DataFrame(nmf.transform(ratings_fill), index=ratings_fill.index)\n",
    "Q = pd.DataFrame(nmf.components_, columns=movieId)"
   ]
  },
  {
   "cell_type": "code",
   "execution_count": 17,
   "id": "cbee93e6-e8ac-45e8-9e04-64ed4c50eaa8",
   "metadata": {},
   "outputs": [
    {
     "data": {
      "text/html": [
       "<div>\n",
       "<style scoped>\n",
       "    .dataframe tbody tr th:only-of-type {\n",
       "        vertical-align: middle;\n",
       "    }\n",
       "\n",
       "    .dataframe tbody tr th {\n",
       "        vertical-align: top;\n",
       "    }\n",
       "\n",
       "    .dataframe thead th {\n",
       "        text-align: right;\n",
       "    }\n",
       "</style>\n",
       "<table border=\"1\" class=\"dataframe\">\n",
       "  <thead>\n",
       "    <tr style=\"text-align: right;\">\n",
       "      <th></th>\n",
       "      <th>0</th>\n",
       "      <th>1</th>\n",
       "      <th>2</th>\n",
       "      <th>3</th>\n",
       "      <th>4</th>\n",
       "      <th>5</th>\n",
       "      <th>6</th>\n",
       "      <th>7</th>\n",
       "      <th>8</th>\n",
       "      <th>9</th>\n",
       "      <th>...</th>\n",
       "      <th>90</th>\n",
       "      <th>91</th>\n",
       "      <th>92</th>\n",
       "      <th>93</th>\n",
       "      <th>94</th>\n",
       "      <th>95</th>\n",
       "      <th>96</th>\n",
       "      <th>97</th>\n",
       "      <th>98</th>\n",
       "      <th>99</th>\n",
       "    </tr>\n",
       "    <tr>\n",
       "      <th>userId</th>\n",
       "      <th></th>\n",
       "      <th></th>\n",
       "      <th></th>\n",
       "      <th></th>\n",
       "      <th></th>\n",
       "      <th></th>\n",
       "      <th></th>\n",
       "      <th></th>\n",
       "      <th></th>\n",
       "      <th></th>\n",
       "      <th></th>\n",
       "      <th></th>\n",
       "      <th></th>\n",
       "      <th></th>\n",
       "      <th></th>\n",
       "      <th></th>\n",
       "      <th></th>\n",
       "      <th></th>\n",
       "      <th></th>\n",
       "      <th></th>\n",
       "      <th></th>\n",
       "    </tr>\n",
       "  </thead>\n",
       "  <tbody>\n",
       "    <tr>\n",
       "      <th>1</th>\n",
       "      <td>267193.975719</td>\n",
       "      <td>0.000000</td>\n",
       "      <td>0.000000</td>\n",
       "      <td>0.0</td>\n",
       "      <td>0.000000e+00</td>\n",
       "      <td>6.442054e-05</td>\n",
       "      <td>0.0</td>\n",
       "      <td>0.000000</td>\n",
       "      <td>1.001259e-06</td>\n",
       "      <td>0.000000</td>\n",
       "      <td>...</td>\n",
       "      <td>0.0</td>\n",
       "      <td>0.0</td>\n",
       "      <td>0.0</td>\n",
       "      <td>0.0</td>\n",
       "      <td>0.0</td>\n",
       "      <td>0.0</td>\n",
       "      <td>0.0</td>\n",
       "      <td>0.0</td>\n",
       "      <td>0.0</td>\n",
       "      <td>0.0</td>\n",
       "    </tr>\n",
       "    <tr>\n",
       "      <th>1</th>\n",
       "      <td>267193.572223</td>\n",
       "      <td>0.000152</td>\n",
       "      <td>0.000484</td>\n",
       "      <td>0.0</td>\n",
       "      <td>4.075898e-05</td>\n",
       "      <td>1.596274e-04</td>\n",
       "      <td>0.0</td>\n",
       "      <td>0.000000</td>\n",
       "      <td>8.172697e-07</td>\n",
       "      <td>0.000000</td>\n",
       "      <td>...</td>\n",
       "      <td>0.0</td>\n",
       "      <td>0.0</td>\n",
       "      <td>0.0</td>\n",
       "      <td>0.0</td>\n",
       "      <td>0.0</td>\n",
       "      <td>0.0</td>\n",
       "      <td>0.0</td>\n",
       "      <td>0.0</td>\n",
       "      <td>0.0</td>\n",
       "      <td>0.0</td>\n",
       "    </tr>\n",
       "    <tr>\n",
       "      <th>1</th>\n",
       "      <td>267193.842224</td>\n",
       "      <td>0.000452</td>\n",
       "      <td>0.001440</td>\n",
       "      <td>0.0</td>\n",
       "      <td>2.094189e-05</td>\n",
       "      <td>8.201637e-05</td>\n",
       "      <td>0.0</td>\n",
       "      <td>0.000048</td>\n",
       "      <td>5.342738e-07</td>\n",
       "      <td>0.000000</td>\n",
       "      <td>...</td>\n",
       "      <td>0.0</td>\n",
       "      <td>0.0</td>\n",
       "      <td>0.0</td>\n",
       "      <td>0.0</td>\n",
       "      <td>0.0</td>\n",
       "      <td>0.0</td>\n",
       "      <td>0.0</td>\n",
       "      <td>0.0</td>\n",
       "      <td>0.0</td>\n",
       "      <td>0.0</td>\n",
       "    </tr>\n",
       "    <tr>\n",
       "      <th>1</th>\n",
       "      <td>267194.274897</td>\n",
       "      <td>0.003939</td>\n",
       "      <td>0.012560</td>\n",
       "      <td>0.0</td>\n",
       "      <td>1.047931e-07</td>\n",
       "      <td>4.103322e-07</td>\n",
       "      <td>0.0</td>\n",
       "      <td>0.001054</td>\n",
       "      <td>2.673458e-09</td>\n",
       "      <td>0.000481</td>\n",
       "      <td>...</td>\n",
       "      <td>0.0</td>\n",
       "      <td>0.0</td>\n",
       "      <td>0.0</td>\n",
       "      <td>0.0</td>\n",
       "      <td>0.0</td>\n",
       "      <td>0.0</td>\n",
       "      <td>0.0</td>\n",
       "      <td>0.0</td>\n",
       "      <td>0.0</td>\n",
       "      <td>0.0</td>\n",
       "    </tr>\n",
       "    <tr>\n",
       "      <th>1</th>\n",
       "      <td>267194.029544</td>\n",
       "      <td>0.004191</td>\n",
       "      <td>0.013362</td>\n",
       "      <td>0.0</td>\n",
       "      <td>1.113484e-07</td>\n",
       "      <td>4.359616e-07</td>\n",
       "      <td>0.0</td>\n",
       "      <td>0.001121</td>\n",
       "      <td>2.840344e-09</td>\n",
       "      <td>0.000512</td>\n",
       "      <td>...</td>\n",
       "      <td>0.0</td>\n",
       "      <td>0.0</td>\n",
       "      <td>0.0</td>\n",
       "      <td>0.0</td>\n",
       "      <td>0.0</td>\n",
       "      <td>0.0</td>\n",
       "      <td>0.0</td>\n",
       "      <td>0.0</td>\n",
       "      <td>0.0</td>\n",
       "      <td>0.0</td>\n",
       "    </tr>\n",
       "  </tbody>\n",
       "</table>\n",
       "<p>5 rows × 100 columns</p>\n",
       "</div>"
      ],
      "text/plain": [
       "                   0         1         2    3             4             5   \\\n",
       "userId                                                                       \n",
       "1       267193.975719  0.000000  0.000000  0.0  0.000000e+00  6.442054e-05   \n",
       "1       267193.572223  0.000152  0.000484  0.0  4.075898e-05  1.596274e-04   \n",
       "1       267193.842224  0.000452  0.001440  0.0  2.094189e-05  8.201637e-05   \n",
       "1       267194.274897  0.003939  0.012560  0.0  1.047931e-07  4.103322e-07   \n",
       "1       267194.029544  0.004191  0.013362  0.0  1.113484e-07  4.359616e-07   \n",
       "\n",
       "         6         7             8         9   ...   90   91   92   93   94  \\\n",
       "userId                                         ...                            \n",
       "1       0.0  0.000000  1.001259e-06  0.000000  ...  0.0  0.0  0.0  0.0  0.0   \n",
       "1       0.0  0.000000  8.172697e-07  0.000000  ...  0.0  0.0  0.0  0.0  0.0   \n",
       "1       0.0  0.000048  5.342738e-07  0.000000  ...  0.0  0.0  0.0  0.0  0.0   \n",
       "1       0.0  0.001054  2.673458e-09  0.000481  ...  0.0  0.0  0.0  0.0  0.0   \n",
       "1       0.0  0.001121  2.840344e-09  0.000512  ...  0.0  0.0  0.0  0.0  0.0   \n",
       "\n",
       "         95   96   97   98   99  \n",
       "userId                           \n",
       "1       0.0  0.0  0.0  0.0  0.0  \n",
       "1       0.0  0.0  0.0  0.0  0.0  \n",
       "1       0.0  0.0  0.0  0.0  0.0  \n",
       "1       0.0  0.0  0.0  0.0  0.0  \n",
       "1       0.0  0.0  0.0  0.0  0.0  \n",
       "\n",
       "[5 rows x 100 columns]"
      ]
     },
     "execution_count": 17,
     "metadata": {},
     "output_type": "execute_result"
    }
   ],
   "source": [
    "P.head()"
   ]
  },
  {
   "cell_type": "code",
   "execution_count": 18,
   "id": "eda6a5d3-985a-487e-9b61-a8a418e9aafc",
   "metadata": {},
   "outputs": [
    {
     "data": {
      "text/html": [
       "<div>\n",
       "<style scoped>\n",
       "    .dataframe tbody tr th:only-of-type {\n",
       "        vertical-align: middle;\n",
       "    }\n",
       "\n",
       "    .dataframe tbody tr th {\n",
       "        vertical-align: top;\n",
       "    }\n",
       "\n",
       "    .dataframe thead th {\n",
       "        text-align: right;\n",
       "    }\n",
       "</style>\n",
       "<table border=\"1\" class=\"dataframe\">\n",
       "  <thead>\n",
       "    <tr style=\"text-align: right;\">\n",
       "      <th></th>\n",
       "      <th>movieId</th>\n",
       "      <th>rating</th>\n",
       "      <th>timestamp</th>\n",
       "    </tr>\n",
       "  </thead>\n",
       "  <tbody>\n",
       "    <tr>\n",
       "      <th>0</th>\n",
       "      <td>0.000000</td>\n",
       "      <td>0.0</td>\n",
       "      <td>3611.543630</td>\n",
       "    </tr>\n",
       "    <tr>\n",
       "      <th>1</th>\n",
       "      <td>2382.168816</td>\n",
       "      <td>0.0</td>\n",
       "      <td>4769.139955</td>\n",
       "    </tr>\n",
       "    <tr>\n",
       "      <th>2</th>\n",
       "      <td>1639.026819</td>\n",
       "      <td>0.0</td>\n",
       "      <td>919.807143</td>\n",
       "    </tr>\n",
       "    <tr>\n",
       "      <th>3</th>\n",
       "      <td>0.000000</td>\n",
       "      <td>0.0</td>\n",
       "      <td>0.000000</td>\n",
       "    </tr>\n",
       "    <tr>\n",
       "      <th>4</th>\n",
       "      <td>2708.149484</td>\n",
       "      <td>0.0</td>\n",
       "      <td>2155.906246</td>\n",
       "    </tr>\n",
       "  </tbody>\n",
       "</table>\n",
       "</div>"
      ],
      "text/plain": [
       "       movieId  rating    timestamp\n",
       "0     0.000000     0.0  3611.543630\n",
       "1  2382.168816     0.0  4769.139955\n",
       "2  1639.026819     0.0   919.807143\n",
       "3     0.000000     0.0     0.000000\n",
       "4  2708.149484     0.0  2155.906246"
      ]
     },
     "execution_count": 18,
     "metadata": {},
     "output_type": "execute_result"
    }
   ],
   "source": [
    "Q.head()"
   ]
  },
  {
   "cell_type": "code",
   "execution_count": 8,
   "id": "0c091241-6562-41c8-9813-e3424c5b5801",
   "metadata": {
    "tags": []
   },
   "outputs": [],
   "source": [
    "ratings_rec = pd.DataFrame(np.dot(P, Q), index=ratings_fill.index, columns=movieId)"
   ]
  },
  {
   "cell_type": "code",
   "execution_count": 12,
   "id": "be2d5e0a-8666-4f62-b35a-5c4994b08991",
   "metadata": {
    "tags": []
   },
   "outputs": [
    {
     "data": {
      "text/plain": [
       "3057"
      ]
     },
     "execution_count": 12,
     "metadata": {},
     "output_type": "execute_result"
    }
   ],
   "source": [
    "binary = pickle.dumps(nmf)\n",
    "open(\"nmf_model.bin\", \"wb\").write(binary)"
   ]
  },
  {
   "cell_type": "code",
   "execution_count": 11,
   "id": "52bebce3-aa27-425f-ac8e-409bc6cba44a",
   "metadata": {
    "tags": []
   },
   "outputs": [
    {
     "data": {
      "text/plain": [
       "3241"
      ]
     },
     "execution_count": 11,
     "metadata": {},
     "output_type": "execute_result"
    }
   ],
   "source": [
    "binary_Q = pickle.dumps(Q)\n",
    "open(\"Q.bin\", \"wb\").write(binary_Q)"
   ]
  },
  {
   "cell_type": "code",
   "execution_count": 14,
   "id": "a92b6306-fc33-4c87-b2bd-c00b9e7d7dc4",
   "metadata": {},
   "outputs": [
    {
     "data": {
      "text/plain": [
       "262450.921015848"
      ]
     },
     "execution_count": 14,
     "metadata": {},
     "output_type": "execute_result"
    }
   ],
   "source": [
    "nmf_read = pickle.loads(binary)\n",
    "nmf_read.reconstruction_err_"
   ]
  }
 ],
 "metadata": {
  "kernelspec": {
   "display_name": "Python 3",
   "language": "python",
   "name": "python3"
  },
  "language_info": {
   "codemirror_mode": {
    "name": "ipython",
    "version": 3
   },
   "file_extension": ".py",
   "mimetype": "text/x-python",
   "name": "python",
   "nbconvert_exporter": "python",
   "pygments_lexer": "ipython3",
   "version": "3.7.13"
  }
 },
 "nbformat": 4,
 "nbformat_minor": 5
}
